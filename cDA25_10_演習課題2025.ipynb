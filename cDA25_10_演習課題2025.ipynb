{
  "nbformat": 4,
  "nbformat_minor": 0,
  "metadata": {
    "colab": {
      "provenance": [],
      "collapsed_sections": [
        "BOzYxF1gFEUU",
        "KGbuJK-3tvSW",
        "x2cglv57t4o8",
        "vK6VnqK3JuIn",
        "ari3MJyLTde0",
        "-ZkxkXawFMfI",
        "GJtQWxz7uNUJ",
        "WdxPYLkvYw9q",
        "wuJecI_sY1vw",
        "1NDbKb2durSi",
        "iz4nvq0z6cMt",
        "Ayy3D9ej_FX9",
        "rGTKoOeyCe2u",
        "8BiTczoOqk59",
        "Xys5wQx-MtGi",
        "wIC3jugtM1rT",
        "DGQnM_s5nc3P",
        "REpR92yBnzVi",
        "p-Zbtl6nsO-c",
        "fI9LEkZku0py",
        "ujTkJwuOKS70",
        "CGXWdYxaKX9-"
      ],
      "include_colab_link": true
    },
    "kernelspec": {
      "name": "python3",
      "display_name": "Python 3"
    },
    "language_info": {
      "name": "python"
    }
  },
  "cells": [
    {
      "cell_type": "markdown",
      "metadata": {
        "id": "view-in-github",
        "colab_type": "text"
      },
      "source": [
        "<a href=\"https://colab.research.google.com/github/tunakan12/saikikannsu/blob/main/cDA25_10_%E6%BC%94%E7%BF%92%E8%AA%B2%E9%A1%8C2025.ipynb\" target=\"_parent\"><img src=\"https://colab.research.google.com/assets/colab-badge.svg\" alt=\"Open In Colab\"/></a>"
      ]
    },
    {
      "cell_type": "markdown",
      "source": [
        "#（１）共通ツール：データ生成，配列の出力などの関数群"
      ],
      "metadata": {
        "id": "BOzYxF1gFEUU"
      }
    },
    {
      "cell_type": "markdown",
      "source": [
        "##(1a)ヘッダーファイル"
      ],
      "metadata": {
        "id": "KGbuJK-3tvSW"
      }
    },
    {
      "cell_type": "markdown",
      "source": [
        "構造体：counter\n",
        "  - compare: 比較回数\n",
        "  - swap: 交換回数\n",
        "  - move: 移動回数\n",
        "\n",
        "準備した関数\n",
        "- 基本関数\n",
        "  - swap：指定した２データの交換\n",
        "  - copyarray：配列データの複写\n",
        "  - printarray：配列データの出力\n",
        "- データ読み込み関数\n",
        "  - allocate_member：新しいメンバを割り当てる\n",
        "  - read_members_from_file：ファイルからメンバを読み込む\n",
        "  - init_members_from_file：新しいメンバを読み込む\n",
        "  - add_members_from_file：追加のメンバを読み込む\n",
        "- 比較関数\n",
        "  - compare_by_yomi：名前(読み)(yomi)で比較\n",
        "  - compare_by_age：年齢(age)で比較\n",
        "  - compare_by_height：身長(height)で比較\n",
        "  - compare_by_score：強さ(score)で比較\n",
        "  - compare_by_group：所属(group)で比較\n",
        "- ソート関数\n",
        "  - bubble_sort：バブルソート\n",
        "  - bubble2_sort：改良バブルソート\n",
        "  - shaker_sort：シェーカーソート\n",
        "  - select_sort：選択ソート\n",
        "  - insert_sort：挿入ソート\n",
        "  - quick_sort：クイックソート"
      ],
      "metadata": {
        "id": "VfTv6meV7BZC"
      }
    },
    {
      "cell_type": "code",
      "source": [
        "%%file main.h\n",
        "#define MAX_NAME  (12*3)\n",
        "#define MAX_ATTR  (3*3)\n",
        "// Member構造体の定義\n",
        "typedef struct member {\n",
        "    char  name[MAX_NAME+1];  // 名前(漢字表記)\n",
        "    char  yomi[MAX_NAME+1];  // 読み(カタカナ表記)\n",
        "    char  group[MAX_NAME+1]; // 所属\n",
        "    char  attr[MAX_ATTR+1];  // 属性\n",
        "    int   age;               // 年齢\n",
        "    float height;            // 身長\n",
        "    int   score;             // 強さ\n",
        "} Member;\n",
        "// 比較関数型へのポインタ\n",
        "typedef int (*CmpFunc)(const Member *, const Member *, int);\n",
        "// カウンタ型\n",
        "typedef struct counter{\n",
        "    int compare;\n",
        "    int swap;\n",
        "    int move;\n",
        "} Counter;\n",
        "\n",
        "// tool functions\n",
        "Member *allocate_member(const char *name, const char *yomi, const char *group, const char *attr, int age, float height, int score);\n",
        "Member **init_members_from_file(const char *filename, int *ret_num);\n",
        "Member **add_members_from_file(const char *filename, int *ret_num, Member **member_array);\n",
        "void swap(Member *data[], int idx1, int idx2);\n",
        "void copyarray(int n, Member *data1[], Member *data2[]);\n",
        "void printarray(int n, Member *data[]);\n",
        "\n",
        "// counter functions\n",
        "extern Counter ctr;\n",
        "void print_counter(void);\n",
        "void reset_counter(void);\n",
        "\n",
        "// compare functions\n",
        "int compare_by_yomi(const Member *data1, const Member *data2, int descending);\n",
        "int compare_by_age(const Member *data1, const Member *data2, int descending);\n",
        "int compare_by_height(const Member *data1, const Member *data2, int descending);\n",
        "int compare_by_score(const Member *data1, const Member *data2, int descending);\n",
        "int compare_by_group(const Member *data1, const Member *data2, int descending);\n",
        "\n",
        "// sort functions\n",
        "void launch_sort(int n, Member *data[], void (*sort_func)(int, Member**, CmpFunc, int), CmpFunc cmp, int descending, const char *sort_name, const char *cmp_name);\n",
        "#define LAUNCH_SORT(n, data, sort_func, cmp, descending)  launch_sort(n, data, sort_func, cmp, descending, #sort_func, #cmp)\n",
        "void bubble_sort(int n, Member *data[], CmpFunc cmp, int descending);\n",
        "void bubble2_sort(int n, Member *data[], CmpFunc cmp, int descending);\n",
        "void shaker_sort(int n, Member *data[], CmpFunc cmp, int descending);\n",
        "void select_sort(int n, Member *data[], CmpFunc cmp, int descending);\n",
        "void insert_sort(int n, Member *data[], CmpFunc cmp, int descending);\n",
        "void quick_sort(int n, Member *data[], CmpFunc cmp, int descending);"
      ],
      "metadata": {
        "id": "arnKUk0tlqAD",
        "colab": {
          "base_uri": "https://localhost:8080/"
        },
        "outputId": "9cdd8d2a-83f7-407b-ba49-fe1d3f2d2479"
      },
      "execution_count": null,
      "outputs": [
        {
          "output_type": "stream",
          "name": "stdout",
          "text": [
            "Writing main.h\n"
          ]
        }
      ]
    },
    {
      "cell_type": "markdown",
      "source": [
        "##(1b)データ生成，配列の出力，コピー"
      ],
      "metadata": {
        "id": "x2cglv57t4o8"
      }
    },
    {
      "cell_type": "markdown",
      "source": [
        "基本関数\n",
        "- swap\n",
        " - 処理：指定した２データの交換\n",
        " - 入力：data[](Member*)：配列データ\n",
        " - 入力：idx1, 1dx2(int)：交換データのインデックス\n",
        "- copyarray\n",
        " - 処理：配列データの複写\n",
        " - 入力：n(int)：データサイズ，data1[](Member*)：入力元配列データ\n",
        " - 出力：data2[](int)：出力先配列データ\n",
        "- printarray\n",
        " - 処理：配列データの出力\n",
        " - 入力：n(int)：データサイズ，data[](Member*)：配列データ\n",
        " - 出力：出力先への配列データの出力\n",
        "\n",
        "カウンタ操作\n",
        "- print_counter\n",
        " - 処理：カウンタを表示(lap, all)\n",
        "- reset_counter\n",
        " - 処理：現在のカウンタをトータルカウンタに足しこみ、リセット\n",
        "\n",
        "メンバの割り当てと読み込み\n",
        "- allocate_member\n",
        " - 処理：新しいメンバ用の構造体を確保し代入\n",
        " - 入力：メンバの情報\n",
        " - 出力：Member型へのポインタ\n",
        "- read_members_from_file\n",
        " - 処理：CSVファイルからのメンバ情報の読み出し\n",
        " - 入力：filename(char\\*):ファイル名，ret_num(int\\*):データサイズへのポインタ，member_array(Member\\*\\*):メンバへの配列\n",
        " - 出力：情報格納後のメンバへの配列\n",
        "- init_members_from_file\n",
        " - 処理：CSVファイルからの初期メンバの読み出し\n",
        "- add_members_from_file\n",
        " - 処理：CSVファイルからの追加メンバの読み出し\n",
        "\n",
        "ソート関数の呼び出し\n",
        "- launch_sort\n",
        " - 処理：ソート関数の呼び出しを行う。LAUNCH_SORTマクロを使うことにより、ソート関数名、比較関数名、昇順/降順を自動的に表示する。"
      ],
      "metadata": {
        "id": "clfcv7fp_vV7"
      }
    },
    {
      "cell_type": "code",
      "source": [
        "%%file tool.c\n",
        "#include <stdio.h>\n",
        "#include <stdlib.h>\n",
        "#include <string.h>\n",
        "#include <time.h>\n",
        "#include \"main.h\"\n",
        "void swap(Member *data[], int idx1, int idx2) {\n",
        "    Member *temp;\n",
        "    if (idx1 != idx2) {\n",
        "        temp = data[idx1];\n",
        "        data[idx1] = data[idx2];\n",
        "        data[idx2] = temp;\n",
        "    }\n",
        "    return;\n",
        "}\n",
        "void printarray(int n, Member *data[]) {\n",
        "    for(int i=0; i<n; i++){\n",
        "        printf(\"%s(%s): 年齢:%d, 身長:%3.1lf, 強さ:%d, 所属:%s, 属性:%s\\n\",\n",
        "               data[i]->name, data[i]->yomi, data[i]->age, data[i]->height,\n",
        "               data[i]->score, data[i]->group, data[i]->attr);\n",
        "    }\n",
        "    return;\n",
        "}\n",
        "void copyarray(int n, Member *data1[], Member *data2[]) {\n",
        "    for(int i=0; i<n; i++){\n",
        "        data2[i] = data1[i];\n",
        "    }\n",
        "    return;\n",
        "}\n",
        "/**\n",
        " * カウンタの操作\n",
        " */\n",
        "Counter ctr;\n",
        "Counter total_ctr;\n",
        "void print_counter(void) {\n",
        "    printf(\"lap: compare = %d, swap = %d, move = %d\\n\", ctr.compare, ctr.swap, ctr.move);\n",
        "    printf(\"all: compare = %d, swap = %d, move = %d\\n\",\n",
        "           total_ctr.compare+ctr.compare, total_ctr.swap+ctr.swap, total_ctr.move+ctr.move);\n",
        "}\n",
        "void reset_counter(void) {\n",
        "    total_ctr.compare += ctr.compare;\n",
        "    total_ctr.swap    += ctr.swap;\n",
        "    total_ctr.move    += ctr.move;\n",
        "    ctr.compare = ctr.swap = ctr.move = 0;\n",
        "}\n",
        "\n",
        "/**\n",
        " * メンバの割り当てと読み込み\n",
        " */\n",
        "Member *allocate_member(const char *name, const char *yomi, const char *group, const char *attr, int age, float height, int score) {\n",
        "    Member *new_member;\n",
        "    new_member = (Member *)malloc(sizeof(Member));\n",
        "    if (new_member == NULL) {\n",
        "        printf(\"Cannot allocate new member\\n\");\n",
        "        return NULL;\n",
        "    }\n",
        "    strncpy(new_member->name, name, MAX_NAME);\n",
        "    strncpy(new_member->yomi, yomi, MAX_NAME);\n",
        "    strncpy(new_member->group, group, MAX_NAME);\n",
        "    strncpy(new_member->attr, attr, MAX_ATTR);\n",
        "    new_member->age = age;\n",
        "    new_member->height = height;\n",
        "    new_member->score = score;\n",
        "    return new_member;\n",
        "}\n",
        "Member **read_members_from_file(const char *filename, int *ret_num, Member **member_array) {\n",
        "    FILE *fin;\n",
        "    char buf[BUFSIZ];\n",
        "    int num_members, i;\n",
        "    char name[MAX_NAME+1];\n",
        "    char yomi[MAX_NAME+1];\n",
        "    char group[MAX_NAME+1];\n",
        "    char attr[MAX_ATTR+1];\n",
        "    int age;\n",
        "    float height;\n",
        "    int score;\n",
        "\n",
        "    fin = fopen(filename, \"r\");\n",
        "    if (fin == NULL) {\n",
        "        printf(\"Cannot open %s\\n\", filename);\n",
        "        return NULL;\n",
        "    }\n",
        "    if (fgets(buf, BUFSIZ, fin) == NULL || sscanf(buf, \"%d\", &num_members) < 1) {\n",
        "        printf(\"Illegal format %s\\n\", filename);\n",
        "        fclose(fin);\n",
        "        return NULL;\n",
        "    }\n",
        "    if (member_array == NULL) {\n",
        "        member_array = (Member**)malloc(sizeof(Member) * num_members);\n",
        "        if (member_array == NULL) {\n",
        "            printf(\"Cannot allocate array\\n\");\n",
        "            fclose(fin);\n",
        "            return NULL;\n",
        "        }\n",
        "    } else {\n",
        "        Member **tmp_member_array = (Member**)realloc(member_array, (sizeof(Member) * (num_members + *ret_num)));\n",
        "        if (tmp_member_array == NULL) {\n",
        "            printf(\"Cannot reallocate array\\n\");\n",
        "            fclose(fin);\n",
        "            return member_array;\n",
        "        }\n",
        "        member_array = tmp_member_array;\n",
        "    }\n",
        "    for (i = 0; i < num_members; i++) {\n",
        "        if (fgets(buf, BUFSIZ, fin) == NULL ||\n",
        "            sscanf(buf, \"%[^,],%[^,],%[^,],%[^,],%d,%f,%d\",\n",
        "                   name, yomi, group, attr, &age, &height, &score) < 7){\n",
        "            printf(\"Illegal format %s in line %d\\n\", filename, i+1);\n",
        "            break;\n",
        "        }\n",
        "        member_array[*ret_num + i] = allocate_member(name, yomi, group ,attr, age, height, score);\n",
        "    }\n",
        "    fclose(fin);\n",
        "    *ret_num += i;\n",
        "    return member_array;\n",
        "}\n",
        "Member **init_members_from_file(const char *filename, int *ret_num) {\n",
        "    *ret_num = 0;\n",
        "    return read_members_from_file(filename, ret_num, NULL);\n",
        "}\n",
        "Member **add_members_from_file(const char *filename, int *ret_num, Member **member_array) {\n",
        "    return read_members_from_file(filename, ret_num, member_array);\n",
        "}\n",
        "/**\n",
        " * ソート関数を呼び出し、その時のソート関数名、比較関数名、昇順か降順かを表示する\n",
        " */\n",
        "void launch_sort(int n, Member *data[], void (*sort_func)(int, Member**, CmpFunc, int), CmpFunc cmp, int descending,\n",
        "                 const char *sort_name, const char *cmp_name) {\n",
        "    printf(\"\\n%s with %s(%s)\\n\", sort_name, cmp_name, descending ? \"descending\" : \"ascending\");\n",
        "    sort_func(n, data, cmp, descending);\n",
        "}"
      ],
      "metadata": {
        "id": "d4lXnNM2lufn",
        "colab": {
          "base_uri": "https://localhost:8080/"
        },
        "outputId": "56db48c0-4d0c-4916-cc75-f79fa8e21fd7"
      },
      "execution_count": null,
      "outputs": [
        {
          "output_type": "stream",
          "name": "stdout",
          "text": [
            "Writing tool.c\n"
          ]
        }
      ]
    },
    {
      "cell_type": "markdown",
      "source": [
        "##(1c)比較関数"
      ],
      "metadata": {
        "id": "vK6VnqK3JuIn"
      }
    },
    {
      "cell_type": "code",
      "source": [
        "%%file compare.c\n",
        "#include <stdio.h>\n",
        "#include <stdlib.h>\n",
        "#include <string.h>\n",
        "#include \"main.h\"\n",
        "\n",
        "// 名前(読み)(yomi)で比較\n",
        "int compare_by_yomi(const Member *data1, const Member *data2, int descending) {\n",
        "    int result = strcmp(data1->yomi, data2->yomi);\n",
        "    if (descending) {\n",
        "        result = -result;\n",
        "    }\n",
        "    return result;\n",
        "}\n",
        "// 年齢(age)で比較\n",
        "int compare_by_age(const Member *data1, const Member *data2, int descending) {\n",
        "    int result;\n",
        "    // ダミー\n",
        "    return 0;\n",
        "}\n",
        "// 身長(height)で比較\n",
        "int compare_by_height(const Member *data1, const Member *data2, int descending) {\n",
        "    int result;\n",
        "    // ダミー\n",
        "    return 0;\n",
        "}\n",
        "// 強さ(score)で比較\n",
        "int compare_by_score(const Member *data1, const Member *data2, int descending) {\n",
        "    int result;\n",
        "    // ダミー\n",
        "    return result;\n",
        "}\n",
        "// 所属(group)で比較\n",
        "int compare_by_group(const Member *data1, const Member *data2, int descending) {\n",
        "    int result;\n",
        "\n",
        "    return result;\n",
        "}"
      ],
      "metadata": {
        "colab": {
          "base_uri": "https://localhost:8080/"
        },
        "id": "12gNF75EIeSN",
        "outputId": "c7318610-58e4-4783-b417-ba487e34357e"
      },
      "execution_count": null,
      "outputs": [
        {
          "output_type": "stream",
          "name": "stdout",
          "text": [
            "Writing compare.c\n"
          ]
        }
      ]
    },
    {
      "cell_type": "markdown",
      "source": [
        "##(1d)メンバ定義\n",
        "\n",
        "最初の1行目に全部で何人分のデータが続くかを示す整数。\n",
        "以下、各行に\n",
        "\n",
        "名前,読み,所属,属性,年齢,身長,強さ\n",
        "\n",
        "の順に与える。"
      ],
      "metadata": {
        "id": "ari3MJyLTde0"
      }
    },
    {
      "cell_type": "code",
      "source": [
        "%%file members.csv\n",
        "15\n",
        "竈門炭治郎,カマドタンジロウ,蒲鉾,水,16,165.0,40\n",
        "冨岡義勇,トミオカギユウ,柱,水,21,176.0,80\n",
        "竈門禰豆子,カマドネズコ,蒲鉾,鬼,14,150.0,30\n",
        "我妻善逸,アガツマゼンイツ,蒲鉾,雷,16,164.5,40\n",
        "栗花落カナヲ,ツユリカナヲ,五感,花,16,156.0,50\n",
        "嘴平伊之助,ハシビライノスケ,蒲鉾,獣,15,164.0,40\n",
        "胡蝶しのぶ,コチョウシノブ,柱,蟲,18,151.0,70\n",
        "煉獄杏寿郎,レンゴクキョウジュロウ,柱,炎,20,177.0,80\n",
        "宇随天元,ウズイテンゲン,柱,音,23,198.0,80\n",
        "時透無一郎,トキトウムイチロウ,柱,霞,14,160.0,90\n",
        "甘露寺蜜璃,カンロジミツリ,柱,恋,19,167.0,70\n",
        "伊黒小芭内,イグロオバナイ,柱,蛇,21,162.0,70\n",
        "不死川玄弥,シナズガワゲンヤ,五感,鬼,16,180.0,30\n",
        "不死川実弥,シナズガワサネミ,柱,風,21,179.0,90\n",
        "悲鳴嶋行冥,ヒメジマギョウメイ,柱,岩,27,220.0,100\n"
      ],
      "metadata": {
        "colab": {
          "base_uri": "https://localhost:8080/"
        },
        "id": "hdBeM5-DS39K",
        "outputId": "e489a2d2-f6bc-430a-d402-09fbd97df4a2"
      },
      "execution_count": null,
      "outputs": [
        {
          "output_type": "stream",
          "name": "stdout",
          "text": [
            "Writing members.csv\n"
          ]
        }
      ]
    },
    {
      "cell_type": "code",
      "source": [
        "%%file members2.csv\n",
        "2\n",
        "鱗滝左近次,ウロコダキサコンジ,育手,水,55,170.5,60\n",
        "桑島慈悟郎,クワジマジゴロウ,育手,雷,60,165.5,50"
      ],
      "metadata": {
        "colab": {
          "base_uri": "https://localhost:8080/"
        },
        "id": "NKvUXqOr5mJG",
        "outputId": "71ae65cd-006b-46b7-f3ad-980348a484e1"
      },
      "execution_count": null,
      "outputs": [
        {
          "output_type": "stream",
          "name": "stdout",
          "text": [
            "Writing members2.csv\n"
          ]
        }
      ]
    },
    {
      "cell_type": "markdown",
      "source": [
        "#（２）ソートプログラム群"
      ],
      "metadata": {
        "id": "-ZkxkXawFMfI"
      }
    },
    {
      "cell_type": "markdown",
      "source": [
        "- ソートプログラム群の共通形式\n",
        " - 入力 n(int)：データサイズ，data\\[\\](Member\\*)：配列データ，cmp：比較関数，descending：0なら昇順・0以外なら降順\n",
        " - 出力 data\\[\\](Member\\*)：ソートされた配列データ\n"
      ],
      "metadata": {
        "id": "9i76IWdDjp2q"
      }
    },
    {
      "cell_type": "markdown",
      "source": [
        "##(2a)バブルソート オリジナル"
      ],
      "metadata": {
        "id": "GJtQWxz7uNUJ"
      }
    },
    {
      "cell_type": "code",
      "source": [
        "%%file bubble_sort.c\n",
        "#include <stdio.h>\n",
        "#include <stdlib.h>\n",
        "#include <string.h>\n",
        "#include \"main.h\"\n",
        "void bubble_sort(int n, Member *data[], CmpFunc cmp, int descending){\n",
        "    reset_counter();\n",
        "    for (int i=n-1; i>=1; i--) {\n",
        "        for (int j=1; j<=i; j++) {\n",
        "            ctr.compare++;\n",
        "            if (cmp(data[j-1], data[j], descending)> 0) {\n",
        "                swap(data, j-1, j);\n",
        "                ctr.swap++;\n",
        "            }\n",
        "        }\n",
        "    }\n",
        "    return;\n",
        "}"
      ],
      "metadata": {
        "id": "tX2Ovehblzi_",
        "colab": {
          "base_uri": "https://localhost:8080/"
        },
        "outputId": "03a63288-a255-4e09-e228-b4e63c33fee0"
      },
      "execution_count": null,
      "outputs": [
        {
          "output_type": "stream",
          "name": "stdout",
          "text": [
            "Writing bubble_sort.c\n"
          ]
        }
      ]
    },
    {
      "cell_type": "markdown",
      "source": [
        "##(2b)バブルソート改良版"
      ],
      "metadata": {
        "id": "WdxPYLkvYw9q"
      }
    },
    {
      "cell_type": "code",
      "source": [
        "%%file bubble2_sort.c\n",
        "#include <stdio.h>\n",
        "#include <stdlib.h>\n",
        "#include <string.h>\n",
        "#include \"main.h\"\n",
        "void bubble2_sort(int n, Member *data[], CmpFunc cmp, int descending){\n",
        "    int jswap, jmax;\n",
        "    reset_counter();\n",
        "    jmax = n-1;\n",
        "    for (int i=n-1; i>=1; i--) {\n",
        "            jswap = 1;\n",
        "        for (int j=1; j<=jmax; j++) {\n",
        "            ctr.compare++;\n",
        "            if (cmp(data[j-1], data[j], descending) > 0) {\n",
        "                jswap = j;\n",
        "                swap(data, j-1, j);\n",
        "                ctr.swap++;\n",
        "            }\n",
        "        }\n",
        "        jmax = jswap-1;\n",
        "    }\n",
        "    return;\n",
        "}"
      ],
      "metadata": {
        "id": "aUhciQzBVXXl",
        "colab": {
          "base_uri": "https://localhost:8080/"
        },
        "outputId": "cd8ad231-9723-49ef-a287-32d47b1f17fa"
      },
      "execution_count": null,
      "outputs": [
        {
          "output_type": "stream",
          "name": "stdout",
          "text": [
            "Writing bubble2_sort.c\n"
          ]
        }
      ]
    },
    {
      "cell_type": "markdown",
      "source": [
        "##(2c)シェーカーソート"
      ],
      "metadata": {
        "id": "wuJecI_sY1vw"
      }
    },
    {
      "cell_type": "code",
      "source": [
        "%%file shaker_sort.c\n",
        "#include <stdio.h>\n",
        "#include <stdlib.h>\n",
        "#include <string.h>\n",
        "#include \"main.h\"\n",
        "void shaker_sort(int n, Member *data[], CmpFunc cmp, int descending){\n",
        "    int jmin=0, jmax=n-1, j, temp, jswap;\n",
        "    reset_counter();\n",
        "    while(1){\n",
        "        if (jmin>=jmax) break;\n",
        "        jswap = jmax;\n",
        "        for (j=jmax; j>jmin; j--) {\n",
        "            ctr.compare++;\n",
        "            if (cmp(data[j-1], data[j], descending) > 0) {\n",
        "                jswap = j;\n",
        "                swap(data, j-1, j);\n",
        "                ctr.swap++;\n",
        "            }\n",
        "        }\n",
        "        jmin = jswap;\n",
        "        if (jmin>=jmax) break;\n",
        "        jswap = 0;\n",
        "        for (j=jmin; j<jmax; j++) {\n",
        "            ctr.compare++;\n",
        "            if (cmp(data[j], data[j+1], descending) > 0) {\n",
        "                jswap = j;\n",
        "                swap(data, j, j+1);\n",
        "                ctr.swap++;\n",
        "            }\n",
        "        }\n",
        "        jmax = jswap;\n",
        "    }\n",
        "}"
      ],
      "metadata": {
        "id": "h9rYTqPImErd",
        "colab": {
          "base_uri": "https://localhost:8080/"
        },
        "outputId": "29d940e0-e0de-4624-881f-fd0f3106463d"
      },
      "execution_count": null,
      "outputs": [
        {
          "output_type": "stream",
          "name": "stdout",
          "text": [
            "Writing shaker_sort.c\n"
          ]
        }
      ]
    },
    {
      "cell_type": "markdown",
      "source": [
        "##(2d)選択ソート"
      ],
      "metadata": {
        "id": "1NDbKb2durSi"
      }
    },
    {
      "cell_type": "code",
      "source": [
        "%%file select_sort.c\n",
        "#include <stdio.h>\n",
        "#include <stdlib.h>\n",
        "#include <string.h>\n",
        "#include \"main.h\"\n",
        "void select_sort(int n, Member *data[], CmpFunc cmp, int descending){\n",
        "    int i_min;\n",
        "    Member *min;\n",
        "    reset_counter();\n",
        "    for (int i=0; i<n-1; i++) {\n",
        "        i_min=i;\n",
        "        min=data[i];\n",
        "        for (int j=i+1; j<n; j++) {\n",
        "            if (cmp(min, data[j], descending) > 0){\n",
        "                i_min=j;\n",
        "                min=data[j];\n",
        "            }\n",
        "            ctr.compare++;\n",
        "        }\n",
        "        swap(data, i_min, i);\n",
        "        ctr.swap++;\n",
        "    }\n",
        "    return;\n",
        "}"
      ],
      "metadata": {
        "id": "98nl0Ws9up9W",
        "colab": {
          "base_uri": "https://localhost:8080/"
        },
        "outputId": "da2b631a-d2f1-4edb-8dc1-1d46bd03e67e"
      },
      "execution_count": null,
      "outputs": [
        {
          "output_type": "stream",
          "name": "stdout",
          "text": [
            "Writing select_sort.c\n"
          ]
        }
      ]
    },
    {
      "cell_type": "markdown",
      "source": [
        "##(2e)挿入ソート"
      ],
      "metadata": {
        "id": "iz4nvq0z6cMt"
      }
    },
    {
      "cell_type": "code",
      "source": [
        "%%file insert_sort.c\n",
        "#include <stdio.h>\n",
        "#include <stdlib.h>\n",
        "#include <string.h>\n",
        "#include \"main.h\"\n",
        "void insert_sort(int n, Member *data[], CmpFunc cmp, int descending){\n",
        "    reset_counter();\n",
        "    for (int i=1; i<n; i++) {\n",
        "        for (int j=i; j>0; j--) {\n",
        "            ctr.compare++;\n",
        "            if (cmp(data[j-1], data[j], descending) > 0) {\n",
        "                swap(data, j-1, j);\n",
        "                ctr.swap++;\n",
        "            }\n",
        "            else break;\n",
        "        }\n",
        "    }\n",
        "    return;\n",
        "}"
      ],
      "metadata": {
        "id": "3Ly80-2X66VJ",
        "colab": {
          "base_uri": "https://localhost:8080/"
        },
        "outputId": "c3e66b94-88a5-4379-bf28-b82b46edc70e"
      },
      "execution_count": null,
      "outputs": [
        {
          "output_type": "stream",
          "name": "stdout",
          "text": [
            "Writing insert_sort.c\n"
          ]
        }
      ]
    },
    {
      "cell_type": "markdown",
      "source": [
        "##(2f)クイックソート"
      ],
      "metadata": {
        "id": "Ayy3D9ej_FX9"
      }
    },
    {
      "cell_type": "code",
      "source": [
        "%%file quick_sort.c\n",
        "#include <stdio.h>\n",
        "#include <stdlib.h>\n",
        "#include <string.h>\n",
        "#include \"main.h\"\n",
        "void quicksort(Member *data[], CmpFunc cmp, int descending, int l, int r){\n",
        "    int mid, i, j;\n",
        "    Member *pivot;\n",
        "    mid=(l+r)/2; pivot=data[mid];\n",
        "    i=l; j=r;\n",
        "    while (i<=j) {\n",
        "        ctr.compare++;\n",
        "        while (cmp(data[i], pivot, descending) < 0) {\n",
        "            i=i+1;\n",
        "            ctr.compare++;\n",
        "        }\n",
        "        ctr.compare++;\n",
        "        while (cmp(pivot, data[j], descending) < 0) {\n",
        "            j=j-1;\n",
        "            ctr.compare++;\n",
        "        }\n",
        "        if(i<=j){\n",
        "            swap(data, i, j);\n",
        "            ctr.swap++;\n",
        "            i=i+1; j=j-1;\n",
        "        }\n",
        "    }\n",
        "    if (l<j)quicksort(data, cmp, descending, l, j);\n",
        "    if (i<r)quicksort(data, cmp, descending, i, r);\n",
        "    return;\n",
        "}\n",
        "void quick_sort(int n, Member *data[], CmpFunc cmp, int descending){\n",
        "    reset_counter();\n",
        "    quicksort(data, cmp, descending, 0, n-1);\n",
        "    return;\n",
        "}"
      ],
      "metadata": {
        "id": "xEg4pYt-_Jky",
        "colab": {
          "base_uri": "https://localhost:8080/"
        },
        "outputId": "3302ddda-760e-4672-9ddb-e569ba1015e4"
      },
      "execution_count": null,
      "outputs": [
        {
          "output_type": "stream",
          "name": "stdout",
          "text": [
            "Writing quick_sort.c\n"
          ]
        }
      ]
    },
    {
      "cell_type": "markdown",
      "source": [
        "##(2g)コンパイル"
      ],
      "metadata": {
        "id": "rGTKoOeyCe2u"
      }
    },
    {
      "cell_type": "code",
      "source": [
        "!gcc tool.c -c\n",
        "!gcc compare.c -c\n",
        "!gcc bubble_sort.c -c\n",
        "!gcc bubble2_sort.c -c\n",
        "!gcc shaker_sort.c -c\n",
        "!gcc select_sort.c -c\n",
        "!gcc insert_sort.c -c\n",
        "!gcc quick_sort.c -c"
      ],
      "metadata": {
        "id": "BftkMXLtCEp4"
      },
      "execution_count": null,
      "outputs": []
    },
    {
      "cell_type": "markdown",
      "source": [
        "#演習テスト 課題１ 比較関数"
      ],
      "metadata": {
        "id": "7J9bktACMk9Y"
      }
    },
    {
      "cell_type": "markdown",
      "source": [
        "##課題1 比較関数\n",
        "1. 年齢(age)で比較する関数 compare_by_age を作成せよ。\n",
        "2. 身長(height)で比較する関数 compare_by_height を作成せよ。\n",
        "3. 強さ(score)で比較する関数 compare_by_score を作成せよ。\n",
        "4. 所属(group)で比較する関数 compare_by_group を作成せよ。\n",
        "\n",
        "なお、比較関数は data1, data2, descending を引数として取り、\n",
        "+ data1 が data2 より前にあるべき時は -1\n",
        "+ data1 が data2 と同じ時は 0\n",
        "+ data1 が data2 より後ろにあるべき時は 1\n",
        "\n",
        "を返す関数とする。descending が 0以外の場合は、符号が逆転する。"
      ],
      "metadata": {
        "id": "DymQ9orKqjX6"
      }
    },
    {
      "cell_type": "code",
      "source": [
        "%%file compare.c\n",
        "#include <stdio.h>\n",
        "#include <stdlib.h>\n",
        "#include <string.h>\n",
        "#include \"main.h\"\n",
        "\n",
        "// 名前(読み)(yomi)で比較\n",
        "int compare_by_yomi(const Member *data1, const Member *data2, int descending) {\n",
        "    int result = strcmp(data1->yomi, data2->yomi);\n",
        "    if (descending) {\n",
        "        result = -result;\n",
        "    }\n",
        "    return result;\n",
        "}\n",
        "// 課題1-1: 年齢(age)で比較\n",
        "int compare_by_age(const Member *data1, const Member *data2, int descending) {\n",
        "    int result;\n",
        "    // ここを記述する\n",
        "    return result;\n",
        "}\n",
        "// 課題1-2: 身長(height)で比較\n",
        "int compare_by_height(const Member *data1, const Member *data2, int descending) {\n",
        "    int result;\n",
        "    // ここを記述する\n",
        "    return result;\n",
        "}\n",
        "// 課題1-3: 強さ(score)で比較\n",
        "int compare_by_score(const Member *data1, const Member *data2, int descending) {\n",
        "    int result;\n",
        "    // ここを記述する\n",
        "    return result;\n",
        "}\n",
        "// 課題1-4: 所属(group)で比較\n",
        "int compare_by_group(const Member *data1, const Member *data2, int descending) {\n",
        "    int result;\n",
        "    // ここを記述する\n",
        "    return result;\n",
        "}"
      ],
      "metadata": {
        "colab": {
          "base_uri": "https://localhost:8080/"
        },
        "outputId": "145afab3-3ef0-4d7e-c942-44be9f8cf834",
        "id": "CiKU-0_zqjYA"
      },
      "execution_count": null,
      "outputs": [
        {
          "output_type": "stream",
          "name": "stdout",
          "text": [
            "Overwriting compare.c\n"
          ]
        }
      ]
    },
    {
      "cell_type": "markdown",
      "source": [
        "###メインプログラム"
      ],
      "metadata": {
        "id": "8BiTczoOqk59"
      }
    },
    {
      "cell_type": "code",
      "source": [
        "%%file test1.c\n",
        "#include <stdio.h>\n",
        "#include <stdlib.h>\n",
        "#include <string.h>\n",
        "#include \"main.h\"\n",
        "\n",
        "int main(void) {\n",
        "    Member **member_array;\n",
        "    int num_members;\n",
        "\n",
        "    // メンバーの読み込み\n",
        "    member_array = init_members_from_file(\"members.csv\", &num_members);\n",
        "\n",
        "    printf(\"initial:\\n\");\n",
        "    printarray(num_members, member_array);\n",
        "\n",
        "    // 名前の読み(yomi)順にソート\n",
        "    LAUNCH_SORT(num_members, member_array, quick_sort, compare_by_yomi, 0);\n",
        "    printarray(num_members, member_array);\n",
        "    print_counter();\n",
        "\n",
        "    // 課題1-1: 身長(height)の高い順にソート\n",
        "    printf(\"\\n課題1-1: \");\n",
        "    LAUNCH_SORT(num_members, member_array, shaker_sort, compare_by_height, 1);\n",
        "    printarray(num_members, member_array);\n",
        "    print_counter();\n",
        "\n",
        "    // 課題1-2: 年齢(age)の若い順にソート\n",
        "    printf(\"\\n課題1-2: \");\n",
        "    LAUNCH_SORT(num_members, member_array, insert_sort, compare_by_age, 0);\n",
        "    printarray(num_members, member_array);\n",
        "    print_counter();\n",
        "\n",
        "    // 課題1-3: 強さ(score)の強い順にソート\n",
        "    printf(\"\\n課題1-3: \");\n",
        "    LAUNCH_SORT(num_members, member_array, select_sort, compare_by_score, 1);\n",
        "    printarray(num_members, member_array);\n",
        "    print_counter();\n",
        "\n",
        "    // 課題1-4: 所属(group)ごとにソート\n",
        "    printf(\"\\n課題1-4: \");\n",
        "    LAUNCH_SORT(num_members, member_array, bubble_sort, compare_by_group, 0);\n",
        "    printarray(num_members, member_array);\n",
        "    print_counter();\n",
        "\n",
        "    return 0;\n",
        "}"
      ],
      "metadata": {
        "id": "-pd1IsgPNGeS",
        "colab": {
          "base_uri": "https://localhost:8080/"
        },
        "outputId": "68e681ef-4d52-49e5-8dcd-abff5845f0d7"
      },
      "execution_count": null,
      "outputs": [
        {
          "output_type": "stream",
          "name": "stdout",
          "text": [
            "Writing test1.c\n"
          ]
        }
      ]
    },
    {
      "cell_type": "markdown",
      "source": [
        "###コンパイル（test1.c）＆リンク"
      ],
      "metadata": {
        "id": "Xys5wQx-MtGi"
      }
    },
    {
      "cell_type": "code",
      "source": [
        "!gcc compare.c -c\n",
        "!gcc test1.c -c\n",
        "!gcc tool.o compare.o bubble_sort.o bubble2_sort.o shaker_sort.o insert_sort.o select_sort.o quick_sort.o test1.o -o test1"
      ],
      "metadata": {
        "id": "RZyn6EgIOprw"
      },
      "execution_count": null,
      "outputs": []
    },
    {
      "cell_type": "markdown",
      "source": [
        "###実行"
      ],
      "metadata": {
        "id": "wIC3jugtM1rT"
      }
    },
    {
      "cell_type": "code",
      "source": [
        "!./test1"
      ],
      "metadata": {
        "id": "mT5Ke1frO08G",
        "colab": {
          "base_uri": "https://localhost:8080/"
        },
        "outputId": "2c3446b0-5695-4dea-e2b6-791a22636eca"
      },
      "execution_count": null,
      "outputs": [
        {
          "output_type": "stream",
          "name": "stdout",
          "text": [
            "initial:\n",
            "竈門炭治郎(カマドタンジロウ): 年齢:16, 身長:165.0, 強さ:40, 所属:蒲鉾, 属性:水\n",
            "冨岡義勇(トミオカギユウ): 年齢:21, 身長:176.0, 強さ:80, 所属:柱, 属性:水\n",
            "竈門禰豆子(カマドネズコ): 年齢:14, 身長:150.0, 強さ:30, 所属:蒲鉾, 属性:鬼\n",
            "我妻善逸(アガツマゼンイツ): 年齢:16, 身長:164.5, 強さ:40, 所属:蒲鉾, 属性:雷\n",
            "栗花落カナヲ(ツユリカナヲ): 年齢:16, 身長:156.0, 強さ:50, 所属:五感, 属性:花\n",
            "嘴平伊之助(ハシビライノスケ): 年齢:15, 身長:164.0, 強さ:40, 所属:蒲鉾, 属性:獣\n",
            "胡蝶しのぶ(コチョウシノブ): 年齢:18, 身長:151.0, 強さ:70, 所属:柱, 属性:蟲\n",
            "煉獄杏寿郎(レンゴクキョウジュロウ): 年齢:20, 身長:177.0, 強さ:80, 所属:柱, 属性:炎\n",
            "宇随天元(ウズイテンゲン): 年齢:23, 身長:198.0, 強さ:80, 所属:柱, 属性:音\n",
            "時透無一郎(トキトウムイチロウ): 年齢:14, 身長:160.0, 強さ:90, 所属:柱, 属性:霞\n",
            "甘露寺蜜璃(カンロジミツリ): 年齢:19, 身長:167.0, 強さ:70, 所属:柱, 属性:恋\n",
            "伊黒小芭内(イグロオバナイ): 年齢:21, 身長:162.0, 強さ:70, 所属:柱, 属性:蛇\n",
            "不死川玄弥(シナズガワゲンヤ): 年齢:16, 身長:180.0, 強さ:30, 所属:五感, 属性:鬼\n",
            "不死川実弥(シナズガワサネミ): 年齢:21, 身長:179.0, 強さ:90, 所属:柱, 属性:風\n",
            "悲鳴嶋行冥(ヒメジマギョウメイ): 年齢:27, 身長:220.0, 強さ:100, 所属:柱, 属性:岩\n",
            "\n",
            "quick_sort with compare_by_yomi(ascending)\n",
            "我妻善逸(アガツマゼンイツ): 年齢:16, 身長:164.5, 強さ:40, 所属:蒲鉾, 属性:雷\n",
            "伊黒小芭内(イグロオバナイ): 年齢:21, 身長:162.0, 強さ:70, 所属:柱, 属性:蛇\n",
            "宇随天元(ウズイテンゲン): 年齢:23, 身長:198.0, 強さ:80, 所属:柱, 属性:音\n",
            "竈門炭治郎(カマドタンジロウ): 年齢:16, 身長:165.0, 強さ:40, 所属:蒲鉾, 属性:水\n",
            "竈門禰豆子(カマドネズコ): 年齢:14, 身長:150.0, 強さ:30, 所属:蒲鉾, 属性:鬼\n",
            "甘露寺蜜璃(カンロジミツリ): 年齢:19, 身長:167.0, 強さ:70, 所属:柱, 属性:恋\n",
            "胡蝶しのぶ(コチョウシノブ): 年齢:18, 身長:151.0, 強さ:70, 所属:柱, 属性:蟲\n",
            "不死川玄弥(シナズガワゲンヤ): 年齢:16, 身長:180.0, 強さ:30, 所属:五感, 属性:鬼\n",
            "不死川実弥(シナズガワサネミ): 年齢:21, 身長:179.0, 強さ:90, 所属:柱, 属性:風\n",
            "栗花落カナヲ(ツユリカナヲ): 年齢:16, 身長:156.0, 強さ:50, 所属:五感, 属性:花\n",
            "時透無一郎(トキトウムイチロウ): 年齢:14, 身長:160.0, 強さ:90, 所属:柱, 属性:霞\n",
            "冨岡義勇(トミオカギユウ): 年齢:21, 身長:176.0, 強さ:80, 所属:柱, 属性:水\n",
            "嘴平伊之助(ハシビライノスケ): 年齢:15, 身長:164.0, 強さ:40, 所属:蒲鉾, 属性:獣\n",
            "悲鳴嶋行冥(ヒメジマギョウメイ): 年齢:27, 身長:220.0, 強さ:100, 所属:柱, 属性:岩\n",
            "煉獄杏寿郎(レンゴクキョウジュロウ): 年齢:20, 身長:177.0, 強さ:80, 所属:柱, 属性:炎\n",
            "lap: compare = 71, swap = 17, move = 0\n",
            "all: compare = 71, swap = 17, move = 0\n",
            "\n",
            "課題1-1: \n",
            "shaker_sort with compare_by_height(descending)\n",
            "我妻善逸(アガツマゼンイツ): 年齢:16, 身長:164.5, 強さ:40, 所属:蒲鉾, 属性:雷\n",
            "伊黒小芭内(イグロオバナイ): 年齢:21, 身長:162.0, 強さ:70, 所属:柱, 属性:蛇\n",
            "宇随天元(ウズイテンゲン): 年齢:23, 身長:198.0, 強さ:80, 所属:柱, 属性:音\n",
            "竈門炭治郎(カマドタンジロウ): 年齢:16, 身長:165.0, 強さ:40, 所属:蒲鉾, 属性:水\n",
            "竈門禰豆子(カマドネズコ): 年齢:14, 身長:150.0, 強さ:30, 所属:蒲鉾, 属性:鬼\n",
            "甘露寺蜜璃(カンロジミツリ): 年齢:19, 身長:167.0, 強さ:70, 所属:柱, 属性:恋\n",
            "胡蝶しのぶ(コチョウシノブ): 年齢:18, 身長:151.0, 強さ:70, 所属:柱, 属性:蟲\n",
            "不死川玄弥(シナズガワゲンヤ): 年齢:16, 身長:180.0, 強さ:30, 所属:五感, 属性:鬼\n",
            "不死川実弥(シナズガワサネミ): 年齢:21, 身長:179.0, 強さ:90, 所属:柱, 属性:風\n",
            "栗花落カナヲ(ツユリカナヲ): 年齢:16, 身長:156.0, 強さ:50, 所属:五感, 属性:花\n",
            "時透無一郎(トキトウムイチロウ): 年齢:14, 身長:160.0, 強さ:90, 所属:柱, 属性:霞\n",
            "冨岡義勇(トミオカギユウ): 年齢:21, 身長:176.0, 強さ:80, 所属:柱, 属性:水\n",
            "嘴平伊之助(ハシビライノスケ): 年齢:15, 身長:164.0, 強さ:40, 所属:蒲鉾, 属性:獣\n",
            "悲鳴嶋行冥(ヒメジマギョウメイ): 年齢:27, 身長:220.0, 強さ:100, 所属:柱, 属性:岩\n",
            "煉獄杏寿郎(レンゴクキョウジュロウ): 年齢:20, 身長:177.0, 強さ:80, 所属:柱, 属性:炎\n",
            "lap: compare = 14, swap = 0, move = 0\n",
            "all: compare = 85, swap = 17, move = 0\n",
            "\n",
            "課題1-2: \n",
            "insert_sort with compare_by_age(ascending)\n",
            "我妻善逸(アガツマゼンイツ): 年齢:16, 身長:164.5, 強さ:40, 所属:蒲鉾, 属性:雷\n",
            "伊黒小芭内(イグロオバナイ): 年齢:21, 身長:162.0, 強さ:70, 所属:柱, 属性:蛇\n",
            "宇随天元(ウズイテンゲン): 年齢:23, 身長:198.0, 強さ:80, 所属:柱, 属性:音\n",
            "竈門炭治郎(カマドタンジロウ): 年齢:16, 身長:165.0, 強さ:40, 所属:蒲鉾, 属性:水\n",
            "竈門禰豆子(カマドネズコ): 年齢:14, 身長:150.0, 強さ:30, 所属:蒲鉾, 属性:鬼\n",
            "甘露寺蜜璃(カンロジミツリ): 年齢:19, 身長:167.0, 強さ:70, 所属:柱, 属性:恋\n",
            "胡蝶しのぶ(コチョウシノブ): 年齢:18, 身長:151.0, 強さ:70, 所属:柱, 属性:蟲\n",
            "不死川玄弥(シナズガワゲンヤ): 年齢:16, 身長:180.0, 強さ:30, 所属:五感, 属性:鬼\n",
            "不死川実弥(シナズガワサネミ): 年齢:21, 身長:179.0, 強さ:90, 所属:柱, 属性:風\n",
            "栗花落カナヲ(ツユリカナヲ): 年齢:16, 身長:156.0, 強さ:50, 所属:五感, 属性:花\n",
            "時透無一郎(トキトウムイチロウ): 年齢:14, 身長:160.0, 強さ:90, 所属:柱, 属性:霞\n",
            "冨岡義勇(トミオカギユウ): 年齢:21, 身長:176.0, 強さ:80, 所属:柱, 属性:水\n",
            "嘴平伊之助(ハシビライノスケ): 年齢:15, 身長:164.0, 強さ:40, 所属:蒲鉾, 属性:獣\n",
            "悲鳴嶋行冥(ヒメジマギョウメイ): 年齢:27, 身長:220.0, 強さ:100, 所属:柱, 属性:岩\n",
            "煉獄杏寿郎(レンゴクキョウジュロウ): 年齢:20, 身長:177.0, 強さ:80, 所属:柱, 属性:炎\n",
            "lap: compare = 14, swap = 0, move = 0\n",
            "all: compare = 99, swap = 17, move = 0\n",
            "\n",
            "課題1-3: \n",
            "select_sort with compare_by_score(descending)\n",
            "煉獄杏寿郎(レンゴクキョウジュロウ): 年齢:20, 身長:177.0, 強さ:80, 所属:柱, 属性:炎\n",
            "我妻善逸(アガツマゼンイツ): 年齢:16, 身長:164.5, 強さ:40, 所属:蒲鉾, 属性:雷\n",
            "伊黒小芭内(イグロオバナイ): 年齢:21, 身長:162.0, 強さ:70, 所属:柱, 属性:蛇\n",
            "宇随天元(ウズイテンゲン): 年齢:23, 身長:198.0, 強さ:80, 所属:柱, 属性:音\n",
            "竈門炭治郎(カマドタンジロウ): 年齢:16, 身長:165.0, 強さ:40, 所属:蒲鉾, 属性:水\n",
            "竈門禰豆子(カマドネズコ): 年齢:14, 身長:150.0, 強さ:30, 所属:蒲鉾, 属性:鬼\n",
            "甘露寺蜜璃(カンロジミツリ): 年齢:19, 身長:167.0, 強さ:70, 所属:柱, 属性:恋\n",
            "胡蝶しのぶ(コチョウシノブ): 年齢:18, 身長:151.0, 強さ:70, 所属:柱, 属性:蟲\n",
            "不死川玄弥(シナズガワゲンヤ): 年齢:16, 身長:180.0, 強さ:30, 所属:五感, 属性:鬼\n",
            "不死川実弥(シナズガワサネミ): 年齢:21, 身長:179.0, 強さ:90, 所属:柱, 属性:風\n",
            "栗花落カナヲ(ツユリカナヲ): 年齢:16, 身長:156.0, 強さ:50, 所属:五感, 属性:花\n",
            "時透無一郎(トキトウムイチロウ): 年齢:14, 身長:160.0, 強さ:90, 所属:柱, 属性:霞\n",
            "冨岡義勇(トミオカギユウ): 年齢:21, 身長:176.0, 強さ:80, 所属:柱, 属性:水\n",
            "嘴平伊之助(ハシビライノスケ): 年齢:15, 身長:164.0, 強さ:40, 所属:蒲鉾, 属性:獣\n",
            "悲鳴嶋行冥(ヒメジマギョウメイ): 年齢:27, 身長:220.0, 強さ:100, 所属:柱, 属性:岩\n",
            "lap: compare = 105, swap = 14, move = 0\n",
            "all: compare = 204, swap = 31, move = 0\n",
            "\n",
            "課題1-4: \n",
            "bubble_sort with compare_by_group(ascending)\n",
            "竈門炭治郎(カマドタンジロウ): 年齢:16, 身長:165.0, 強さ:40, 所属:蒲鉾, 属性:水\n",
            "冨岡義勇(トミオカギユウ): 年齢:21, 身長:176.0, 強さ:80, 所属:柱, 属性:水\n",
            "竈門禰豆子(カマドネズコ): 年齢:14, 身長:150.0, 強さ:30, 所属:蒲鉾, 属性:鬼\n",
            "我妻善逸(アガツマゼンイツ): 年齢:16, 身長:164.5, 強さ:40, 所属:蒲鉾, 属性:雷\n",
            "栗花落カナヲ(ツユリカナヲ): 年齢:16, 身長:156.0, 強さ:50, 所属:五感, 属性:花\n",
            "嘴平伊之助(ハシビライノスケ): 年齢:15, 身長:164.0, 強さ:40, 所属:蒲鉾, 属性:獣\n",
            "胡蝶しのぶ(コチョウシノブ): 年齢:18, 身長:151.0, 強さ:70, 所属:柱, 属性:蟲\n",
            "煉獄杏寿郎(レンゴクキョウジュロウ): 年齢:20, 身長:177.0, 強さ:80, 所属:柱, 属性:炎\n",
            "宇随天元(ウズイテンゲン): 年齢:23, 身長:198.0, 強さ:80, 所属:柱, 属性:音\n",
            "時透無一郎(トキトウムイチロウ): 年齢:14, 身長:160.0, 強さ:90, 所属:柱, 属性:霞\n",
            "甘露寺蜜璃(カンロジミツリ): 年齢:19, 身長:167.0, 強さ:70, 所属:柱, 属性:恋\n",
            "伊黒小芭内(イグロオバナイ): 年齢:21, 身長:162.0, 強さ:70, 所属:柱, 属性:蛇\n",
            "不死川玄弥(シナズガワゲンヤ): 年齢:16, 身長:180.0, 強さ:30, 所属:五感, 属性:鬼\n",
            "不死川実弥(シナズガワサネミ): 年齢:21, 身長:179.0, 強さ:90, 所属:柱, 属性:風\n",
            "悲鳴嶋行冥(ヒメジマギョウメイ): 年齢:27, 身長:220.0, 強さ:100, 所属:柱, 属性:岩\n",
            "lap: compare = 105, swap = 45, move = 0\n",
            "all: compare = 309, swap = 76, move = 0\n"
          ]
        }
      ]
    },
    {
      "cell_type": "markdown",
      "source": [
        "#演習テスト 課題2 追加されたメンバに対するソート"
      ],
      "metadata": {
        "id": "C9o_ec8FjZ8z"
      }
    },
    {
      "cell_type": "markdown",
      "source": [
        "##課題2-1 名前(読み)順にソート\n",
        "1. メンバを読み込み、名前(読み)(yomi)順にソートした後に、追加メンバを読み込み、再び全体を名前(読み)(yomi)順にソートせよ。\n",
        "2. この時、トータルの比較(compare)回数が最も少なくなる組合せはどれとどれか。\n",
        "3. この時、トータルの交換(swap)回数が最も少なくなる組合せはどれとどれか。"
      ],
      "metadata": {
        "id": "DGQnM_s5nc3P"
      }
    },
    {
      "cell_type": "markdown",
      "source": [
        "###メインプログラム"
      ],
      "metadata": {
        "id": "IH0TTfNrjm1x"
      }
    },
    {
      "cell_type": "code",
      "source": [
        "%%file test2-1.c\n",
        "#include <stdio.h>\n",
        "#include <stdlib.h>\n",
        "#include <string.h>\n",
        "#include \"main.h\"\n",
        "\n",
        "int main(void) {\n",
        "    Member **member_array;\n",
        "    int num_members;\n",
        "\n",
        "    member_array = init_members_from_file(\"members.csv\", &num_members);\n",
        "\n",
        "    printf(\"initial:\\n\");\n",
        "    printarray(num_members, member_array);\n",
        "\n",
        "    LAUNCH_SORT(num_members, member_array, ???_sort, compare_by_???, ???);\n",
        "    printarray(num_members, member_array);\n",
        "    print_counter();\n",
        "\n",
        "    member_array = add_members_from_file(\"members2.csv\", &num_members, member_array);\n",
        "    printf(\"\\nadded:\\n\");\n",
        "    printarray(num_members, member_array);\n",
        "\n",
        "    LAUNCH_SORT(num_members, member_array, ???_sort, compare_by_???, ???);\n",
        "    printarray(num_members, member_array);\n",
        "    print_counter();\n",
        "\n",
        "    return 0;\n",
        "}"
      ],
      "metadata": {
        "colab": {
          "base_uri": "https://localhost:8080/"
        },
        "id": "j5RU6YGfDwsE",
        "outputId": "c6a2296b-c32c-477c-dfc2-f933e5198197"
      },
      "execution_count": null,
      "outputs": [
        {
          "output_type": "stream",
          "name": "stdout",
          "text": [
            "Writing test2-1.c\n"
          ]
        }
      ]
    },
    {
      "cell_type": "markdown",
      "source": [
        "###コンパイル(test2-1.c)＆リンク"
      ],
      "metadata": {
        "id": "xk06G4_TnlI3"
      }
    },
    {
      "cell_type": "code",
      "source": [
        "!gcc test2-1.c -c\n",
        "!gcc tool.o compare.o bubble_sort.o bubble2_sort.o shaker_sort.o insert_sort.o select_sort.o quick_sort.o test2-1.o -o test2-1"
      ],
      "metadata": {
        "id": "GssQ-Qk1EM7s",
        "colab": {
          "base_uri": "https://localhost:8080/"
        },
        "outputId": "7585109e-c251-4d98-aff9-748f16923c6e"
      },
      "execution_count": null,
      "outputs": [
        {
          "output_type": "stream",
          "name": "stdout",
          "text": [
            "\u001b[01m\u001b[Ktest2-1.c:\u001b[m\u001b[K In function ‘\u001b[01m\u001b[Kmain\u001b[m\u001b[K’:\n",
            "\u001b[01m\u001b[Ktest2-1.c:15:71:\u001b[m\u001b[K \u001b[01;35m\u001b[Kwarning: \u001b[m\u001b[Ktrigraph ??) ignored, use -trigraphs to enable [\u001b[01;35m\u001b[K\u001b]8;;https://gcc.gnu.org/onlinedocs/gcc/Warning-Options.html#index-Wtrigraphs\u0007-Wtrigraphs\u001b]8;;\u0007\u001b[m\u001b[K]\n",
            "   15 |     LAUNCH_SORT(num_members, member_array, ???_sort, compare_by_???, ???);\n",
            "      |                                                                        \n",
            "In file included from \u001b[01m\u001b[Ktest2-1.c:4\u001b[m\u001b[K:\n",
            "\u001b[01m\u001b[Ktest2-1.c:15:44:\u001b[m\u001b[K \u001b[01;31m\u001b[Kerror: \u001b[m\u001b[Kexpected expression before ‘\u001b[01m\u001b[K?\u001b[m\u001b[K’ token\n",
            "   15 |     LAUNCH_SORT(num_members, member_array, \u001b[01;31m\u001b[K?\u001b[m\u001b[K??_sort, compare_by_???, ???);\n",
            "      |                                            \u001b[01;31m\u001b[K^\u001b[m\u001b[K\n",
            "\u001b[01m\u001b[Kmain.h:44:80:\u001b[m\u001b[K \u001b[01;36m\u001b[Knote: \u001b[m\u001b[Kin definition of macro ‘\u001b[01m\u001b[KLAUNCH_SORT\u001b[m\u001b[K’\n",
            "   44 | #define LAUNCH_SORT(n, data, sort_func, cmp, descending)  launch_sort(n, data, \u001b[01;36m\u001b[Ksort_func\u001b[m\u001b[K, cmp, descending, #sort_func, #cmp)\n",
            "      |                                                                                \u001b[01;36m\u001b[K^~~~~~~~~\u001b[m\u001b[K\n",
            "\u001b[01m\u001b[Ktest2-1.c:15:47:\u001b[m\u001b[K \u001b[01;31m\u001b[Kerror: \u001b[m\u001b[K‘\u001b[01m\u001b[K_sort\u001b[m\u001b[K’ undeclared (first use in this function); did you mean ‘\u001b[01m\u001b[Kqsort\u001b[m\u001b[K’?\n",
            "   15 |     LAUNCH_SORT(num_members, member_array, ???\u001b[01;31m\u001b[K_sort\u001b[m\u001b[K, compare_by_???, ???);\n",
            "      |                                               \u001b[01;31m\u001b[K^~~~~\u001b[m\u001b[K\n",
            "\u001b[01m\u001b[Kmain.h:44:80:\u001b[m\u001b[K \u001b[01;36m\u001b[Knote: \u001b[m\u001b[Kin definition of macro ‘\u001b[01m\u001b[KLAUNCH_SORT\u001b[m\u001b[K’\n",
            "   44 | #define LAUNCH_SORT(n, data, sort_func, cmp, descending)  launch_sort(n, data, \u001b[01;36m\u001b[Ksort_func\u001b[m\u001b[K, cmp, descending, #sort_func, #cmp)\n",
            "      |                                                                                \u001b[01;36m\u001b[K^~~~~~~~~\u001b[m\u001b[K\n",
            "\u001b[01m\u001b[Ktest2-1.c:15:47:\u001b[m\u001b[K \u001b[01;36m\u001b[Knote: \u001b[m\u001b[Keach undeclared identifier is reported only once for each function it appears in\n",
            "   15 |     LAUNCH_SORT(num_members, member_array, ???\u001b[01;36m\u001b[K_sort\u001b[m\u001b[K, compare_by_???, ???);\n",
            "      |                                               \u001b[01;36m\u001b[K^~~~~\u001b[m\u001b[K\n",
            "\u001b[01m\u001b[Kmain.h:44:80:\u001b[m\u001b[K \u001b[01;36m\u001b[Knote: \u001b[m\u001b[Kin definition of macro ‘\u001b[01m\u001b[KLAUNCH_SORT\u001b[m\u001b[K’\n",
            "   44 | #define LAUNCH_SORT(n, data, sort_func, cmp, descending)  launch_sort(n, data, \u001b[01;36m\u001b[Ksort_func\u001b[m\u001b[K, cmp, descending, #sort_func, #cmp)\n",
            "      |                                                                                \u001b[01;36m\u001b[K^~~~~~~~~\u001b[m\u001b[K\n",
            "\u001b[01m\u001b[Ktest2-1.c:15:54:\u001b[m\u001b[K \u001b[01;31m\u001b[Kerror: \u001b[m\u001b[K‘\u001b[01m\u001b[Kcompare_by_\u001b[m\u001b[K’ undeclared (first use in this function); did you mean ‘\u001b[01m\u001b[Kcompare_by_age\u001b[m\u001b[K’?\n",
            "   15 |     LAUNCH_SORT(num_members, member_array, ???_sort, \u001b[01;31m\u001b[Kcompare_by_\u001b[m\u001b[K???, ???);\n",
            "      |                                                      \u001b[01;31m\u001b[K^~~~~~~~~~~\u001b[m\u001b[K\n",
            "\u001b[01m\u001b[Kmain.h:44:91:\u001b[m\u001b[K \u001b[01;36m\u001b[Knote: \u001b[m\u001b[Kin definition of macro ‘\u001b[01m\u001b[KLAUNCH_SORT\u001b[m\u001b[K’\n",
            "   44 | #define LAUNCH_SORT(n, data, sort_func, cmp, descending)  launch_sort(n, data, sort_func, \u001b[01;36m\u001b[Kcmp\u001b[m\u001b[K, descending, #sort_func, #cmp)\n",
            "      |                                                                                           \u001b[01;36m\u001b[K^~~\u001b[m\u001b[K\n",
            "\u001b[01m\u001b[Kmain.h:44:59:\u001b[m\u001b[K \u001b[01;31m\u001b[Kerror: \u001b[m\u001b[Ktoo few arguments to function ‘\u001b[01m\u001b[Klaunch_sort\u001b[m\u001b[K’\n",
            "   44 | #define LAUNCH_SORT(n, data, sort_func, cmp, descending)  \u001b[01;31m\u001b[Klaunch_sort\u001b[m\u001b[K(n, data, sort_func, cmp, descending, #sort_func, #cmp)\n",
            "      |                                                           \u001b[01;31m\u001b[K^~~~~~~~~~~\u001b[m\u001b[K\n",
            "\u001b[01m\u001b[Ktest2-1.c:15:5:\u001b[m\u001b[K \u001b[01;36m\u001b[Knote: \u001b[m\u001b[Kin expansion of macro ‘\u001b[01m\u001b[KLAUNCH_SORT\u001b[m\u001b[K’\n",
            "   15 |     \u001b[01;36m\u001b[KLAUNCH_SORT\u001b[m\u001b[K(num_members, member_array, ???_sort, compare_by_???, ???);\n",
            "      |     \u001b[01;36m\u001b[K^~~~~~~~~~~\u001b[m\u001b[K\n",
            "\u001b[01m\u001b[Kmain.h:43:6:\u001b[m\u001b[K \u001b[01;36m\u001b[Knote: \u001b[m\u001b[Kdeclared here\n",
            "   43 | void \u001b[01;36m\u001b[Klaunch_sort\u001b[m\u001b[K(int n, Member *data[], void (*sort_func)(int, Member**, CmpFunc, int), CmpFunc cmp, int descending, const char *sort_name, const char *cmp_name);\n",
            "      |      \u001b[01;36m\u001b[K^~~~~~~~~~~\u001b[m\u001b[K\n",
            "\u001b[01m\u001b[Ktest2-1.c:23:71:\u001b[m\u001b[K \u001b[01;35m\u001b[Kwarning: \u001b[m\u001b[Ktrigraph ??) ignored, use -trigraphs to enable [\u001b[01;35m\u001b[K\u001b]8;;https://gcc.gnu.org/onlinedocs/gcc/Warning-Options.html#index-Wtrigraphs\u0007-Wtrigraphs\u001b]8;;\u0007\u001b[m\u001b[K]\n",
            "   23 |     LAUNCH_SORT(num_members, member_array, ???_sort, compare_by_???, ???);\n",
            "      |                                                                        \n",
            "In file included from \u001b[01m\u001b[Ktest2-1.c:4\u001b[m\u001b[K:\n",
            "\u001b[01m\u001b[Ktest2-1.c:23:44:\u001b[m\u001b[K \u001b[01;31m\u001b[Kerror: \u001b[m\u001b[Kexpected expression before ‘\u001b[01m\u001b[K?\u001b[m\u001b[K’ token\n",
            "   23 |     LAUNCH_SORT(num_members, member_array, \u001b[01;31m\u001b[K?\u001b[m\u001b[K??_sort, compare_by_???, ???);\n",
            "      |                                            \u001b[01;31m\u001b[K^\u001b[m\u001b[K\n",
            "\u001b[01m\u001b[Kmain.h:44:80:\u001b[m\u001b[K \u001b[01;36m\u001b[Knote: \u001b[m\u001b[Kin definition of macro ‘\u001b[01m\u001b[KLAUNCH_SORT\u001b[m\u001b[K’\n",
            "   44 | #define LAUNCH_SORT(n, data, sort_func, cmp, descending)  launch_sort(n, data, \u001b[01;36m\u001b[Ksort_func\u001b[m\u001b[K, cmp, descending, #sort_func, #cmp)\n",
            "      |                                                                                \u001b[01;36m\u001b[K^~~~~~~~~\u001b[m\u001b[K\n",
            "\u001b[01m\u001b[Kmain.h:44:59:\u001b[m\u001b[K \u001b[01;31m\u001b[Kerror: \u001b[m\u001b[Ktoo few arguments to function ‘\u001b[01m\u001b[Klaunch_sort\u001b[m\u001b[K’\n",
            "   44 | #define LAUNCH_SORT(n, data, sort_func, cmp, descending)  \u001b[01;31m\u001b[Klaunch_sort\u001b[m\u001b[K(n, data, sort_func, cmp, descending, #sort_func, #cmp)\n",
            "      |                                                           \u001b[01;31m\u001b[K^~~~~~~~~~~\u001b[m\u001b[K\n",
            "\u001b[01m\u001b[Ktest2-1.c:23:5:\u001b[m\u001b[K \u001b[01;36m\u001b[Knote: \u001b[m\u001b[Kin expansion of macro ‘\u001b[01m\u001b[KLAUNCH_SORT\u001b[m\u001b[K’\n",
            "   23 |     \u001b[01;36m\u001b[KLAUNCH_SORT\u001b[m\u001b[K(num_members, member_array, ???_sort, compare_by_???, ???);\n",
            "      |     \u001b[01;36m\u001b[K^~~~~~~~~~~\u001b[m\u001b[K\n",
            "\u001b[01m\u001b[Kmain.h:43:6:\u001b[m\u001b[K \u001b[01;36m\u001b[Knote: \u001b[m\u001b[Kdeclared here\n",
            "   43 | void \u001b[01;36m\u001b[Klaunch_sort\u001b[m\u001b[K(int n, Member *data[], void (*sort_func)(int, Member**, CmpFunc, int), CmpFunc cmp, int descending, const char *sort_name, const char *cmp_name);\n",
            "      |      \u001b[01;36m\u001b[K^~~~~~~~~~~\u001b[m\u001b[K\n",
            "/usr/bin/ld: cannot find test2-1.o: No such file or directory\n",
            "collect2: error: ld returned 1 exit status\n"
          ]
        }
      ]
    },
    {
      "cell_type": "markdown",
      "source": [
        "###実行"
      ],
      "metadata": {
        "id": "twU3qSAdnq_j"
      }
    },
    {
      "cell_type": "code",
      "source": [
        "!./test2-1"
      ],
      "metadata": {
        "colab": {
          "base_uri": "https://localhost:8080/"
        },
        "id": "iexbb6nlER2M",
        "outputId": "5823cbce-d3fe-42d8-bcef-c3680beb2046"
      },
      "execution_count": null,
      "outputs": [
        {
          "output_type": "stream",
          "name": "stdout",
          "text": [
            "/bin/bash: line 1: ./test2-1: No such file or directory\n"
          ]
        }
      ]
    },
    {
      "cell_type": "markdown",
      "source": [
        "##課題2-2 年齢の高い順にソート\n",
        "1. メンバを読み込み、年齢(age)の高い順にソートした後に、追加メンバを読み込み、再び全体を年齢(age)の高い順にソートせよ。\n",
        "2. この時、トータルの比較(compare)回数が最も少なくなる組合せはどれとどれか。\n",
        "3. この時、トータルの交換(swap)回数が最も少なくなる組合せはどれとどれか。"
      ],
      "metadata": {
        "id": "REpR92yBnzVi"
      }
    },
    {
      "cell_type": "markdown",
      "source": [
        "###メインプログラム"
      ],
      "metadata": {
        "id": "0O3ZQamtnzVp"
      }
    },
    {
      "cell_type": "code",
      "source": [
        "%%file test2-2.c\n",
        "#include <stdio.h>\n",
        "#include <stdlib.h>\n",
        "#include <string.h>\n",
        "#include \"main.h\"\n",
        "\n",
        "int main(void) {\n",
        "    Member **member_array;\n",
        "    int num_members;\n",
        "\n",
        "    member_array = init_members_from_file(\"members.csv\", &num_members);\n",
        "\n",
        "    printf(\"initial:\\n\");\n",
        "    printarray(num_members, member_array);\n",
        "\n",
        "    LAUNCH_SORT(num_members, member_array, ???_sort, compare_by_???, ???);\n",
        "    printarray(num_members, member_array);\n",
        "    print_counter();\n",
        "\n",
        "    member_array = add_members_from_file(\"members2.csv\", &num_members, member_array);\n",
        "    printf(\"\\nadded:\\n\");\n",
        "    printarray(num_members, member_array);\n",
        "\n",
        "    LAUNCH_SORT(num_members, member_array, ???_sort, compare_by_???, ???);\n",
        "    printarray(num_members, member_array);\n",
        "    print_counter();\n",
        "\n",
        "    return 0;\n",
        "}"
      ],
      "metadata": {
        "colab": {
          "base_uri": "https://localhost:8080/"
        },
        "outputId": "9ffd9123-b0cf-4150-d955-8db4cb5308e8",
        "id": "Yhee1J3snzVp"
      },
      "execution_count": null,
      "outputs": [
        {
          "output_type": "stream",
          "name": "stdout",
          "text": [
            "Writing test2-2.c\n"
          ]
        }
      ]
    },
    {
      "cell_type": "markdown",
      "source": [
        "###コンパイル(test2-2.c)＆リンク"
      ],
      "metadata": {
        "id": "KlmV9MjKnzVp"
      }
    },
    {
      "cell_type": "code",
      "source": [
        "!gcc test2-2.c -c\n",
        "!gcc tool.o compare.o bubble_sort.o bubble2_sort.o shaker_sort.o insert_sort.o select_sort.o quick_sort.o test2-2.o -o test2-2"
      ],
      "metadata": {
        "id": "7ReY5lX6nzVp",
        "colab": {
          "base_uri": "https://localhost:8080/"
        },
        "outputId": "703aab47-69bf-47fc-a430-6e6f14daf876"
      },
      "execution_count": null,
      "outputs": [
        {
          "output_type": "stream",
          "name": "stdout",
          "text": [
            "\u001b[01m\u001b[Ktest2-2.c:\u001b[m\u001b[K In function ‘\u001b[01m\u001b[Kmain\u001b[m\u001b[K’:\n",
            "\u001b[01m\u001b[Ktest2-2.c:15:71:\u001b[m\u001b[K \u001b[01;35m\u001b[Kwarning: \u001b[m\u001b[Ktrigraph ??) ignored, use -trigraphs to enable [\u001b[01;35m\u001b[K\u001b]8;;https://gcc.gnu.org/onlinedocs/gcc/Warning-Options.html#index-Wtrigraphs\u0007-Wtrigraphs\u001b]8;;\u0007\u001b[m\u001b[K]\n",
            "   15 |     LAUNCH_SORT(num_members, member_array, ???_sort, compare_by_???, ???);\n",
            "      |                                                                        \n",
            "In file included from \u001b[01m\u001b[Ktest2-2.c:4\u001b[m\u001b[K:\n",
            "\u001b[01m\u001b[Ktest2-2.c:15:44:\u001b[m\u001b[K \u001b[01;31m\u001b[Kerror: \u001b[m\u001b[Kexpected expression before ‘\u001b[01m\u001b[K?\u001b[m\u001b[K’ token\n",
            "   15 |     LAUNCH_SORT(num_members, member_array, \u001b[01;31m\u001b[K?\u001b[m\u001b[K??_sort, compare_by_???, ???);\n",
            "      |                                            \u001b[01;31m\u001b[K^\u001b[m\u001b[K\n",
            "\u001b[01m\u001b[Kmain.h:44:80:\u001b[m\u001b[K \u001b[01;36m\u001b[Knote: \u001b[m\u001b[Kin definition of macro ‘\u001b[01m\u001b[KLAUNCH_SORT\u001b[m\u001b[K’\n",
            "   44 | #define LAUNCH_SORT(n, data, sort_func, cmp, descending)  launch_sort(n, data, \u001b[01;36m\u001b[Ksort_func\u001b[m\u001b[K, cmp, descending, #sort_func, #cmp)\n",
            "      |                                                                                \u001b[01;36m\u001b[K^~~~~~~~~\u001b[m\u001b[K\n",
            "\u001b[01m\u001b[Ktest2-2.c:15:47:\u001b[m\u001b[K \u001b[01;31m\u001b[Kerror: \u001b[m\u001b[K‘\u001b[01m\u001b[K_sort\u001b[m\u001b[K’ undeclared (first use in this function); did you mean ‘\u001b[01m\u001b[Kqsort\u001b[m\u001b[K’?\n",
            "   15 |     LAUNCH_SORT(num_members, member_array, ???\u001b[01;31m\u001b[K_sort\u001b[m\u001b[K, compare_by_???, ???);\n",
            "      |                                               \u001b[01;31m\u001b[K^~~~~\u001b[m\u001b[K\n",
            "\u001b[01m\u001b[Kmain.h:44:80:\u001b[m\u001b[K \u001b[01;36m\u001b[Knote: \u001b[m\u001b[Kin definition of macro ‘\u001b[01m\u001b[KLAUNCH_SORT\u001b[m\u001b[K’\n",
            "   44 | #define LAUNCH_SORT(n, data, sort_func, cmp, descending)  launch_sort(n, data, \u001b[01;36m\u001b[Ksort_func\u001b[m\u001b[K, cmp, descending, #sort_func, #cmp)\n",
            "      |                                                                                \u001b[01;36m\u001b[K^~~~~~~~~\u001b[m\u001b[K\n",
            "\u001b[01m\u001b[Ktest2-2.c:15:47:\u001b[m\u001b[K \u001b[01;36m\u001b[Knote: \u001b[m\u001b[Keach undeclared identifier is reported only once for each function it appears in\n",
            "   15 |     LAUNCH_SORT(num_members, member_array, ???\u001b[01;36m\u001b[K_sort\u001b[m\u001b[K, compare_by_???, ???);\n",
            "      |                                               \u001b[01;36m\u001b[K^~~~~\u001b[m\u001b[K\n",
            "\u001b[01m\u001b[Kmain.h:44:80:\u001b[m\u001b[K \u001b[01;36m\u001b[Knote: \u001b[m\u001b[Kin definition of macro ‘\u001b[01m\u001b[KLAUNCH_SORT\u001b[m\u001b[K’\n",
            "   44 | #define LAUNCH_SORT(n, data, sort_func, cmp, descending)  launch_sort(n, data, \u001b[01;36m\u001b[Ksort_func\u001b[m\u001b[K, cmp, descending, #sort_func, #cmp)\n",
            "      |                                                                                \u001b[01;36m\u001b[K^~~~~~~~~\u001b[m\u001b[K\n",
            "\u001b[01m\u001b[Ktest2-2.c:15:54:\u001b[m\u001b[K \u001b[01;31m\u001b[Kerror: \u001b[m\u001b[K‘\u001b[01m\u001b[Kcompare_by_\u001b[m\u001b[K’ undeclared (first use in this function); did you mean ‘\u001b[01m\u001b[Kcompare_by_age\u001b[m\u001b[K’?\n",
            "   15 |     LAUNCH_SORT(num_members, member_array, ???_sort, \u001b[01;31m\u001b[Kcompare_by_\u001b[m\u001b[K???, ???);\n",
            "      |                                                      \u001b[01;31m\u001b[K^~~~~~~~~~~\u001b[m\u001b[K\n",
            "\u001b[01m\u001b[Kmain.h:44:91:\u001b[m\u001b[K \u001b[01;36m\u001b[Knote: \u001b[m\u001b[Kin definition of macro ‘\u001b[01m\u001b[KLAUNCH_SORT\u001b[m\u001b[K’\n",
            "   44 | #define LAUNCH_SORT(n, data, sort_func, cmp, descending)  launch_sort(n, data, sort_func, \u001b[01;36m\u001b[Kcmp\u001b[m\u001b[K, descending, #sort_func, #cmp)\n",
            "      |                                                                                           \u001b[01;36m\u001b[K^~~\u001b[m\u001b[K\n",
            "\u001b[01m\u001b[Kmain.h:44:59:\u001b[m\u001b[K \u001b[01;31m\u001b[Kerror: \u001b[m\u001b[Ktoo few arguments to function ‘\u001b[01m\u001b[Klaunch_sort\u001b[m\u001b[K’\n",
            "   44 | #define LAUNCH_SORT(n, data, sort_func, cmp, descending)  \u001b[01;31m\u001b[Klaunch_sort\u001b[m\u001b[K(n, data, sort_func, cmp, descending, #sort_func, #cmp)\n",
            "      |                                                           \u001b[01;31m\u001b[K^~~~~~~~~~~\u001b[m\u001b[K\n",
            "\u001b[01m\u001b[Ktest2-2.c:15:5:\u001b[m\u001b[K \u001b[01;36m\u001b[Knote: \u001b[m\u001b[Kin expansion of macro ‘\u001b[01m\u001b[KLAUNCH_SORT\u001b[m\u001b[K’\n",
            "   15 |     \u001b[01;36m\u001b[KLAUNCH_SORT\u001b[m\u001b[K(num_members, member_array, ???_sort, compare_by_???, ???);\n",
            "      |     \u001b[01;36m\u001b[K^~~~~~~~~~~\u001b[m\u001b[K\n",
            "\u001b[01m\u001b[Kmain.h:43:6:\u001b[m\u001b[K \u001b[01;36m\u001b[Knote: \u001b[m\u001b[Kdeclared here\n",
            "   43 | void \u001b[01;36m\u001b[Klaunch_sort\u001b[m\u001b[K(int n, Member *data[], void (*sort_func)(int, Member**, CmpFunc, int), CmpFunc cmp, int descending, const char *sort_name, const char *cmp_name);\n",
            "      |      \u001b[01;36m\u001b[K^~~~~~~~~~~\u001b[m\u001b[K\n",
            "\u001b[01m\u001b[Ktest2-2.c:23:71:\u001b[m\u001b[K \u001b[01;35m\u001b[Kwarning: \u001b[m\u001b[Ktrigraph ??) ignored, use -trigraphs to enable [\u001b[01;35m\u001b[K\u001b]8;;https://gcc.gnu.org/onlinedocs/gcc/Warning-Options.html#index-Wtrigraphs\u0007-Wtrigraphs\u001b]8;;\u0007\u001b[m\u001b[K]\n",
            "   23 |     LAUNCH_SORT(num_members, member_array, ???_sort, compare_by_???, ???);\n",
            "      |                                                                        \n",
            "In file included from \u001b[01m\u001b[Ktest2-2.c:4\u001b[m\u001b[K:\n",
            "\u001b[01m\u001b[Ktest2-2.c:23:44:\u001b[m\u001b[K \u001b[01;31m\u001b[Kerror: \u001b[m\u001b[Kexpected expression before ‘\u001b[01m\u001b[K?\u001b[m\u001b[K’ token\n",
            "   23 |     LAUNCH_SORT(num_members, member_array, \u001b[01;31m\u001b[K?\u001b[m\u001b[K??_sort, compare_by_???, ???);\n",
            "      |                                            \u001b[01;31m\u001b[K^\u001b[m\u001b[K\n",
            "\u001b[01m\u001b[Kmain.h:44:80:\u001b[m\u001b[K \u001b[01;36m\u001b[Knote: \u001b[m\u001b[Kin definition of macro ‘\u001b[01m\u001b[KLAUNCH_SORT\u001b[m\u001b[K’\n",
            "   44 | #define LAUNCH_SORT(n, data, sort_func, cmp, descending)  launch_sort(n, data, \u001b[01;36m\u001b[Ksort_func\u001b[m\u001b[K, cmp, descending, #sort_func, #cmp)\n",
            "      |                                                                                \u001b[01;36m\u001b[K^~~~~~~~~\u001b[m\u001b[K\n",
            "\u001b[01m\u001b[Kmain.h:44:59:\u001b[m\u001b[K \u001b[01;31m\u001b[Kerror: \u001b[m\u001b[Ktoo few arguments to function ‘\u001b[01m\u001b[Klaunch_sort\u001b[m\u001b[K’\n",
            "   44 | #define LAUNCH_SORT(n, data, sort_func, cmp, descending)  \u001b[01;31m\u001b[Klaunch_sort\u001b[m\u001b[K(n, data, sort_func, cmp, descending, #sort_func, #cmp)\n",
            "      |                                                           \u001b[01;31m\u001b[K^~~~~~~~~~~\u001b[m\u001b[K\n",
            "\u001b[01m\u001b[Ktest2-2.c:23:5:\u001b[m\u001b[K \u001b[01;36m\u001b[Knote: \u001b[m\u001b[Kin expansion of macro ‘\u001b[01m\u001b[KLAUNCH_SORT\u001b[m\u001b[K’\n",
            "   23 |     \u001b[01;36m\u001b[KLAUNCH_SORT\u001b[m\u001b[K(num_members, member_array, ???_sort, compare_by_???, ???);\n",
            "      |     \u001b[01;36m\u001b[K^~~~~~~~~~~\u001b[m\u001b[K\n",
            "\u001b[01m\u001b[Kmain.h:43:6:\u001b[m\u001b[K \u001b[01;36m\u001b[Knote: \u001b[m\u001b[Kdeclared here\n",
            "   43 | void \u001b[01;36m\u001b[Klaunch_sort\u001b[m\u001b[K(int n, Member *data[], void (*sort_func)(int, Member**, CmpFunc, int), CmpFunc cmp, int descending, const char *sort_name, const char *cmp_name);\n",
            "      |      \u001b[01;36m\u001b[K^~~~~~~~~~~\u001b[m\u001b[K\n",
            "/usr/bin/ld: cannot find test2-2.o: No such file or directory\n",
            "collect2: error: ld returned 1 exit status\n"
          ]
        }
      ]
    },
    {
      "cell_type": "markdown",
      "source": [
        "###実行"
      ],
      "metadata": {
        "id": "vxy11V2anzVp"
      }
    },
    {
      "cell_type": "code",
      "source": [
        "!./test2-2"
      ],
      "metadata": {
        "colab": {
          "base_uri": "https://localhost:8080/"
        },
        "outputId": "62534c59-6863-4ff2-cda9-4ad323c722dd",
        "id": "qKWCxrBNnzVq"
      },
      "execution_count": null,
      "outputs": [
        {
          "output_type": "stream",
          "name": "stdout",
          "text": [
            "/bin/bash: line 1: ./test2-2: No such file or directory\n"
          ]
        }
      ]
    },
    {
      "cell_type": "markdown",
      "source": [
        "#発展課題 安定したソート"
      ],
      "metadata": {
        "id": "TYjsrgcosKpW"
      }
    },
    {
      "cell_type": "markdown",
      "source": [
        "##発展課題1\n",
        "1. メンバを読み込み、所属(group)の順にソートせよ。ただし、同じ所属のメンバの中では名前(読み)(yomi)順にソートされているようにせよ。\n",
        "2. この時、最も比較(compare)回数が少なくなる組合せは、どれとどれか。\n",
        "3. この時、最も交換(swap)回数が少なくなる組合せは、どれとどれか。"
      ],
      "metadata": {
        "id": "p-Zbtl6nsO-c"
      }
    },
    {
      "cell_type": "markdown",
      "source": [
        "###メインプログラム"
      ],
      "metadata": {
        "id": "8Em3U8pxurBZ"
      }
    },
    {
      "cell_type": "code",
      "source": [
        "%%file test3-1.c\n",
        "#include <stdio.h>\n",
        "#include <stdlib.h>\n",
        "#include <string.h>\n",
        "#include \"main.h\"\n",
        "\n",
        "int main(void) {\n",
        "    Member **member_array;\n",
        "    int num_members;\n",
        "\n",
        "    member_array = init_members_from_file(\"members.csv\", &num_members);\n",
        "\n",
        "    printf(\"initial:\\n\");\n",
        "    printarray(num_members, member_array);\n",
        "\n",
        "    LAUNCH_SORT(num_members, member_array, ???_sort, compare_by_???, ???);\n",
        "    printarray(num_members, member_array);\n",
        "    print_counter();\n",
        "\n",
        "    LAUNCH_SORT(num_members, member_array, ???_sort, compare_by_???, ???);\n",
        "    printarray(num_members, member_array);\n",
        "    print_counter();\n",
        "\n",
        "    return 0;\n",
        "}"
      ],
      "metadata": {
        "colab": {
          "base_uri": "https://localhost:8080/"
        },
        "id": "clF75BqpNC4Y",
        "outputId": "ec32fca6-b546-4f80-e2c4-4179ed53841e"
      },
      "execution_count": null,
      "outputs": [
        {
          "output_type": "stream",
          "name": "stdout",
          "text": [
            "Writing test3-1.c\n"
          ]
        }
      ]
    },
    {
      "cell_type": "markdown",
      "source": [
        "###コンパイル(test3-1.c)＆リンク"
      ],
      "metadata": {
        "id": "x1LequbJutto"
      }
    },
    {
      "cell_type": "code",
      "source": [
        "!gcc test3-1.c -c\n",
        "!gcc tool.o compare.o bubble_sort.o bubble2_sort.o shaker_sort.o insert_sort.o select_sort.o quick_sort.o test3-1.o -o test3-1"
      ],
      "metadata": {
        "id": "wr704rVANX9m",
        "colab": {
          "base_uri": "https://localhost:8080/"
        },
        "outputId": "55603627-26b7-4de2-8aa2-3c755b154f63"
      },
      "execution_count": null,
      "outputs": [
        {
          "output_type": "stream",
          "name": "stdout",
          "text": [
            "\u001b[01m\u001b[Ktest3-1.c:\u001b[m\u001b[K In function ‘\u001b[01m\u001b[Kmain\u001b[m\u001b[K’:\n",
            "\u001b[01m\u001b[Ktest3-1.c:15:71:\u001b[m\u001b[K \u001b[01;35m\u001b[Kwarning: \u001b[m\u001b[Ktrigraph ??) ignored, use -trigraphs to enable [\u001b[01;35m\u001b[K\u001b]8;;https://gcc.gnu.org/onlinedocs/gcc/Warning-Options.html#index-Wtrigraphs\u0007-Wtrigraphs\u001b]8;;\u0007\u001b[m\u001b[K]\n",
            "   15 |     LAUNCH_SORT(num_members, member_array, ???_sort, compare_by_???, ???);\n",
            "      |                                                                        \n",
            "In file included from \u001b[01m\u001b[Ktest3-1.c:4\u001b[m\u001b[K:\n",
            "\u001b[01m\u001b[Ktest3-1.c:15:44:\u001b[m\u001b[K \u001b[01;31m\u001b[Kerror: \u001b[m\u001b[Kexpected expression before ‘\u001b[01m\u001b[K?\u001b[m\u001b[K’ token\n",
            "   15 |     LAUNCH_SORT(num_members, member_array, \u001b[01;31m\u001b[K?\u001b[m\u001b[K??_sort, compare_by_???, ???);\n",
            "      |                                            \u001b[01;31m\u001b[K^\u001b[m\u001b[K\n",
            "\u001b[01m\u001b[Kmain.h:44:80:\u001b[m\u001b[K \u001b[01;36m\u001b[Knote: \u001b[m\u001b[Kin definition of macro ‘\u001b[01m\u001b[KLAUNCH_SORT\u001b[m\u001b[K’\n",
            "   44 | #define LAUNCH_SORT(n, data, sort_func, cmp, descending)  launch_sort(n, data, \u001b[01;36m\u001b[Ksort_func\u001b[m\u001b[K, cmp, descending, #sort_func, #cmp)\n",
            "      |                                                                                \u001b[01;36m\u001b[K^~~~~~~~~\u001b[m\u001b[K\n",
            "\u001b[01m\u001b[Ktest3-1.c:15:47:\u001b[m\u001b[K \u001b[01;31m\u001b[Kerror: \u001b[m\u001b[K‘\u001b[01m\u001b[K_sort\u001b[m\u001b[K’ undeclared (first use in this function); did you mean ‘\u001b[01m\u001b[Kqsort\u001b[m\u001b[K’?\n",
            "   15 |     LAUNCH_SORT(num_members, member_array, ???\u001b[01;31m\u001b[K_sort\u001b[m\u001b[K, compare_by_???, ???);\n",
            "      |                                               \u001b[01;31m\u001b[K^~~~~\u001b[m\u001b[K\n",
            "\u001b[01m\u001b[Kmain.h:44:80:\u001b[m\u001b[K \u001b[01;36m\u001b[Knote: \u001b[m\u001b[Kin definition of macro ‘\u001b[01m\u001b[KLAUNCH_SORT\u001b[m\u001b[K’\n",
            "   44 | #define LAUNCH_SORT(n, data, sort_func, cmp, descending)  launch_sort(n, data, \u001b[01;36m\u001b[Ksort_func\u001b[m\u001b[K, cmp, descending, #sort_func, #cmp)\n",
            "      |                                                                                \u001b[01;36m\u001b[K^~~~~~~~~\u001b[m\u001b[K\n",
            "\u001b[01m\u001b[Ktest3-1.c:15:47:\u001b[m\u001b[K \u001b[01;36m\u001b[Knote: \u001b[m\u001b[Keach undeclared identifier is reported only once for each function it appears in\n",
            "   15 |     LAUNCH_SORT(num_members, member_array, ???\u001b[01;36m\u001b[K_sort\u001b[m\u001b[K, compare_by_???, ???);\n",
            "      |                                               \u001b[01;36m\u001b[K^~~~~\u001b[m\u001b[K\n",
            "\u001b[01m\u001b[Kmain.h:44:80:\u001b[m\u001b[K \u001b[01;36m\u001b[Knote: \u001b[m\u001b[Kin definition of macro ‘\u001b[01m\u001b[KLAUNCH_SORT\u001b[m\u001b[K’\n",
            "   44 | #define LAUNCH_SORT(n, data, sort_func, cmp, descending)  launch_sort(n, data, \u001b[01;36m\u001b[Ksort_func\u001b[m\u001b[K, cmp, descending, #sort_func, #cmp)\n",
            "      |                                                                                \u001b[01;36m\u001b[K^~~~~~~~~\u001b[m\u001b[K\n",
            "\u001b[01m\u001b[Ktest3-1.c:15:54:\u001b[m\u001b[K \u001b[01;31m\u001b[Kerror: \u001b[m\u001b[K‘\u001b[01m\u001b[Kcompare_by_\u001b[m\u001b[K’ undeclared (first use in this function); did you mean ‘\u001b[01m\u001b[Kcompare_by_age\u001b[m\u001b[K’?\n",
            "   15 |     LAUNCH_SORT(num_members, member_array, ???_sort, \u001b[01;31m\u001b[Kcompare_by_\u001b[m\u001b[K???, ???);\n",
            "      |                                                      \u001b[01;31m\u001b[K^~~~~~~~~~~\u001b[m\u001b[K\n",
            "\u001b[01m\u001b[Kmain.h:44:91:\u001b[m\u001b[K \u001b[01;36m\u001b[Knote: \u001b[m\u001b[Kin definition of macro ‘\u001b[01m\u001b[KLAUNCH_SORT\u001b[m\u001b[K’\n",
            "   44 | #define LAUNCH_SORT(n, data, sort_func, cmp, descending)  launch_sort(n, data, sort_func, \u001b[01;36m\u001b[Kcmp\u001b[m\u001b[K, descending, #sort_func, #cmp)\n",
            "      |                                                                                           \u001b[01;36m\u001b[K^~~\u001b[m\u001b[K\n",
            "\u001b[01m\u001b[Kmain.h:44:59:\u001b[m\u001b[K \u001b[01;31m\u001b[Kerror: \u001b[m\u001b[Ktoo few arguments to function ‘\u001b[01m\u001b[Klaunch_sort\u001b[m\u001b[K’\n",
            "   44 | #define LAUNCH_SORT(n, data, sort_func, cmp, descending)  \u001b[01;31m\u001b[Klaunch_sort\u001b[m\u001b[K(n, data, sort_func, cmp, descending, #sort_func, #cmp)\n",
            "      |                                                           \u001b[01;31m\u001b[K^~~~~~~~~~~\u001b[m\u001b[K\n",
            "\u001b[01m\u001b[Ktest3-1.c:15:5:\u001b[m\u001b[K \u001b[01;36m\u001b[Knote: \u001b[m\u001b[Kin expansion of macro ‘\u001b[01m\u001b[KLAUNCH_SORT\u001b[m\u001b[K’\n",
            "   15 |     \u001b[01;36m\u001b[KLAUNCH_SORT\u001b[m\u001b[K(num_members, member_array, ???_sort, compare_by_???, ???);\n",
            "      |     \u001b[01;36m\u001b[K^~~~~~~~~~~\u001b[m\u001b[K\n",
            "\u001b[01m\u001b[Kmain.h:43:6:\u001b[m\u001b[K \u001b[01;36m\u001b[Knote: \u001b[m\u001b[Kdeclared here\n",
            "   43 | void \u001b[01;36m\u001b[Klaunch_sort\u001b[m\u001b[K(int n, Member *data[], void (*sort_func)(int, Member**, CmpFunc, int), CmpFunc cmp, int descending, const char *sort_name, const char *cmp_name);\n",
            "      |      \u001b[01;36m\u001b[K^~~~~~~~~~~\u001b[m\u001b[K\n",
            "\u001b[01m\u001b[Ktest3-1.c:19:71:\u001b[m\u001b[K \u001b[01;35m\u001b[Kwarning: \u001b[m\u001b[Ktrigraph ??) ignored, use -trigraphs to enable [\u001b[01;35m\u001b[K\u001b]8;;https://gcc.gnu.org/onlinedocs/gcc/Warning-Options.html#index-Wtrigraphs\u0007-Wtrigraphs\u001b]8;;\u0007\u001b[m\u001b[K]\n",
            "   19 |     LAUNCH_SORT(num_members, member_array, ???_sort, compare_by_???, ???);\n",
            "      |                                                                        \n",
            "In file included from \u001b[01m\u001b[Ktest3-1.c:4\u001b[m\u001b[K:\n",
            "\u001b[01m\u001b[Ktest3-1.c:19:44:\u001b[m\u001b[K \u001b[01;31m\u001b[Kerror: \u001b[m\u001b[Kexpected expression before ‘\u001b[01m\u001b[K?\u001b[m\u001b[K’ token\n",
            "   19 |     LAUNCH_SORT(num_members, member_array, \u001b[01;31m\u001b[K?\u001b[m\u001b[K??_sort, compare_by_???, ???);\n",
            "      |                                            \u001b[01;31m\u001b[K^\u001b[m\u001b[K\n",
            "\u001b[01m\u001b[Kmain.h:44:80:\u001b[m\u001b[K \u001b[01;36m\u001b[Knote: \u001b[m\u001b[Kin definition of macro ‘\u001b[01m\u001b[KLAUNCH_SORT\u001b[m\u001b[K’\n",
            "   44 | #define LAUNCH_SORT(n, data, sort_func, cmp, descending)  launch_sort(n, data, \u001b[01;36m\u001b[Ksort_func\u001b[m\u001b[K, cmp, descending, #sort_func, #cmp)\n",
            "      |                                                                                \u001b[01;36m\u001b[K^~~~~~~~~\u001b[m\u001b[K\n",
            "\u001b[01m\u001b[Kmain.h:44:59:\u001b[m\u001b[K \u001b[01;31m\u001b[Kerror: \u001b[m\u001b[Ktoo few arguments to function ‘\u001b[01m\u001b[Klaunch_sort\u001b[m\u001b[K’\n",
            "   44 | #define LAUNCH_SORT(n, data, sort_func, cmp, descending)  \u001b[01;31m\u001b[Klaunch_sort\u001b[m\u001b[K(n, data, sort_func, cmp, descending, #sort_func, #cmp)\n",
            "      |                                                           \u001b[01;31m\u001b[K^~~~~~~~~~~\u001b[m\u001b[K\n",
            "\u001b[01m\u001b[Ktest3-1.c:19:5:\u001b[m\u001b[K \u001b[01;36m\u001b[Knote: \u001b[m\u001b[Kin expansion of macro ‘\u001b[01m\u001b[KLAUNCH_SORT\u001b[m\u001b[K’\n",
            "   19 |     \u001b[01;36m\u001b[KLAUNCH_SORT\u001b[m\u001b[K(num_members, member_array, ???_sort, compare_by_???, ???);\n",
            "      |     \u001b[01;36m\u001b[K^~~~~~~~~~~\u001b[m\u001b[K\n",
            "\u001b[01m\u001b[Kmain.h:43:6:\u001b[m\u001b[K \u001b[01;36m\u001b[Knote: \u001b[m\u001b[Kdeclared here\n",
            "   43 | void \u001b[01;36m\u001b[Klaunch_sort\u001b[m\u001b[K(int n, Member *data[], void (*sort_func)(int, Member**, CmpFunc, int), CmpFunc cmp, int descending, const char *sort_name, const char *cmp_name);\n",
            "      |      \u001b[01;36m\u001b[K^~~~~~~~~~~\u001b[m\u001b[K\n",
            "/usr/bin/ld: cannot find test3-1.o: No such file or directory\n",
            "collect2: error: ld returned 1 exit status\n"
          ]
        }
      ]
    },
    {
      "cell_type": "markdown",
      "source": [
        "###実行"
      ],
      "metadata": {
        "id": "2jXJE4mmuxiO"
      }
    },
    {
      "cell_type": "code",
      "source": [
        "!./test3-1"
      ],
      "metadata": {
        "colab": {
          "base_uri": "https://localhost:8080/"
        },
        "outputId": "7bcbd4a5-4c5a-4ad2-b3d8-d8175dac98ed",
        "id": "YFrXgMitNgaC"
      },
      "execution_count": null,
      "outputs": [
        {
          "output_type": "stream",
          "name": "stdout",
          "text": [
            "/bin/bash: line 1: ./test3-1: No such file or directory\n"
          ]
        }
      ]
    },
    {
      "cell_type": "markdown",
      "source": [
        "##発展課題2\n",
        "1. メンバを読み込み、強さ(score)の強い順にソートせよ。ただし、同じ強さの場合は、年齢(age)の高い方から順に並ぶようにせよ。\n",
        "2. この時、比較(compare)回数が最も少なくなる組合せは、どれとどれか。\n",
        "3. この時、交換(swap)回数が最も少なくなる組合せは、どれとどれか。"
      ],
      "metadata": {
        "id": "fI9LEkZku0py"
      }
    },
    {
      "cell_type": "markdown",
      "source": [
        "###メインプログラム"
      ],
      "metadata": {
        "id": "QUcFyQ5mvVn6"
      }
    },
    {
      "cell_type": "code",
      "source": [
        "%%file test3-2.c\n",
        "#include <stdio.h>\n",
        "#include <stdlib.h>\n",
        "#include <string.h>\n",
        "#include \"main.h\"\n",
        "\n",
        "int main(void) {\n",
        "    Member **member_array;\n",
        "    int num_members;\n",
        "\n",
        "    member_array = init_members_from_file(\"members.csv\", &num_members);\n",
        "\n",
        "    printf(\"initial:\\n\");\n",
        "    printarray(num_members, member_array);\n",
        "\n",
        "    LAUNCH_SORT(num_members, member_array, ???_sort, compare_by_???, ???);\n",
        "    printarray(num_members, member_array);\n",
        "    print_counter();\n",
        "\n",
        "    LAUNCH_SORT(num_members, member_array, ???_sort, compare_by_???, ???);\n",
        "    printarray(num_members, member_array);\n",
        "    print_counter();\n",
        "\n",
        "    return 0;\n",
        "}"
      ],
      "metadata": {
        "colab": {
          "base_uri": "https://localhost:8080/"
        },
        "outputId": "78a582c9-c330-4833-e923-7309c84cafc0",
        "id": "PpOsCyaPW4UC"
      },
      "execution_count": null,
      "outputs": [
        {
          "output_type": "stream",
          "name": "stdout",
          "text": [
            "Writing test3-2.c\n"
          ]
        }
      ]
    },
    {
      "cell_type": "markdown",
      "source": [
        "###コンパイル(test3-2.c)＆リンク"
      ],
      "metadata": {
        "id": "ujTkJwuOKS70"
      }
    },
    {
      "cell_type": "code",
      "source": [
        "!gcc test3-2.c -c\n",
        "!gcc tool.o compare.o bubble_sort.o bubble2_sort.o shaker_sort.o insert_sort.o select_sort.o quick_sort.o test3-2.o -o test3-2"
      ],
      "metadata": {
        "id": "4FjV7w-qW4UI",
        "colab": {
          "base_uri": "https://localhost:8080/"
        },
        "outputId": "4a719ba9-b1fd-4601-e615-3ede4b05f799"
      },
      "execution_count": null,
      "outputs": [
        {
          "output_type": "stream",
          "name": "stdout",
          "text": [
            "\u001b[01m\u001b[Ktest3-2.c:\u001b[m\u001b[K In function ‘\u001b[01m\u001b[Kmain\u001b[m\u001b[K’:\n",
            "\u001b[01m\u001b[Ktest3-2.c:15:71:\u001b[m\u001b[K \u001b[01;35m\u001b[Kwarning: \u001b[m\u001b[Ktrigraph ??) ignored, use -trigraphs to enable [\u001b[01;35m\u001b[K\u001b]8;;https://gcc.gnu.org/onlinedocs/gcc/Warning-Options.html#index-Wtrigraphs\u0007-Wtrigraphs\u001b]8;;\u0007\u001b[m\u001b[K]\n",
            "   15 |     LAUNCH_SORT(num_members, member_array, ???_sort, compare_by_???, ???);\n",
            "      |                                                                        \n",
            "In file included from \u001b[01m\u001b[Ktest3-2.c:4\u001b[m\u001b[K:\n",
            "\u001b[01m\u001b[Ktest3-2.c:15:44:\u001b[m\u001b[K \u001b[01;31m\u001b[Kerror: \u001b[m\u001b[Kexpected expression before ‘\u001b[01m\u001b[K?\u001b[m\u001b[K’ token\n",
            "   15 |     LAUNCH_SORT(num_members, member_array, \u001b[01;31m\u001b[K?\u001b[m\u001b[K??_sort, compare_by_???, ???);\n",
            "      |                                            \u001b[01;31m\u001b[K^\u001b[m\u001b[K\n",
            "\u001b[01m\u001b[Kmain.h:44:80:\u001b[m\u001b[K \u001b[01;36m\u001b[Knote: \u001b[m\u001b[Kin definition of macro ‘\u001b[01m\u001b[KLAUNCH_SORT\u001b[m\u001b[K’\n",
            "   44 | #define LAUNCH_SORT(n, data, sort_func, cmp, descending)  launch_sort(n, data, \u001b[01;36m\u001b[Ksort_func\u001b[m\u001b[K, cmp, descending, #sort_func, #cmp)\n",
            "      |                                                                                \u001b[01;36m\u001b[K^~~~~~~~~\u001b[m\u001b[K\n",
            "\u001b[01m\u001b[Ktest3-2.c:15:47:\u001b[m\u001b[K \u001b[01;31m\u001b[Kerror: \u001b[m\u001b[K‘\u001b[01m\u001b[K_sort\u001b[m\u001b[K’ undeclared (first use in this function); did you mean ‘\u001b[01m\u001b[Kqsort\u001b[m\u001b[K’?\n",
            "   15 |     LAUNCH_SORT(num_members, member_array, ???\u001b[01;31m\u001b[K_sort\u001b[m\u001b[K, compare_by_???, ???);\n",
            "      |                                               \u001b[01;31m\u001b[K^~~~~\u001b[m\u001b[K\n",
            "\u001b[01m\u001b[Kmain.h:44:80:\u001b[m\u001b[K \u001b[01;36m\u001b[Knote: \u001b[m\u001b[Kin definition of macro ‘\u001b[01m\u001b[KLAUNCH_SORT\u001b[m\u001b[K’\n",
            "   44 | #define LAUNCH_SORT(n, data, sort_func, cmp, descending)  launch_sort(n, data, \u001b[01;36m\u001b[Ksort_func\u001b[m\u001b[K, cmp, descending, #sort_func, #cmp)\n",
            "      |                                                                                \u001b[01;36m\u001b[K^~~~~~~~~\u001b[m\u001b[K\n",
            "\u001b[01m\u001b[Ktest3-2.c:15:47:\u001b[m\u001b[K \u001b[01;36m\u001b[Knote: \u001b[m\u001b[Keach undeclared identifier is reported only once for each function it appears in\n",
            "   15 |     LAUNCH_SORT(num_members, member_array, ???\u001b[01;36m\u001b[K_sort\u001b[m\u001b[K, compare_by_???, ???);\n",
            "      |                                               \u001b[01;36m\u001b[K^~~~~\u001b[m\u001b[K\n",
            "\u001b[01m\u001b[Kmain.h:44:80:\u001b[m\u001b[K \u001b[01;36m\u001b[Knote: \u001b[m\u001b[Kin definition of macro ‘\u001b[01m\u001b[KLAUNCH_SORT\u001b[m\u001b[K’\n",
            "   44 | #define LAUNCH_SORT(n, data, sort_func, cmp, descending)  launch_sort(n, data, \u001b[01;36m\u001b[Ksort_func\u001b[m\u001b[K, cmp, descending, #sort_func, #cmp)\n",
            "      |                                                                                \u001b[01;36m\u001b[K^~~~~~~~~\u001b[m\u001b[K\n",
            "\u001b[01m\u001b[Ktest3-2.c:15:54:\u001b[m\u001b[K \u001b[01;31m\u001b[Kerror: \u001b[m\u001b[K‘\u001b[01m\u001b[Kcompare_by_\u001b[m\u001b[K’ undeclared (first use in this function); did you mean ‘\u001b[01m\u001b[Kcompare_by_age\u001b[m\u001b[K’?\n",
            "   15 |     LAUNCH_SORT(num_members, member_array, ???_sort, \u001b[01;31m\u001b[Kcompare_by_\u001b[m\u001b[K???, ???);\n",
            "      |                                                      \u001b[01;31m\u001b[K^~~~~~~~~~~\u001b[m\u001b[K\n",
            "\u001b[01m\u001b[Kmain.h:44:91:\u001b[m\u001b[K \u001b[01;36m\u001b[Knote: \u001b[m\u001b[Kin definition of macro ‘\u001b[01m\u001b[KLAUNCH_SORT\u001b[m\u001b[K’\n",
            "   44 | #define LAUNCH_SORT(n, data, sort_func, cmp, descending)  launch_sort(n, data, sort_func, \u001b[01;36m\u001b[Kcmp\u001b[m\u001b[K, descending, #sort_func, #cmp)\n",
            "      |                                                                                           \u001b[01;36m\u001b[K^~~\u001b[m\u001b[K\n",
            "\u001b[01m\u001b[Kmain.h:44:59:\u001b[m\u001b[K \u001b[01;31m\u001b[Kerror: \u001b[m\u001b[Ktoo few arguments to function ‘\u001b[01m\u001b[Klaunch_sort\u001b[m\u001b[K’\n",
            "   44 | #define LAUNCH_SORT(n, data, sort_func, cmp, descending)  \u001b[01;31m\u001b[Klaunch_sort\u001b[m\u001b[K(n, data, sort_func, cmp, descending, #sort_func, #cmp)\n",
            "      |                                                           \u001b[01;31m\u001b[K^~~~~~~~~~~\u001b[m\u001b[K\n",
            "\u001b[01m\u001b[Ktest3-2.c:15:5:\u001b[m\u001b[K \u001b[01;36m\u001b[Knote: \u001b[m\u001b[Kin expansion of macro ‘\u001b[01m\u001b[KLAUNCH_SORT\u001b[m\u001b[K’\n",
            "   15 |     \u001b[01;36m\u001b[KLAUNCH_SORT\u001b[m\u001b[K(num_members, member_array, ???_sort, compare_by_???, ???);\n",
            "      |     \u001b[01;36m\u001b[K^~~~~~~~~~~\u001b[m\u001b[K\n",
            "\u001b[01m\u001b[Kmain.h:43:6:\u001b[m\u001b[K \u001b[01;36m\u001b[Knote: \u001b[m\u001b[Kdeclared here\n",
            "   43 | void \u001b[01;36m\u001b[Klaunch_sort\u001b[m\u001b[K(int n, Member *data[], void (*sort_func)(int, Member**, CmpFunc, int), CmpFunc cmp, int descending, const char *sort_name, const char *cmp_name);\n",
            "      |      \u001b[01;36m\u001b[K^~~~~~~~~~~\u001b[m\u001b[K\n",
            "\u001b[01m\u001b[Ktest3-2.c:19:71:\u001b[m\u001b[K \u001b[01;35m\u001b[Kwarning: \u001b[m\u001b[Ktrigraph ??) ignored, use -trigraphs to enable [\u001b[01;35m\u001b[K\u001b]8;;https://gcc.gnu.org/onlinedocs/gcc/Warning-Options.html#index-Wtrigraphs\u0007-Wtrigraphs\u001b]8;;\u0007\u001b[m\u001b[K]\n",
            "   19 |     LAUNCH_SORT(num_members, member_array, ???_sort, compare_by_???, ???);\n",
            "      |                                                                        \n",
            "In file included from \u001b[01m\u001b[Ktest3-2.c:4\u001b[m\u001b[K:\n",
            "\u001b[01m\u001b[Ktest3-2.c:19:44:\u001b[m\u001b[K \u001b[01;31m\u001b[Kerror: \u001b[m\u001b[Kexpected expression before ‘\u001b[01m\u001b[K?\u001b[m\u001b[K’ token\n",
            "   19 |     LAUNCH_SORT(num_members, member_array, \u001b[01;31m\u001b[K?\u001b[m\u001b[K??_sort, compare_by_???, ???);\n",
            "      |                                            \u001b[01;31m\u001b[K^\u001b[m\u001b[K\n",
            "\u001b[01m\u001b[Kmain.h:44:80:\u001b[m\u001b[K \u001b[01;36m\u001b[Knote: \u001b[m\u001b[Kin definition of macro ‘\u001b[01m\u001b[KLAUNCH_SORT\u001b[m\u001b[K’\n",
            "   44 | #define LAUNCH_SORT(n, data, sort_func, cmp, descending)  launch_sort(n, data, \u001b[01;36m\u001b[Ksort_func\u001b[m\u001b[K, cmp, descending, #sort_func, #cmp)\n",
            "      |                                                                                \u001b[01;36m\u001b[K^~~~~~~~~\u001b[m\u001b[K\n",
            "\u001b[01m\u001b[Kmain.h:44:59:\u001b[m\u001b[K \u001b[01;31m\u001b[Kerror: \u001b[m\u001b[Ktoo few arguments to function ‘\u001b[01m\u001b[Klaunch_sort\u001b[m\u001b[K’\n",
            "   44 | #define LAUNCH_SORT(n, data, sort_func, cmp, descending)  \u001b[01;31m\u001b[Klaunch_sort\u001b[m\u001b[K(n, data, sort_func, cmp, descending, #sort_func, #cmp)\n",
            "      |                                                           \u001b[01;31m\u001b[K^~~~~~~~~~~\u001b[m\u001b[K\n",
            "\u001b[01m\u001b[Ktest3-2.c:19:5:\u001b[m\u001b[K \u001b[01;36m\u001b[Knote: \u001b[m\u001b[Kin expansion of macro ‘\u001b[01m\u001b[KLAUNCH_SORT\u001b[m\u001b[K’\n",
            "   19 |     \u001b[01;36m\u001b[KLAUNCH_SORT\u001b[m\u001b[K(num_members, member_array, ???_sort, compare_by_???, ???);\n",
            "      |     \u001b[01;36m\u001b[K^~~~~~~~~~~\u001b[m\u001b[K\n",
            "\u001b[01m\u001b[Kmain.h:43:6:\u001b[m\u001b[K \u001b[01;36m\u001b[Knote: \u001b[m\u001b[Kdeclared here\n",
            "   43 | void \u001b[01;36m\u001b[Klaunch_sort\u001b[m\u001b[K(int n, Member *data[], void (*sort_func)(int, Member**, CmpFunc, int), CmpFunc cmp, int descending, const char *sort_name, const char *cmp_name);\n",
            "      |      \u001b[01;36m\u001b[K^~~~~~~~~~~\u001b[m\u001b[K\n",
            "/usr/bin/ld: cannot find test3-2.o: No such file or directory\n",
            "collect2: error: ld returned 1 exit status\n"
          ]
        }
      ]
    },
    {
      "cell_type": "markdown",
      "source": [
        "###実行"
      ],
      "metadata": {
        "id": "CGXWdYxaKX9-"
      }
    },
    {
      "cell_type": "code",
      "source": [
        "!./test3-2"
      ],
      "metadata": {
        "colab": {
          "base_uri": "https://localhost:8080/"
        },
        "outputId": "d83b2551-ad17-4890-b454-59c7b6e6951c",
        "id": "SMO16OPdW4UI"
      },
      "execution_count": null,
      "outputs": [
        {
          "output_type": "stream",
          "name": "stdout",
          "text": [
            "/bin/bash: line 1: ./test3-2: No such file or directory\n"
          ]
        }
      ]
    }
  ]
}