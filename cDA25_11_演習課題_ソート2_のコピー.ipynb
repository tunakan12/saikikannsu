{
  "nbformat": 4,
  "nbformat_minor": 0,
  "metadata": {
    "colab": {
      "provenance": [],
      "collapsed_sections": [
        "BOzYxF1gFEUU",
        "KGbuJK-3tvSW",
        "x2cglv57t4o8",
        "vK6VnqK3JuIn",
        "ari3MJyLTde0",
        "-ZkxkXawFMfI",
        "GJtQWxz7uNUJ",
        "WdxPYLkvYw9q",
        "wuJecI_sY1vw",
        "1NDbKb2durSi",
        "iz4nvq0z6cMt",
        "Ayy3D9ej_FX9",
        "5gDwI1x_Z3Mo",
        "JFJiBrqGCjPK",
        "rGTKoOeyCe2u",
        "7J9bktACMk9Y",
        "i_cR5DMcrF0d",
        "8BiTczoOqk59",
        "Xys5wQx-MtGi",
        "wIC3jugtM1rT",
        "6piLL6pXWNnk",
        "5czKYfdtW_7F",
        "895KWjtQWUo_",
        "kxvJWXG2XhJD",
        "Q7bIB-DZXnYt",
        "6fAlm1F3Y1P6",
        "lI6g6Qjmi9xl",
        "_Lf4Kn4Ii9xl",
        "JaAvocJvi9xl",
        "SwUUy-DESB7M",
        "K61aCRb_R9xO",
        "1nPFQK5lR9xI",
        "pt0V2A7a6-3M",
        "ytpW08KsR9xO",
        "AET4YDgrR9xP"
      ],
      "include_colab_link": true
    },
    "kernelspec": {
      "name": "python3",
      "display_name": "Python 3"
    },
    "language_info": {
      "name": "python"
    }
  },
  "cells": [
    {
      "cell_type": "markdown",
      "metadata": {
        "id": "view-in-github",
        "colab_type": "text"
      },
      "source": [
        "<a href=\"https://colab.research.google.com/github/tunakan12/saikikannsu/blob/main/cDA25_11_%E6%BC%94%E7%BF%92%E8%AA%B2%E9%A1%8C_%E3%82%BD%E3%83%BC%E3%83%882_%E3%81%AE%E3%82%B3%E3%83%94%E3%83%BC.ipynb\" target=\"_parent\"><img src=\"https://colab.research.google.com/assets/colab-badge.svg\" alt=\"Open In Colab\"/></a>"
      ]
    },
    {
      "cell_type": "markdown",
      "source": [
        "#（１）共通ツール：データ生成，配列の出力などの関数群"
      ],
      "metadata": {
        "id": "BOzYxF1gFEUU"
      }
    },
    {
      "cell_type": "markdown",
      "source": [
        "##(1a)ヘッダーファイル"
      ],
      "metadata": {
        "id": "KGbuJK-3tvSW"
      }
    },
    {
      "cell_type": "markdown",
      "source": [
        "構造体：counter\n",
        "  - compare: 比較回数\n",
        "  - swap: 交換回数\n",
        "  - move: 移動回数\n",
        "\n",
        "準備した関数\n",
        "- 基本関数\n",
        "  - swap：指定した２データの交換\n",
        "  - copyarray：配列データの複写\n",
        "  - printarray：配列データの出力\n",
        "- データ読み込み関数\n",
        "  - allocate_member：新しいメンバを割り当てる\n",
        "  - read_members_from_file：ファイルからメンバを読み込む\n",
        "  - init_members_from_file：新しいメンバを読み込む\n",
        "  - add_members_from_file：追加のメンバを読み込む\n",
        "- 比較関数\n",
        "  - compare_by_yomi：名前(読み)(yomi)で比較\n",
        "  - compare_by_age：年齢(age)で比較\n",
        "  - compare_by_height：身長(height)で比較\n",
        "  - compare_by_score：強さ(score)で比較\n",
        "  - compare_by_group：所属(group)で比較\n",
        "- ソート関数\n",
        "  - bubble_sort：バブルソート\n",
        "  - bubble2_sort：改良バブルソート\n",
        "  - shaker_sort：シェーカーソート\n",
        "  - select_sort：選択ソート\n",
        "  - insert_sort：挿入ソート\n",
        "  - quick_sort：クイックソート\n",
        "  - merge_sort：マージソート\n",
        "  - heap_sort：ヒープソート"
      ],
      "metadata": {
        "id": "VfTv6meV7BZC"
      }
    },
    {
      "cell_type": "code",
      "source": [
        "%%file main.h\n",
        "#define MAX_NAME  (12*3)\n",
        "#define MAX_ATTR  (3*3)\n",
        "// Member構造体の定義\n",
        "typedef struct member {\n",
        "    char  name[MAX_NAME+1];  // 名前(漢字表記)\n",
        "    char  yomi[MAX_NAME+1];  // 読み(カタカナ表記)\n",
        "    char  group[MAX_NAME+1]; // 所属\n",
        "    char  attr[MAX_ATTR+1];  // 属性\n",
        "    int   age;               // 年齢\n",
        "    float height;            // 身長\n",
        "    int   score;             // 強さ\n",
        "} Member;\n",
        "// 比較関数型へのポインタ\n",
        "typedef int (*CmpFunc)(const Member *, const Member *, int);\n",
        "// カウンタ型\n",
        "typedef struct counter{\n",
        "    int compare;\n",
        "    int swap;\n",
        "    int move;\n",
        "} Counter;\n",
        "\n",
        "// tool functions\n",
        "Member *allocate_member(const char *name, const char *yomi, const char *group, const char *attr, int age, float height, int score);\n",
        "Member **init_members_from_file(const char *filename, int *ret_num);\n",
        "Member **add_members_from_file(const char *filename, int *ret_num, Member **member_array);\n",
        "void swap(Member *data[], int idx1, int idx2);\n",
        "void copyarray(int n, Member *data1[], Member *data2[]);\n",
        "void printarray(int n, Member *data[]);\n",
        "\n",
        "// counter functions\n",
        "extern Counter ctr;\n",
        "void print_counter(void);\n",
        "void reset_counter(void);\n",
        "\n",
        "// compare functions\n",
        "int compare_by_yomi(const Member *data1, const Member *data2, int descending);\n",
        "int compare_by_age(const Member *data1, const Member *data2, int descending);\n",
        "int compare_by_height(const Member *data1, const Member *data2, int descending);\n",
        "int compare_by_score(const Member *data1, const Member *data2, int descending);\n",
        "int compare_by_group(const Member *data1, const Member *data2, int descending);\n",
        "\n",
        "// sort functions\n",
        "void launch_sort(int n, Member *data[], void (*sort_func)(int, Member**, CmpFunc, int), CmpFunc cmp, int descending, const char *sort_name, const char *cmp_name);\n",
        "#define LAUNCH_SORT(n, data, sort_func, cmp, descending)  launch_sort(n, data, sort_func, cmp, descending, #sort_func, #cmp)\n",
        "void bubble_sort(int n, Member *data[], CmpFunc cmp, int descending);\n",
        "void bubble2_sort(int n, Member *data[], CmpFunc cmp, int descending);\n",
        "void shaker_sort(int n, Member *data[], CmpFunc cmp, int descending);\n",
        "void select_sort(int n, Member *data[], CmpFunc cmp, int descending);\n",
        "void insert_sort(int n, Member *data[], CmpFunc cmp, int descending);\n",
        "void quick_sort(int n, Member *data[], CmpFunc cmp, int descending);\n",
        "void merge_sort(int n, Member *data[], CmpFunc cmp, int descending);\n",
        "void heap_sort(int n, Member *data[], CmpFunc Cmp, int descending);\n",
        "Member **merge_two_arrays(int n1, Member *data1[], int n2, Member *data2[], CmpFunc cmp, int descending, int *num_merged);\n",
        "Member **bucket_sort(int max_index, int n, Member *data[], int (*get_index)(const Member*), int descending);\n",
        "Member **merge_three_arrays(int n1, Member *data1[], int n2, Member *data2[], int n3, Member *data3[], CmpFunc cmp, int descending, int *num_merged);"
      ],
      "metadata": {
        "id": "arnKUk0tlqAD",
        "colab": {
          "base_uri": "https://localhost:8080/"
        },
        "outputId": "c9e3055a-30e6-4eb7-bac6-13a0f6f191a7"
      },
      "execution_count": 54,
      "outputs": [
        {
          "output_type": "stream",
          "name": "stdout",
          "text": [
            "Overwriting main.h\n"
          ]
        }
      ]
    },
    {
      "cell_type": "markdown",
      "source": [
        "##(1b)データ生成，配列の出力，コピー"
      ],
      "metadata": {
        "id": "x2cglv57t4o8"
      }
    },
    {
      "cell_type": "markdown",
      "source": [
        "基本関数\n",
        "- swap\n",
        " - 処理：指定した２データの交換\n",
        " - 入力：data[](Member*)：配列データ\n",
        " - 入力：idx1, 1dx2(int)：交換データのインデックス\n",
        "- copyarray\n",
        " - 処理：配列データの複写\n",
        " - 入力：n(int)：データサイズ，data1[](Member*)：入力元配列データ\n",
        " - 出力：data2[](int)：出力先配列データ\n",
        "- printarray\n",
        " - 処理：配列データの出力\n",
        " - 入力：n(int)：データサイズ，data[](Member*)：配列データ\n",
        " - 出力：出力先への配列データの出力\n",
        "\n",
        "カウンタ操作\n",
        "- print_counter\n",
        " - 処理：カウンタを表示(lap, all)\n",
        "- reset_counter\n",
        " - 処理：現在のカウンタをトータルカウンタに足しこみ、リセット\n",
        "\n",
        "メンバの割り当てと読み込み\n",
        "- allocate_member\n",
        " - 処理：新しいメンバ用の構造体を確保し代入\n",
        " - 入力：メンバの情報\n",
        " - 出力：Member型へのポインタ\n",
        "- read_members_from_file\n",
        " - 処理：CSVファイルからのメンバ情報の読み出し\n",
        " - 入力：filename(char\\*):ファイル名，ret_num(int\\*):データサイズへのポインタ，member_array(Member\\*\\*):メンバへの配列\n",
        " - 出力：情報格納後のメンバへの配列\n",
        "- init_members_from_file\n",
        " - 処理：CSVファイルからの初期メンバの読み出し\n",
        "- add_members_from_file\n",
        " - 処理：CSVファイルからの追加メンバの読み出し\n",
        "\n",
        "ソート関数の呼び出し\n",
        "- launch_sort\n",
        " - 処理：ソート関数の呼び出しを行う。LAUNCH_SORTマクロを使うことにより、ソート関数名、比較関数名、昇順/降順を自動的に表示する。"
      ],
      "metadata": {
        "id": "clfcv7fp_vV7"
      }
    },
    {
      "cell_type": "code",
      "source": [
        "%%file tool.c\n",
        "#include <stdio.h>\n",
        "#include <stdlib.h>\n",
        "#include <string.h>\n",
        "#include <time.h>\n",
        "#include \"main.h\"\n",
        "void swap(Member *data[], int idx1, int idx2) {\n",
        "    Member *temp;\n",
        "    if (idx1 != idx2) {\n",
        "        temp = data[idx1];\n",
        "        data[idx1] = data[idx2];\n",
        "        data[idx2] = temp;\n",
        "    }\n",
        "    return;\n",
        "}\n",
        "void printarray(int n, Member *data[]) {\n",
        "    for(int i=0; i<n; i++){\n",
        "        printf(\"%s(%s): 年齢:%d, 身長:%3.1lf, 強さ:%d, 所属:%s, 属性:%s\\n\",\n",
        "               data[i]->name, data[i]->yomi, data[i]->age, data[i]->height,\n",
        "               data[i]->score, data[i]->group, data[i]->attr);\n",
        "    }\n",
        "    return;\n",
        "}\n",
        "void copyarray(int n, Member *data1[], Member *data2[]) {\n",
        "    for(int i=0; i<n; i++){\n",
        "        data2[i] = data1[i];\n",
        "    }\n",
        "    return;\n",
        "}\n",
        "/**\n",
        " * カウンタの操作\n",
        " */\n",
        "Counter ctr;\n",
        "Counter total_ctr;\n",
        "void print_counter(void) {\n",
        "    printf(\"lap: compare = %d, swap = %d, move = %d\\n\", ctr.compare, ctr.swap, ctr.move);\n",
        "    printf(\"all: compare = %d, swap = %d, move = %d\\n\",\n",
        "           total_ctr.compare+ctr.compare, total_ctr.swap+ctr.swap, total_ctr.move+ctr.move);\n",
        "}\n",
        "void reset_counter(void) {\n",
        "    total_ctr.compare += ctr.compare;\n",
        "    total_ctr.swap    += ctr.swap;\n",
        "    total_ctr.move    += ctr.move;\n",
        "    ctr.compare = ctr.swap = ctr.move = 0;\n",
        "}\n",
        "\n",
        "/**\n",
        " * メンバの割り当てと読み込み\n",
        " */\n",
        "Member *allocate_member(const char *name, const char *yomi, const char *group, const char *attr, int age, float height, int score) {\n",
        "    Member *new_member;\n",
        "    new_member = (Member *)malloc(sizeof(Member));\n",
        "    if (new_member == NULL) {\n",
        "        printf(\"Cannot allocate new member\\n\");\n",
        "        return NULL;\n",
        "    }\n",
        "    strncpy(new_member->name, name, MAX_NAME);\n",
        "    strncpy(new_member->yomi, yomi, MAX_NAME);\n",
        "    strncpy(new_member->group, group, MAX_NAME);\n",
        "    strncpy(new_member->attr, attr, MAX_ATTR);\n",
        "    new_member->age = age;\n",
        "    new_member->height = height;\n",
        "    new_member->score = score;\n",
        "    return new_member;\n",
        "}\n",
        "Member **read_members_from_file(const char *filename, int *ret_num, Member **member_array) {\n",
        "    FILE *fin;\n",
        "    char buf[BUFSIZ];\n",
        "    int num_members, i;\n",
        "    char name[MAX_NAME+1];\n",
        "    char yomi[MAX_NAME+1];\n",
        "    char group[MAX_NAME+1];\n",
        "    char attr[MAX_ATTR+1];\n",
        "    int age;\n",
        "    float height;\n",
        "    int score;\n",
        "\n",
        "    fin = fopen(filename, \"r\");\n",
        "    if (fin == NULL) {\n",
        "        printf(\"Cannot open %s\\n\", filename);\n",
        "        return NULL;\n",
        "    }\n",
        "    if (fgets(buf, BUFSIZ, fin) == NULL || sscanf(buf, \"%d\", &num_members) < 1) {\n",
        "        printf(\"Illegal format %s\\n\", filename);\n",
        "        fclose(fin);\n",
        "        return NULL;\n",
        "    }\n",
        "    if (member_array == NULL) {\n",
        "        member_array = (Member**)malloc(sizeof(Member) * num_members);\n",
        "        if (member_array == NULL) {\n",
        "            printf(\"Cannot allocate array\\n\");\n",
        "            fclose(fin);\n",
        "            return NULL;\n",
        "        }\n",
        "    } else {\n",
        "        Member **tmp_member_array = (Member**)realloc(member_array, (sizeof(Member) * (num_members + *ret_num)));\n",
        "        if (tmp_member_array == NULL) {\n",
        "            printf(\"Cannot reallocate array\\n\");\n",
        "            fclose(fin);\n",
        "            return member_array;\n",
        "        }\n",
        "        member_array = tmp_member_array;\n",
        "    }\n",
        "    for (i = 0; i < num_members; i++) {\n",
        "        if (fgets(buf, BUFSIZ, fin) == NULL ||\n",
        "            sscanf(buf, \"%[^,],%[^,],%[^,],%[^,],%d,%f,%d\",\n",
        "                   name, yomi, group, attr, &age, &height, &score) < 7){\n",
        "            printf(\"Illegal format %s in line %d\\n\", filename, i+1);\n",
        "            break;\n",
        "        }\n",
        "        member_array[*ret_num + i] = allocate_member(name, yomi, group ,attr, age, height, score);\n",
        "    }\n",
        "    fclose(fin);\n",
        "    *ret_num += i;\n",
        "    return member_array;\n",
        "}\n",
        "Member **init_members_from_file(const char *filename, int *ret_num) {\n",
        "    *ret_num = 0;\n",
        "    return read_members_from_file(filename, ret_num, NULL);\n",
        "}\n",
        "Member **add_members_from_file(const char *filename, int *ret_num, Member **member_array) {\n",
        "    return read_members_from_file(filename, ret_num, member_array);\n",
        "}\n",
        "/**\n",
        " * ソート関数を呼び出し、その時のソート関数名、比較関数名、昇順か降順かを表示する\n",
        " */\n",
        "void launch_sort(int n, Member *data[], void (*sort_func)(int, Member**, CmpFunc, int), CmpFunc cmp, int descending,\n",
        "                 const char *sort_name, const char *cmp_name) {\n",
        "    printf(\"\\n%s with %s(%s)\\n\", sort_name, cmp_name, descending ? \"descending\" : \"ascending\");\n",
        "    sort_func(n, data, cmp, descending);\n",
        "}"
      ],
      "metadata": {
        "id": "d4lXnNM2lufn",
        "colab": {
          "base_uri": "https://localhost:8080/"
        },
        "outputId": "90308f1d-4355-4c67-8351-cdfa632b2ba4"
      },
      "execution_count": 55,
      "outputs": [
        {
          "output_type": "stream",
          "name": "stdout",
          "text": [
            "Overwriting tool.c\n"
          ]
        }
      ]
    },
    {
      "cell_type": "markdown",
      "source": [
        "##(1c)比較関数"
      ],
      "metadata": {
        "id": "vK6VnqK3JuIn"
      }
    },
    {
      "cell_type": "code",
      "source": [
        "%%file compare.c\n",
        "#include <stdio.h>\n",
        "#include <stdlib.h>\n",
        "#include <string.h>\n",
        "#include \"main.h\"\n",
        "\n",
        "// 名前(読み)(yomi)で比較\n",
        "int compare_by_yomi(const Member *data1, const Member *data2, int descending) {\n",
        "    int result = strcmp(data1->yomi, data2->yomi);\n",
        "    if (descending) {\n",
        "        result = -result;\n",
        "    }\n",
        "    return result;\n",
        "}\n",
        "// 年齢(age)で比較\n",
        "int compare_by_age(const Member *data1, const Member *data2, int descending) {\n",
        "    int result;\n",
        "    if (data1->age > data2->age) {\n",
        "        result = 1;\n",
        "    } else if (data1->age < data2->age) {\n",
        "        result = -1;\n",
        "    } else {\n",
        "        result = 0;\n",
        "    }\n",
        "    if (descending) {\n",
        "        result = -result;\n",
        "    }\n",
        "    return result;\n",
        "}\n",
        "// 身長(height)で比較\n",
        "int compare_by_height(const Member *data1, const Member *data2, int descending) {\n",
        "    int result;\n",
        "    if (data1->height > data2->height) {\n",
        "        result = 1;\n",
        "    } else if (data1->height < data2->height) {\n",
        "        result = -1;\n",
        "    } else {\n",
        "        result = 0;\n",
        "    }\n",
        "    if (descending) {\n",
        "        result = -result;\n",
        "    }\n",
        "    return result;\n",
        "}\n",
        "// 強さ(score)で比較\n",
        "int compare_by_score(const Member *data1, const Member *data2, int descending) {\n",
        "    int result;\n",
        "    if (data1->score > data2->score) {\n",
        "        result = 1;\n",
        "    } else if (data1->score < data2->score) {\n",
        "        result = -1;\n",
        "    } else {\n",
        "        result = 0;\n",
        "    }\n",
        "    if (descending) {\n",
        "        result = -result;\n",
        "    }\n",
        "    return result;\n",
        "}\n",
        "// 所属(group)で比較\n",
        "int compare_by_group(const Member *data1, const Member *data2, int descending) {\n",
        "    int result = strcmp(data1->group, data2->group);\n",
        "    if (descending) {\n",
        "        result = -result;\n",
        "    }\n",
        "    return result;\n",
        "}"
      ],
      "metadata": {
        "id": "-5J-2q9UpkFU",
        "colab": {
          "base_uri": "https://localhost:8080/"
        },
        "outputId": "31b0b9aa-02d5-4db8-af33-0241259f08f1"
      },
      "execution_count": 56,
      "outputs": [
        {
          "output_type": "stream",
          "name": "stdout",
          "text": [
            "Overwriting compare.c\n"
          ]
        }
      ]
    },
    {
      "cell_type": "markdown",
      "source": [
        "##(1d)メンバ定義\n",
        "\n",
        "最初の1行目に全部で何人分のデータが続くかを示す整数。\n",
        "以下、各行に\n",
        "\n",
        "名前,読み,所属,属性,年齢,身長,強さ\n",
        "\n",
        "の順に与える。"
      ],
      "metadata": {
        "id": "ari3MJyLTde0"
      }
    },
    {
      "cell_type": "code",
      "source": [
        "%%file members.csv\n",
        "15\n",
        "竈門炭治郎,カマドタンジロウ,蒲鉾,水,16,165.0,40\n",
        "冨岡義勇,トミオカギユウ,柱,水,21,176.0,80\n",
        "竈門禰豆子,カマドネズコ,蒲鉾,鬼,14,150.0,30\n",
        "我妻善逸,アガツマゼンイツ,蒲鉾,雷,16,164.5,40\n",
        "栗花落カナヲ,ツユリカナヲ,五感,花,16,156.0,50\n",
        "嘴平伊之助,ハシビライノスケ,蒲鉾,獣,15,164.0,40\n",
        "胡蝶しのぶ,コチョウシノブ,柱,蟲,18,151.0,70\n",
        "煉獄杏寿郎,レンゴクキョウジュロウ,柱,炎,20,177.0,80\n",
        "宇随天元,ウズイテンゲン,柱,音,23,198.0,80\n",
        "時透無一郎,トキトウムイチロウ,柱,霞,14,160.0,90\n",
        "甘露寺蜜璃,カンロジミツリ,柱,恋,19,167.0,70\n",
        "伊黒小芭内,イグロオバナイ,柱,蛇,21,162.0,70\n",
        "不死川玄弥,シナズガワゲンヤ,五感,鬼,16,180.0,30\n",
        "不死川実弥,シナズガワサネミ,柱,風,21,179.0,90\n",
        "悲鳴嶋行冥,ヒメジマギョウメイ,柱,岩,27,220.0,100\n"
      ],
      "metadata": {
        "id": "hdBeM5-DS39K",
        "colab": {
          "base_uri": "https://localhost:8080/"
        },
        "outputId": "c1e307f5-8f60-44a9-a158-57f9f5591f8f"
      },
      "execution_count": 57,
      "outputs": [
        {
          "output_type": "stream",
          "name": "stdout",
          "text": [
            "Overwriting members.csv\n"
          ]
        }
      ]
    },
    {
      "cell_type": "code",
      "source": [
        "%%file members3.csv\n",
        "16\n",
        "鬼舞辻無惨,キブツジムザン,始祖,鬼,1100,185.0,1000\n",
        "塁,ルイ,下弦,鬼,150,148.0,50\n",
        "轆轤,ロクロ,下弦,鬼,200,172.5,45\n",
        "病葉,ワクラバ,下弦,鬼,180,165.0,40\n",
        "零余子,ムカゴ,下弦,鬼,160,152.5,35\n",
        "釜鵺,カマヌエ,下弦,鬼,190,168.5,30\n",
        "猗窩座,アカザ,上弦,鬼,600,172.5,300\n",
        "魘夢,エンム,下弦,鬼,150,168.0,80\n",
        "童磨,ドウマ,上弦,鬼,300,174.4,400\n",
        "妓夫太郎,ギュウタロウ,上弦,鬼,200,173.5,180\n",
        "堕姫,ダキ,上弦,鬼,192,155.5,160\n",
        "半天狗,ハンテング,上弦,鬼,400,169.5,250\n",
        "玉壺,ギョッコ,上弦,鬼,300,155.0,200\n",
        "黒死牟,コクシボウ,上弦,鬼,1000,180.0,500\n",
        "鳴女,ナキメ,上弦,鬼,200,155.0,30\n",
        "獪岳,カイガク,上弦,鬼,30,167.0,160"
      ],
      "metadata": {
        "id": "NKvUXqOr5mJG",
        "colab": {
          "base_uri": "https://localhost:8080/"
        },
        "outputId": "28db3c38-e19e-4a6e-cdb0-4d4fdcc7c5bf"
      },
      "execution_count": 58,
      "outputs": [
        {
          "output_type": "stream",
          "name": "stdout",
          "text": [
            "Overwriting members3.csv\n"
          ]
        }
      ]
    },
    {
      "cell_type": "markdown",
      "source": [
        "#（２）ソートプログラム群"
      ],
      "metadata": {
        "id": "-ZkxkXawFMfI"
      }
    },
    {
      "cell_type": "markdown",
      "source": [
        "- ソートプログラム群の共通形式\n",
        " - 入力 n(int)：データサイズ，data\\[\\](Member\\*)：配列データ，cmp：比較関数，descending：0なら昇順・0以外なら降順\n",
        " - 出力 data\\[\\](Member\\*)：ソートされた配列データ\n"
      ],
      "metadata": {
        "id": "9i76IWdDjp2q"
      }
    },
    {
      "cell_type": "markdown",
      "source": [
        "##(2a)バブルソート オリジナル"
      ],
      "metadata": {
        "id": "GJtQWxz7uNUJ"
      }
    },
    {
      "cell_type": "code",
      "source": [
        "%%file bubble_sort.c\n",
        "#include <stdio.h>\n",
        "#include <stdlib.h>\n",
        "#include <string.h>\n",
        "#include \"main.h\"\n",
        "void bubble_sort(int n, Member *data[], CmpFunc cmp, int descending){\n",
        "    reset_counter();\n",
        "    for (int i=n-1; i>=1; i--) {\n",
        "        for (int j=1; j<=i; j++) {\n",
        "            ctr.compare++;\n",
        "            if (cmp(data[j-1], data[j], descending)> 0) {\n",
        "                swap(data, j-1, j);\n",
        "                ctr.swap++;\n",
        "            }\n",
        "        }\n",
        "    }\n",
        "    return;\n",
        "}"
      ],
      "metadata": {
        "id": "tX2Ovehblzi_",
        "colab": {
          "base_uri": "https://localhost:8080/"
        },
        "outputId": "31fafd6c-cfdb-467a-c096-e31188f1e5c8"
      },
      "execution_count": 59,
      "outputs": [
        {
          "output_type": "stream",
          "name": "stdout",
          "text": [
            "Overwriting bubble_sort.c\n"
          ]
        }
      ]
    },
    {
      "cell_type": "markdown",
      "source": [
        "##(2b)バブルソート改良版"
      ],
      "metadata": {
        "id": "WdxPYLkvYw9q"
      }
    },
    {
      "cell_type": "code",
      "source": [
        "%%file bubble2_sort.c\n",
        "#include <stdio.h>\n",
        "#include <stdlib.h>\n",
        "#include <string.h>\n",
        "#include \"main.h\"\n",
        "void bubble2_sort(int n, Member *data[], CmpFunc cmp, int descending){\n",
        "    int jswap, jmax;\n",
        "    reset_counter();\n",
        "    jmax = n-1;\n",
        "    for (int i=n-1; i>=1; i--) {\n",
        "            jswap = 1;\n",
        "        for (int j=1; j<=jmax; j++) {\n",
        "            ctr.compare++;\n",
        "            if (cmp(data[j-1], data[j], descending) > 0) {\n",
        "                jswap = j;\n",
        "                swap(data, j-1, j);\n",
        "                ctr.swap++;\n",
        "            }\n",
        "        }\n",
        "        jmax = jswap-1;\n",
        "    }\n",
        "    return;\n",
        "}"
      ],
      "metadata": {
        "id": "aUhciQzBVXXl",
        "colab": {
          "base_uri": "https://localhost:8080/"
        },
        "outputId": "fe41dde6-8c98-4441-abed-dfbbbb6c92c0"
      },
      "execution_count": 60,
      "outputs": [
        {
          "output_type": "stream",
          "name": "stdout",
          "text": [
            "Overwriting bubble2_sort.c\n"
          ]
        }
      ]
    },
    {
      "cell_type": "markdown",
      "source": [
        "##(2c)シェーカーソート"
      ],
      "metadata": {
        "id": "wuJecI_sY1vw"
      }
    },
    {
      "cell_type": "code",
      "source": [
        "%%file shaker_sort.c\n",
        "#include <stdio.h>\n",
        "#include <stdlib.h>\n",
        "#include <string.h>\n",
        "#include \"main.h\"\n",
        "void shaker_sort(int n, Member *data[], CmpFunc cmp, int descending){\n",
        "    int jmin=0, jmax=n-1, j, temp, jswap;\n",
        "    reset_counter();\n",
        "    while(1){\n",
        "        if (jmin>=jmax) break;\n",
        "        jswap = jmax;\n",
        "        for (j=jmax; j>jmin; j--) {\n",
        "            ctr.compare++;\n",
        "            if (cmp(data[j-1], data[j], descending) > 0) {\n",
        "                jswap = j;\n",
        "                swap(data, j-1, j);\n",
        "                ctr.swap++;\n",
        "            }\n",
        "        }\n",
        "        jmin = jswap;\n",
        "        if (jmin>=jmax) break;\n",
        "        jswap = 0;\n",
        "        for (j=jmin; j<jmax; j++) {\n",
        "            ctr.compare++;\n",
        "            if (cmp(data[j], data[j+1], descending) > 0) {\n",
        "                jswap = j;\n",
        "                swap(data, j, j+1);\n",
        "                ctr.swap++;\n",
        "            }\n",
        "        }\n",
        "        jmax = jswap;\n",
        "    }\n",
        "}"
      ],
      "metadata": {
        "id": "h9rYTqPImErd",
        "colab": {
          "base_uri": "https://localhost:8080/"
        },
        "outputId": "b6ebcf40-c8eb-4195-a371-e13b19109cd3"
      },
      "execution_count": 61,
      "outputs": [
        {
          "output_type": "stream",
          "name": "stdout",
          "text": [
            "Overwriting shaker_sort.c\n"
          ]
        }
      ]
    },
    {
      "cell_type": "markdown",
      "source": [
        "##(2d)選択ソート"
      ],
      "metadata": {
        "id": "1NDbKb2durSi"
      }
    },
    {
      "cell_type": "code",
      "source": [
        "%%file select_sort.c\n",
        "#include <stdio.h>\n",
        "#include <stdlib.h>\n",
        "#include <string.h>\n",
        "#include \"main.h\"\n",
        "void select_sort(int n, Member *data[], CmpFunc cmp, int descending){\n",
        "    int i_min;\n",
        "    Member *min;\n",
        "    reset_counter();\n",
        "    for (int i=0; i<n-1; i++) {\n",
        "        i_min=i;\n",
        "        min=data[i];\n",
        "        for (int j=i+1; j<n; j++) {\n",
        "            if (cmp(min, data[j], descending) > 0){\n",
        "                i_min=j;\n",
        "                min=data[j];\n",
        "            }\n",
        "            ctr.compare++;\n",
        "        }\n",
        "        swap(data, i_min, i);\n",
        "        ctr.swap++;\n",
        "    }\n",
        "    return;\n",
        "}"
      ],
      "metadata": {
        "id": "98nl0Ws9up9W",
        "colab": {
          "base_uri": "https://localhost:8080/"
        },
        "outputId": "893ce44a-f5f1-411f-8fc7-0c10749828f3"
      },
      "execution_count": 62,
      "outputs": [
        {
          "output_type": "stream",
          "name": "stdout",
          "text": [
            "Overwriting select_sort.c\n"
          ]
        }
      ]
    },
    {
      "cell_type": "markdown",
      "source": [
        "##(2e)挿入ソート"
      ],
      "metadata": {
        "id": "iz4nvq0z6cMt"
      }
    },
    {
      "cell_type": "code",
      "source": [
        "%%file insert_sort.c\n",
        "#include <stdio.h>\n",
        "#include <stdlib.h>\n",
        "#include <string.h>\n",
        "#include \"main.h\"\n",
        "void insert_sort(int n, Member *data[], CmpFunc cmp, int descending){\n",
        "    reset_counter();\n",
        "    for (int i=1; i<n; i++) {\n",
        "        for (int j=i; j>0; j--) {\n",
        "            ctr.compare++;\n",
        "            if (cmp(data[j-1], data[j], descending) > 0) {\n",
        "                swap(data, j-1, j);\n",
        "                ctr.swap++;\n",
        "            }\n",
        "            else break;\n",
        "        }\n",
        "    }\n",
        "    return;\n",
        "}"
      ],
      "metadata": {
        "id": "3Ly80-2X66VJ",
        "colab": {
          "base_uri": "https://localhost:8080/"
        },
        "outputId": "43b32a70-5c80-49f8-8398-e47dcf8381db"
      },
      "execution_count": 63,
      "outputs": [
        {
          "output_type": "stream",
          "name": "stdout",
          "text": [
            "Overwriting insert_sort.c\n"
          ]
        }
      ]
    },
    {
      "cell_type": "markdown",
      "source": [
        "##(2f)クイックソート"
      ],
      "metadata": {
        "id": "Ayy3D9ej_FX9"
      }
    },
    {
      "cell_type": "code",
      "source": [
        "%%file quick_sort.c\n",
        "#include <stdio.h>\n",
        "#include <stdlib.h>\n",
        "#include <string.h>\n",
        "#include \"main.h\"\n",
        "void quicksort(Member *data[], CmpFunc cmp, int descending, int l, int r){\n",
        "    int mid, i, j;\n",
        "    Member *pivot;\n",
        "    mid=(l+r)/2; pivot=data[mid];\n",
        "    i=l; j=r;\n",
        "    while (i<=j) {\n",
        "        ctr.compare++;\n",
        "        while (cmp(data[i], pivot, descending) < 0) {\n",
        "            i=i+1;\n",
        "            ctr.compare++;\n",
        "        }\n",
        "        ctr.compare++;\n",
        "        while (cmp(pivot, data[j], descending) < 0) {\n",
        "            j=j-1;\n",
        "            ctr.compare++;\n",
        "        }\n",
        "        if(i<=j){\n",
        "            swap(data, i, j);\n",
        "            ctr.swap++;\n",
        "            i=i+1; j=j-1;\n",
        "        }\n",
        "    }\n",
        "    if (l<j)quicksort(data, cmp, descending, l, j);\n",
        "    if (i<r)quicksort(data, cmp, descending, i, r);\n",
        "    return;\n",
        "}\n",
        "void quick_sort(int n, Member *data[], CmpFunc cmp, int descending){\n",
        "    reset_counter();\n",
        "    quicksort(data, cmp, descending, 0, n-1);\n",
        "    return;\n",
        "}"
      ],
      "metadata": {
        "id": "xEg4pYt-_Jky",
        "colab": {
          "base_uri": "https://localhost:8080/"
        },
        "outputId": "f1b165b1-1c12-41fd-8515-c89a789f18e9"
      },
      "execution_count": 64,
      "outputs": [
        {
          "output_type": "stream",
          "name": "stdout",
          "text": [
            "Overwriting quick_sort.c\n"
          ]
        }
      ]
    },
    {
      "cell_type": "markdown",
      "source": [
        "##(2g)ヒープソート"
      ],
      "metadata": {
        "id": "5gDwI1x_Z3Mo"
      }
    },
    {
      "cell_type": "code",
      "source": [
        "%%file heap_sort.c\n",
        "#include <stdio.h>\n",
        "#include <stdlib.h>\n",
        "#include <string.h>\n",
        "#include \"main.h\"\n",
        "void downheap(int size, Member *data[], CmpFunc cmp, int descending, int n, int pt){\n",
        "    int lt, rt;\n",
        "    while(1){\n",
        "        lt=2*pt+1;\n",
        "        rt=2*pt+2;\n",
        "        if(lt>n){\n",
        "            return;\n",
        "        }\n",
        "        if(lt==n){\n",
        "            ctr.compare++;\n",
        "            if (lt < size && pt < size && cmp(data[lt], data[pt], descending) > 0) {\n",
        "                swap(data, lt, pt);\n",
        "                ctr.swap++;\n",
        "            }\n",
        "            return;\n",
        "        }\n",
        "        //(lt<n)\n",
        "        ctr.compare++;\n",
        "        if(lt < size && rt < size && cmp(data[lt], data[rt], descending) > 0){\n",
        "            ctr.compare++;\n",
        "            if (lt < size && pt < size && cmp(data[lt], data[pt], descending) > 0) {\n",
        "                swap(data, lt, pt);\n",
        "                ctr.swap++;\n",
        "            }\n",
        "            pt=lt;\n",
        "        }\n",
        "        else{\n",
        "            ctr.compare++;\n",
        "            if (rt < size && pt < size && cmp(data[rt], data[pt], descending) > 0) {\n",
        "                swap(data, rt, pt);\n",
        "                ctr.swap++;\n",
        "            }\n",
        "            pt=rt;\n",
        "        }\n",
        "    }\n",
        "}\n",
        "void heap_sort(int n, Member *data[], CmpFunc cmp, int descending){\n",
        "    int m;\n",
        "    reset_counter();\n",
        "    m=n;\n",
        "    if (m%2==0){m--;}\n",
        "    m = (m-1)/2;\n",
        "    for (int pt=m; pt>=0; pt--) {\n",
        "        downheap(n, data, cmp, descending, n, pt);\n",
        "    }\n",
        "    for (int pt=n-1; pt>0; pt--){\n",
        "        ctr.compare++;\n",
        "        if (cmp(data[0], data[pt], descending) > 0) {\n",
        "            swap(data, 0, pt);\n",
        "            ctr.swap++;\n",
        "        }\n",
        "        downheap(n, data, cmp, descending, pt-1, 0);\n",
        "    }\n",
        "    return;\n",
        "}"
      ],
      "metadata": {
        "id": "_oN3dNGIZ_oS",
        "colab": {
          "base_uri": "https://localhost:8080/"
        },
        "outputId": "d23e4448-d2c7-4aae-cda9-8cd2ccc42ada"
      },
      "execution_count": 65,
      "outputs": [
        {
          "output_type": "stream",
          "name": "stdout",
          "text": [
            "Overwriting heap_sort.c\n"
          ]
        }
      ]
    },
    {
      "cell_type": "markdown",
      "source": [
        "##(2h)マージソート"
      ],
      "metadata": {
        "id": "JFJiBrqGCjPK"
      }
    },
    {
      "cell_type": "code",
      "source": [
        "%%file merge_sort.c\n",
        "#include <stdio.h>\n",
        "#include <stdlib.h>\n",
        "#include <string.h>\n",
        "#include \"main.h\"\n",
        "void mergesort(Member *data[], Member *temp[], CmpFunc cmp, int descending, int lt, int rt) {\n",
        "    int mid, i, j, k;\n",
        "    mid = (lt+rt)/2;\n",
        "    if((rt-lt)>1) {\n",
        "        mergesort(data, temp, cmp, descending, lt, mid);\n",
        "        mergesort(data, temp, cmp, descending, mid+1, rt);\n",
        "    }\n",
        "    for (i=lt; i<=mid; i++) {\n",
        "        temp[i] = data[i];\n",
        "        ctr.move++;\n",
        "    }\n",
        "    for (j=mid+1; j<=rt; j++) {\n",
        "        temp[rt-(j-(mid+1))] = data[j];\n",
        "        ctr.move++;\n",
        "    }\n",
        "    i=lt; j=rt;\n",
        "    for (k=lt; k<=rt; k++) {\n",
        "        if (cmp(temp[i], temp[j], descending) < 0){\n",
        "            data[k] = temp[i++];\n",
        "            ctr.move++;\n",
        "        }\n",
        "        else {\n",
        "            data[k] = temp[j--];\n",
        "            ctr.move++;\n",
        "        }\n",
        "        ctr.compare++;\n",
        "    }\n",
        "}\n",
        "void merge_sort(int n, Member *data[], CmpFunc cmp, int descending){\n",
        "    Member **temp = (Member**)malloc(n * sizeof(Member*));\n",
        "    reset_counter();\n",
        "    mergesort(data, temp, cmp, descending, 0, n-1);\n",
        "    free(temp);\n",
        "    return;\n",
        "}"
      ],
      "metadata": {
        "id": "LGXse3S7LuvZ",
        "colab": {
          "base_uri": "https://localhost:8080/"
        },
        "outputId": "501c9823-eb7a-4c35-8734-08ce1cea3165"
      },
      "execution_count": 66,
      "outputs": [
        {
          "output_type": "stream",
          "name": "stdout",
          "text": [
            "Overwriting merge_sort.c\n"
          ]
        }
      ]
    },
    {
      "cell_type": "markdown",
      "source": [
        "##(2i)コンパイル"
      ],
      "metadata": {
        "id": "rGTKoOeyCe2u"
      }
    },
    {
      "cell_type": "code",
      "source": [
        "!gcc tool.c -c\n",
        "!gcc compare.c -c\n",
        "!gcc bubble_sort.c -c\n",
        "!gcc bubble2_sort.c -c\n",
        "!gcc shaker_sort.c -c\n",
        "!gcc select_sort.c -c\n",
        "!gcc insert_sort.c -c\n",
        "!gcc quick_sort.c -c\n",
        "!gcc merge_sort.c -c\n",
        "!gcc heap_sort.c -c"
      ],
      "metadata": {
        "id": "BftkMXLtCEp4"
      },
      "execution_count": 67,
      "outputs": []
    },
    {
      "cell_type": "markdown",
      "source": [
        "#演習テスト 課題１ マージソート\n",
        "\n",
        "複数のファイルからメンバをそれぞれ読み込み、それぞれをソートする。その上で2つの配列をマージするマージソートのプログラムを完成させよ。"
      ],
      "metadata": {
        "id": "7J9bktACMk9Y"
      }
    },
    {
      "cell_type": "markdown",
      "source": [
        "##2本の配列をマージするマージソート"
      ],
      "metadata": {
        "id": "i_cR5DMcrF0d"
      }
    },
    {
      "cell_type": "code",
      "source": [
        "%%file merge_two_arrays.c\n",
        "#include <stdio.h>\n",
        "#include <stdlib.h>\n",
        "#include <string.h>\n",
        "#include \"main.h\"\n",
        "Member **merge_two_arrays(int num1, Member *data1[], int num2, Member *data2[],\n",
        "                          CmpFunc cmp, int descending, int *num_merged){\n",
        "    Member **merged = (Member**)malloc((num1+num2) * sizeof(Member*));\n",
        "    int i, j, p;\n",
        "    printf(\"merge_two_arrays.\\n\");\n",
        "    reset_counter();\n",
        "    i = 0; j = 0; p = 0;\n",
        "    // ここから\n",
        "    while (i < num1 || j < num2) {\n",
        "        if (i == num1) {\n",
        "            // 無条件に data2[] から入れる\n",
        "            merged[p++] = data2[j++];\n",
        "\n",
        "        } else if (j == num2) {\n",
        "            // 無条件に data1[] から入れる\n",
        "             merged[p++] = data1[i++];\n",
        "\n",
        "        } else {\n",
        "            // data1[i] と data2[j] を比較して先に入れる方を入れる\n",
        "            int result = cmp(data1[i], data2[j], descending);\n",
        "            if (result > 0) {\n",
        "                // data2[] から入れる\n",
        "                merged[p++] = data2[j++];\n",
        "                j++;\n",
        "            } else {\n",
        "                // data1[] から入れる\n",
        "                merged[p++] = data1[i++];\n",
        "                i++;\n",
        "            }\n",
        "            ctr.compare++;\n",
        "        }\n",
        "        ctr.move++;\n",
        "    }\n",
        "    // ここまでを埋める\n",
        "    *num_merged = num1 + num2;\n",
        "    free(data1);\n",
        "    free(data2);\n",
        "    return merged;\n",
        "}"
      ],
      "metadata": {
        "id": "P0Y08V5irZAG",
        "colab": {
          "base_uri": "https://localhost:8080/"
        },
        "outputId": "a4c658f6-c260-4312-e023-509c85e7b54e"
      },
      "execution_count": 96,
      "outputs": [
        {
          "output_type": "stream",
          "name": "stdout",
          "text": [
            "Overwriting merge_two_arrays.c\n"
          ]
        }
      ]
    },
    {
      "cell_type": "markdown",
      "source": [
        "###メインプログラム"
      ],
      "metadata": {
        "id": "8BiTczoOqk59"
      }
    },
    {
      "cell_type": "code",
      "source": [
        "%%file test1.c\n",
        "#include <stdio.h>\n",
        "#include <stdlib.h>\n",
        "#include <string.h>\n",
        "#include \"main.h\"\n",
        "\n",
        "int main(void) {\n",
        "    Member **member_array_1, **member_array_2, **merged_array;\n",
        "    int num_members_1, num_members_2, num_merged;\n",
        "\n",
        "    // メンバー1の読み込み\n",
        "    member_array_1 = init_members_from_file(\"members.csv\", &num_members_1);\n",
        "\n",
        "    printf(\"initial 1:\\n\");\n",
        "    printarray(num_members_1, member_array_1);\n",
        "\n",
        "    // メンバー2の読み込み\n",
        "    member_array_2 = init_members_from_file(\"members3.csv\", &num_members_2);\n",
        "\n",
        "    printf(\"initial 2:\\n\");\n",
        "    printarray(num_members_2, member_array_2);\n",
        "\n",
        "    // 名前の読み(yomi)順にソート\n",
        "    LAUNCH_SORT(num_members_1, member_array_1, quick_sort, compare_by_yomi, 0);\n",
        "    printarray(num_members_1, member_array_1);\n",
        "    print_counter();\n",
        "\n",
        "    // 名前の読み(yomi)順にソート\n",
        "    LAUNCH_SORT(num_members_2, member_array_2, quick_sort, compare_by_yomi, 0);\n",
        "    printarray(num_members_2, member_array_2);\n",
        "    print_counter();\n",
        "\n",
        "    // 2つの配列をマージ\n",
        "    printf(\"\\n\");\n",
        "    merged_array = merge_two_arrays(num_members_1, member_array_1, num_members_2, member_array_2,\n",
        "                                    compare_by_yomi, 0, &num_merged);\n",
        "    printf(\"num_merged = %d\\n\", num_merged);\n",
        "    printarray(num_merged, merged_array);\n",
        "    print_counter();\n",
        "\n",
        "    LAUNCH_SORT(num_merged, merged_array, merge_sort, compare_by_yomi, 0);\n",
        "    printarray(num_merged, merged_array);\n",
        "    print_counter();\n",
        "\n",
        "    return 0;\n",
        "}"
      ],
      "metadata": {
        "id": "-pd1IsgPNGeS",
        "colab": {
          "base_uri": "https://localhost:8080/"
        },
        "outputId": "5396f738-78e1-4dd6-da70-4371e7ef875a"
      },
      "execution_count": 97,
      "outputs": [
        {
          "output_type": "stream",
          "name": "stdout",
          "text": [
            "Overwriting test1.c\n"
          ]
        }
      ]
    },
    {
      "cell_type": "markdown",
      "source": [
        "###コンパイル（test1.c）＆リンク"
      ],
      "metadata": {
        "id": "Xys5wQx-MtGi"
      }
    },
    {
      "cell_type": "code",
      "source": [
        "!gcc merge_two_arrays.c -c\n",
        "!gcc test1.c -c\n",
        "!gcc tool.o compare.o bubble_sort.o bubble2_sort.o shaker_sort.o insert_sort.o select_sort.o quick_sort.o heap_sort.o merge_sort.o merge_two_arrays.o test1.o -o test1"
      ],
      "metadata": {
        "id": "RZyn6EgIOprw"
      },
      "execution_count": 98,
      "outputs": []
    },
    {
      "cell_type": "markdown",
      "source": [
        "###実行"
      ],
      "metadata": {
        "id": "wIC3jugtM1rT"
      }
    },
    {
      "cell_type": "code",
      "source": [
        "!./test1"
      ],
      "metadata": {
        "id": "mT5Ke1frO08G",
        "colab": {
          "base_uri": "https://localhost:8080/"
        },
        "outputId": "924c0a2a-2cac-418f-bc4e-24597635e232"
      },
      "execution_count": 99,
      "outputs": [
        {
          "output_type": "stream",
          "name": "stdout",
          "text": [
            "initial 1:\n",
            "竈門炭治郎(カマドタンジロウ): 年齢:16, 身長:165.0, 強さ:40, 所属:蒲鉾, 属性:水\n",
            "冨岡義勇(トミオカギユウ): 年齢:21, 身長:176.0, 強さ:80, 所属:柱, 属性:水\n",
            "竈門禰豆子(カマドネズコ): 年齢:14, 身長:150.0, 強さ:30, 所属:蒲鉾, 属性:鬼\n",
            "我妻善逸(アガツマゼンイツ): 年齢:16, 身長:164.5, 強さ:40, 所属:蒲鉾, 属性:雷\n",
            "栗花落カナヲ(ツユリカナヲ): 年齢:16, 身長:156.0, 強さ:50, 所属:五感, 属性:花\n",
            "嘴平伊之助(ハシビライノスケ): 年齢:15, 身長:164.0, 強さ:40, 所属:蒲鉾, 属性:獣\n",
            "胡蝶しのぶ(コチョウシノブ): 年齢:18, 身長:151.0, 強さ:70, 所属:柱, 属性:蟲\n",
            "煉獄杏寿郎(レンゴクキョウジュロウ): 年齢:20, 身長:177.0, 強さ:80, 所属:柱, 属性:炎\n",
            "宇随天元(ウズイテンゲン): 年齢:23, 身長:198.0, 強さ:80, 所属:柱, 属性:音\n",
            "時透無一郎(トキトウムイチロウ): 年齢:14, 身長:160.0, 強さ:90, 所属:柱, 属性:霞\n",
            "甘露寺蜜璃(カンロジミツリ): 年齢:19, 身長:167.0, 強さ:70, 所属:柱, 属性:恋\n",
            "伊黒小芭内(イグロオバナイ): 年齢:21, 身長:162.0, 強さ:70, 所属:柱, 属性:蛇\n",
            "不死川玄弥(シナズガワゲンヤ): 年齢:16, 身長:180.0, 強さ:30, 所属:五感, 属性:鬼\n",
            "不死川実弥(シナズガワサネミ): 年齢:21, 身長:179.0, 強さ:90, 所属:柱, 属性:風\n",
            "悲鳴嶋行冥(ヒメジマギョウメイ): 年齢:27, 身長:220.0, 強さ:100, 所属:柱, 属性:岩\n",
            "initial 2:\n",
            "鬼舞辻無惨(キブツジムザン): 年齢:1100, 身長:185.0, 強さ:1000, 所属:始祖, 属性:鬼\n",
            "塁(ルイ): 年齢:150, 身長:148.0, 強さ:50, 所属:下弦, 属性:鬼\n",
            "轆轤(ロクロ): 年齢:200, 身長:172.5, 強さ:45, 所属:下弦, 属性:鬼\n",
            "病葉(ワクラバ): 年齢:180, 身長:165.0, 強さ:40, 所属:下弦, 属性:鬼\n",
            "零余子(ムカゴ): 年齢:160, 身長:152.5, 強さ:35, 所属:下弦, 属性:鬼\n",
            "釜鵺(カマヌエ): 年齢:190, 身長:168.5, 強さ:30, 所属:下弦, 属性:鬼\n",
            "猗窩座(アカザ): 年齢:600, 身長:172.5, 強さ:300, 所属:上弦, 属性:鬼\n",
            "魘夢(エンム): 年齢:150, 身長:168.0, 強さ:80, 所属:下弦, 属性:鬼\n",
            "童磨(ドウマ): 年齢:300, 身長:174.4, 強さ:400, 所属:上弦, 属性:鬼\n",
            "妓夫太郎(ギュウタロウ): 年齢:200, 身長:173.5, 強さ:180, 所属:上弦, 属性:鬼\n",
            "堕姫(ダキ): 年齢:192, 身長:155.5, 強さ:160, 所属:上弦, 属性:鬼\n",
            "半天狗(ハンテング): 年齢:400, 身長:169.5, 強さ:250, 所属:上弦, 属性:鬼\n",
            "玉壺(ギョッコ): 年齢:300, 身長:155.0, 強さ:200, 所属:上弦, 属性:鬼\n",
            "黒死牟(コクシボウ): 年齢:1000, 身長:180.0, 強さ:500, 所属:上弦, 属性:鬼\n",
            "鳴女(ナキメ): 年齢:200, 身長:155.0, 強さ:30, 所属:上弦, 属性:鬼\n",
            "獪岳(カイガク): 年齢:30, 身長:167.0, 強さ:160, 所属:上弦, 属性:鬼\n",
            "\n",
            "quick_sort with compare_by_yomi(ascending)\n",
            "我妻善逸(アガツマゼンイツ): 年齢:16, 身長:164.5, 強さ:40, 所属:蒲鉾, 属性:雷\n",
            "伊黒小芭内(イグロオバナイ): 年齢:21, 身長:162.0, 強さ:70, 所属:柱, 属性:蛇\n",
            "宇随天元(ウズイテンゲン): 年齢:23, 身長:198.0, 強さ:80, 所属:柱, 属性:音\n",
            "竈門炭治郎(カマドタンジロウ): 年齢:16, 身長:165.0, 強さ:40, 所属:蒲鉾, 属性:水\n",
            "竈門禰豆子(カマドネズコ): 年齢:14, 身長:150.0, 強さ:30, 所属:蒲鉾, 属性:鬼\n",
            "甘露寺蜜璃(カンロジミツリ): 年齢:19, 身長:167.0, 強さ:70, 所属:柱, 属性:恋\n",
            "胡蝶しのぶ(コチョウシノブ): 年齢:18, 身長:151.0, 強さ:70, 所属:柱, 属性:蟲\n",
            "不死川玄弥(シナズガワゲンヤ): 年齢:16, 身長:180.0, 強さ:30, 所属:五感, 属性:鬼\n",
            "不死川実弥(シナズガワサネミ): 年齢:21, 身長:179.0, 強さ:90, 所属:柱, 属性:風\n",
            "栗花落カナヲ(ツユリカナヲ): 年齢:16, 身長:156.0, 強さ:50, 所属:五感, 属性:花\n",
            "時透無一郎(トキトウムイチロウ): 年齢:14, 身長:160.0, 強さ:90, 所属:柱, 属性:霞\n",
            "冨岡義勇(トミオカギユウ): 年齢:21, 身長:176.0, 強さ:80, 所属:柱, 属性:水\n",
            "嘴平伊之助(ハシビライノスケ): 年齢:15, 身長:164.0, 強さ:40, 所属:蒲鉾, 属性:獣\n",
            "悲鳴嶋行冥(ヒメジマギョウメイ): 年齢:27, 身長:220.0, 強さ:100, 所属:柱, 属性:岩\n",
            "煉獄杏寿郎(レンゴクキョウジュロウ): 年齢:20, 身長:177.0, 強さ:80, 所属:柱, 属性:炎\n",
            "lap: compare = 71, swap = 17, move = 0\n",
            "all: compare = 71, swap = 17, move = 0\n",
            "\n",
            "quick_sort with compare_by_yomi(ascending)\n",
            "猗窩座(アカザ): 年齢:600, 身長:172.5, 強さ:300, 所属:上弦, 属性:鬼\n",
            "魘夢(エンム): 年齢:150, 身長:168.0, 強さ:80, 所属:下弦, 属性:鬼\n",
            "獪岳(カイガク): 年齢:30, 身長:167.0, 強さ:160, 所属:上弦, 属性:鬼\n",
            "釜鵺(カマヌエ): 年齢:190, 身長:168.5, 強さ:30, 所属:下弦, 属性:鬼\n",
            "鬼舞辻無惨(キブツジムザン): 年齢:1100, 身長:185.0, 強さ:1000, 所属:始祖, 属性:鬼\n",
            "妓夫太郎(ギュウタロウ): 年齢:200, 身長:173.5, 強さ:180, 所属:上弦, 属性:鬼\n",
            "玉壺(ギョッコ): 年齢:300, 身長:155.0, 強さ:200, 所属:上弦, 属性:鬼\n",
            "黒死牟(コクシボウ): 年齢:1000, 身長:180.0, 強さ:500, 所属:上弦, 属性:鬼\n",
            "堕姫(ダキ): 年齢:192, 身長:155.5, 強さ:160, 所属:上弦, 属性:鬼\n",
            "童磨(ドウマ): 年齢:300, 身長:174.4, 強さ:400, 所属:上弦, 属性:鬼\n",
            "鳴女(ナキメ): 年齢:200, 身長:155.0, 強さ:30, 所属:上弦, 属性:鬼\n",
            "半天狗(ハンテング): 年齢:400, 身長:169.5, 強さ:250, 所属:上弦, 属性:鬼\n",
            "零余子(ムカゴ): 年齢:160, 身長:152.5, 強さ:35, 所属:下弦, 属性:鬼\n",
            "塁(ルイ): 年齢:150, 身長:148.0, 強さ:50, 所属:下弦, 属性:鬼\n",
            "轆轤(ロクロ): 年齢:200, 身長:172.5, 強さ:45, 所属:下弦, 属性:鬼\n",
            "病葉(ワクラバ): 年齢:180, 身長:165.0, 強さ:40, 所属:下弦, 属性:鬼\n",
            "lap: compare = 81, swap = 19, move = 0\n",
            "all: compare = 152, swap = 36, move = 0\n",
            "\n",
            "merge_two_arrays.\n"
          ]
        }
      ]
    },
    {
      "cell_type": "markdown",
      "source": [
        "#演習テスト 課題2 バケットソート\n",
        "\n",
        "メンバの要素(整数)を使ってバケットソートを行うプログラムを完成させよ。\n",
        "\n",
        "1. 年齢(age)の若い順にバケットソートせよ\n",
        "2. 強さ(score)の高い順にバケットソートせよ\n"
      ],
      "metadata": {
        "id": "6piLL6pXWNnk"
      }
    },
    {
      "cell_type": "markdown",
      "source": [
        "##要素の整数値(バケットのインデックス)を返す関数"
      ],
      "metadata": {
        "id": "5czKYfdtW_7F"
      }
    },
    {
      "cell_type": "code",
      "source": [
        "%%file get_index.c\n",
        "#include <stdio.h>\n",
        "#include <stdlib.h>\n",
        "#include <string.h>\n",
        "#include \"main.h\"\n",
        "\n",
        "int get_index_from_age(const Member *member) {\n",
        "    return member->age;\n",
        "}\n",
        "\n",
        "int get_index_from_score(const Member *member) {\n",
        "    return member->score;\n",
        "}\n",
        "\n",
        "int max_index(int num, Member *member[], int (*get_index)(const Member *)) {\n",
        "    int max = 0;\n",
        "    for (int i = 0; i < num; i++) {\n",
        "        int index = get_index(member[i]);\n",
        "        if (index > max)\n",
        "            max = index;\n",
        "    }\n",
        "    return max+1;\n",
        "}"
      ],
      "metadata": {
        "id": "IM6YJpC5XFBB",
        "colab": {
          "base_uri": "https://localhost:8080/"
        },
        "outputId": "d9225750-a456-48fa-8658-502700ffb799"
      },
      "execution_count": 72,
      "outputs": [
        {
          "output_type": "stream",
          "name": "stdout",
          "text": [
            "Overwriting get_index.c\n"
          ]
        }
      ]
    },
    {
      "cell_type": "markdown",
      "source": [
        "##バケットソートのプログラム"
      ],
      "metadata": {
        "id": "895KWjtQWUo_"
      }
    },
    {
      "cell_type": "code",
      "source": [
        "%%file bucket_sort.c\n",
        "#include <stdio.h>\n",
        "#include <stdlib.h>\n",
        "#include <string.h>\n",
        "#include \"main.h\"\n",
        "\n",
        "// メンバのリストを定義\n",
        "typedef struct member_list {\n",
        "    Member *member;\n",
        "    struct member_list *next;\n",
        "} MemberList;\n",
        "\n",
        "// 新しいノードを確保し、member がメンバを指し、next にはNULLを入れる\n",
        "MemberList *new_member_list(Member *member) {\n",
        "    MemberList *node;\n",
        "    node = (MemberList*)malloc(sizeof(MemberList));\n",
        "    node->member = member;\n",
        "    node->next = NULL;\n",
        "    return node;\n",
        "}\n",
        "\n",
        "// バケットソート関数\n",
        "// 入力：max_index: 最大のインデックス(+1)＝バケットのサイズ、num: member_arrayの長さ、member_array: Member*の配列\n",
        "//       get_index: インデックスを返す関数へのポインタ、descending: 0なら昇順、0以外なら降順\n",
        "// 出力：新たに確保されたソート済みのMember*の配列を返す\n",
        "Member **bucket_sort(int max_index, int num, Member *member_array[], int (*get_index)(const Member *), int descending) {\n",
        "    MemberList *buckets;\n",
        "    Member **sorted_array;\n",
        "\n",
        "    reset_counter();\n",
        "    // バケット配列の確保\n",
        "    buckets = (MemberList*)malloc(max_index * sizeof(MemberList));\n",
        "    if (buckets == NULL) {\n",
        "        printf(\"Cannot allocate buckets\\n\");\n",
        "        return NULL;\n",
        "    }\n",
        "    // ソート済みのMember*を格納する配列の確保\n",
        "    sorted_array = (Member**)malloc(num * sizeof(Member*));\n",
        "    if (sorted_array == NULL) {\n",
        "        printf(\"Cannot allocate sorted_array\\n\");\n",
        "        return NULL;\n",
        "    }\n",
        "    for (int b = 0; b < max_index; b++) {\n",
        "        // NULLで初期化\n",
        "        buckets[b].member = NULL;\n",
        "        buckets[b].next   = NULL;\n",
        "    }\n",
        "    // ここから\n",
        "    for (int i = 0; i < num; i++) {\n",
        "        int index = get_index(member_array[i]);\n",
        "        MemberList *memlist = new_member_list(member_array[i]);\n",
        "\n",
        "        memlist->next = buckets[index].next;\n",
        "        buckets[index].next = memlist;\n",
        "        ctr.move++;\n",
        "    }\n",
        "\n",
        "   int p = 0;\n",
        "   if (!descending) {\n",
        "     for (int b = 0; b < max_index; b++) {\n",
        "         for (MemberList *m = buckets[b].next; m != NULL; m = m->next) {\n",
        "             sorted_array[p++] = m->member;\n",
        "             ctr.move++;\n",
        "            }\n",
        "        }\n",
        "   } else {\n",
        "       for (int b = max_index - 1; b >= 0; b--) {\n",
        "           for (MemberList *m = buckets[b].next; m != NULL; m = m->next) {\n",
        "               sorted_array[p++] = m->member;\n",
        "               ctr.move++;\n",
        "           }\n",
        "       }\n",
        "   }\n",
        "\n",
        "    // ここまでを埋める\n",
        "    free(member_array);\n",
        "    return sorted_array;\n",
        "}"
      ],
      "metadata": {
        "id": "MLxa5vRYWZMh",
        "colab": {
          "base_uri": "https://localhost:8080/"
        },
        "outputId": "220ef024-0bf8-45fb-f25b-ec78080763d5"
      },
      "execution_count": 73,
      "outputs": [
        {
          "output_type": "stream",
          "name": "stdout",
          "text": [
            "Overwriting bucket_sort.c\n"
          ]
        }
      ]
    },
    {
      "cell_type": "markdown",
      "source": [
        "###課題2-1 メインプログラム"
      ],
      "metadata": {
        "id": "kxvJWXG2XhJD"
      }
    },
    {
      "cell_type": "code",
      "source": [
        "%%file test2-1.c\n",
        "#include <stdio.h>\n",
        "#include <stdlib.h>\n",
        "#include <string.h>\n",
        "#include \"main.h\"\n",
        "\n",
        "int get_index_from_age(const Member *member);\n",
        "int get_index_from_score(const Member *member);\n",
        "int max_index(int num, Member *member[], int (*)(const Member *));\n",
        "\n",
        "int main(void) {\n",
        "    Member **member_array, **sorted_array;\n",
        "    int num_members;\n",
        "    int max_age;\n",
        "\n",
        "    // メンバーの読み込み\n",
        "    member_array = init_members_from_file(\"members.csv\", &num_members);\n",
        "\n",
        "    printf(\"initial:\\n\");\n",
        "    printarray(num_members, member_array);\n",
        "\n",
        "    LAUNCH_SORT(num_members, member_array, quick_sort, compare_by_yomi, 0);\n",
        "\n",
        "    // 年齢(age)でバケットソート\n",
        "    printf(\"\\nbucket_sort get_age(ascending):\\n\");\n",
        "    max_age = max_index(num_members, member_array, get_index_from_age);\n",
        "    sorted_array = bucket_sort(max_age, num_members, member_array,\n",
        "                               get_index_from_age, 0);\n",
        "    printarray(num_members, sorted_array);\n",
        "    print_counter();\n",
        "\n",
        "    return 0;\n",
        "}"
      ],
      "metadata": {
        "id": "0NjevTfcXn9H",
        "colab": {
          "base_uri": "https://localhost:8080/"
        },
        "outputId": "80f04125-34db-4854-e51b-9df0637d4ddb"
      },
      "execution_count": 74,
      "outputs": [
        {
          "output_type": "stream",
          "name": "stdout",
          "text": [
            "Overwriting test2-1.c\n"
          ]
        }
      ]
    },
    {
      "cell_type": "markdown",
      "source": [
        "###コンパイル(test2-1.c)＆リンク"
      ],
      "metadata": {
        "id": "Q7bIB-DZXnYt"
      }
    },
    {
      "cell_type": "code",
      "source": [
        "!gcc -c bucket_sort.c\n",
        "!gcc -c get_index.c\n",
        "!gcc -c test2-1.c\n",
        "!gcc tool.o compare.o bubble_sort.o bubble2_sort.o shaker_sort.o insert_sort.o select_sort.o quick_sort.o heap_sort.o merge_sort.o bucket_sort.o get_index.o test2-1.o -o test2-1"
      ],
      "metadata": {
        "id": "JWVjQaH3Yjb_"
      },
      "execution_count": 75,
      "outputs": []
    },
    {
      "cell_type": "markdown",
      "source": [
        "###実行"
      ],
      "metadata": {
        "id": "6fAlm1F3Y1P6"
      }
    },
    {
      "cell_type": "code",
      "source": [
        "!./test2-1"
      ],
      "metadata": {
        "id": "R182vf56Y31Q",
        "colab": {
          "base_uri": "https://localhost:8080/"
        },
        "outputId": "eeb36992-10a7-4b79-c5dc-6a8285cdbeea"
      },
      "execution_count": 76,
      "outputs": [
        {
          "output_type": "stream",
          "name": "stdout",
          "text": [
            "initial:\n",
            "竈門炭治郎(カマドタンジロウ): 年齢:16, 身長:165.0, 強さ:40, 所属:蒲鉾, 属性:水\n",
            "冨岡義勇(トミオカギユウ): 年齢:21, 身長:176.0, 強さ:80, 所属:柱, 属性:水\n",
            "竈門禰豆子(カマドネズコ): 年齢:14, 身長:150.0, 強さ:30, 所属:蒲鉾, 属性:鬼\n",
            "我妻善逸(アガツマゼンイツ): 年齢:16, 身長:164.5, 強さ:40, 所属:蒲鉾, 属性:雷\n",
            "栗花落カナヲ(ツユリカナヲ): 年齢:16, 身長:156.0, 強さ:50, 所属:五感, 属性:花\n",
            "嘴平伊之助(ハシビライノスケ): 年齢:15, 身長:164.0, 強さ:40, 所属:蒲鉾, 属性:獣\n",
            "胡蝶しのぶ(コチョウシノブ): 年齢:18, 身長:151.0, 強さ:70, 所属:柱, 属性:蟲\n",
            "煉獄杏寿郎(レンゴクキョウジュロウ): 年齢:20, 身長:177.0, 強さ:80, 所属:柱, 属性:炎\n",
            "宇随天元(ウズイテンゲン): 年齢:23, 身長:198.0, 強さ:80, 所属:柱, 属性:音\n",
            "時透無一郎(トキトウムイチロウ): 年齢:14, 身長:160.0, 強さ:90, 所属:柱, 属性:霞\n",
            "甘露寺蜜璃(カンロジミツリ): 年齢:19, 身長:167.0, 強さ:70, 所属:柱, 属性:恋\n",
            "伊黒小芭内(イグロオバナイ): 年齢:21, 身長:162.0, 強さ:70, 所属:柱, 属性:蛇\n",
            "不死川玄弥(シナズガワゲンヤ): 年齢:16, 身長:180.0, 強さ:30, 所属:五感, 属性:鬼\n",
            "不死川実弥(シナズガワサネミ): 年齢:21, 身長:179.0, 強さ:90, 所属:柱, 属性:風\n",
            "悲鳴嶋行冥(ヒメジマギョウメイ): 年齢:27, 身長:220.0, 強さ:100, 所属:柱, 属性:岩\n",
            "\n",
            "quick_sort with compare_by_yomi(ascending)\n",
            "\n",
            "bucket_sort get_age(ascending):\n",
            "時透無一郎(トキトウムイチロウ): 年齢:14, 身長:160.0, 強さ:90, 所属:柱, 属性:霞\n",
            "竈門禰豆子(カマドネズコ): 年齢:14, 身長:150.0, 強さ:30, 所属:蒲鉾, 属性:鬼\n",
            "嘴平伊之助(ハシビライノスケ): 年齢:15, 身長:164.0, 強さ:40, 所属:蒲鉾, 属性:獣\n",
            "栗花落カナヲ(ツユリカナヲ): 年齢:16, 身長:156.0, 強さ:50, 所属:五感, 属性:花\n",
            "不死川玄弥(シナズガワゲンヤ): 年齢:16, 身長:180.0, 強さ:30, 所属:五感, 属性:鬼\n",
            "竈門炭治郎(カマドタンジロウ): 年齢:16, 身長:165.0, 強さ:40, 所属:蒲鉾, 属性:水\n",
            "我妻善逸(アガツマゼンイツ): 年齢:16, 身長:164.5, 強さ:40, 所属:蒲鉾, 属性:雷\n",
            "胡蝶しのぶ(コチョウシノブ): 年齢:18, 身長:151.0, 強さ:70, 所属:柱, 属性:蟲\n",
            "甘露寺蜜璃(カンロジミツリ): 年齢:19, 身長:167.0, 強さ:70, 所属:柱, 属性:恋\n",
            "煉獄杏寿郎(レンゴクキョウジュロウ): 年齢:20, 身長:177.0, 強さ:80, 所属:柱, 属性:炎\n",
            "冨岡義勇(トミオカギユウ): 年齢:21, 身長:176.0, 強さ:80, 所属:柱, 属性:水\n",
            "不死川実弥(シナズガワサネミ): 年齢:21, 身長:179.0, 強さ:90, 所属:柱, 属性:風\n",
            "伊黒小芭内(イグロオバナイ): 年齢:21, 身長:162.0, 強さ:70, 所属:柱, 属性:蛇\n",
            "宇随天元(ウズイテンゲン): 年齢:23, 身長:198.0, 強さ:80, 所属:柱, 属性:音\n",
            "悲鳴嶋行冥(ヒメジマギョウメイ): 年齢:27, 身長:220.0, 強さ:100, 所属:柱, 属性:岩\n",
            "lap: compare = 0, swap = 0, move = 30\n",
            "all: compare = 71, swap = 17, move = 30\n"
          ]
        }
      ]
    },
    {
      "cell_type": "markdown",
      "source": [
        "###課題2-2 メインプログラム"
      ],
      "metadata": {
        "id": "lI6g6Qjmi9xl"
      }
    },
    {
      "cell_type": "code",
      "source": [
        "%%file test2-2.c\n",
        "#include <stdio.h>\n",
        "#include <stdlib.h>\n",
        "#include <string.h>\n",
        "#include \"main.h\"\n",
        "\n",
        "int get_index_from_age(const Member *member);\n",
        "int get_index_from_score(const Member *member);\n",
        "int max_index(int num, Member *member[], int (*)(const Member *));\n",
        "\n",
        "int main(void) {\n",
        "    Member **member_array, **sorted_array;\n",
        "    int num_members;\n",
        "    int max_score;\n",
        "\n",
        "    // メンバーの読み込み\n",
        "    member_array = init_members_from_file(\"members.csv\", &num_members);\n",
        "    member_array = add_members_from_file(\"members3.csv\", &num_members, member_array);\n",
        "\n",
        "    printf(\"initial:\\n\");\n",
        "    printarray(num_members, member_array);\n",
        "\n",
        "    LAUNCH_SORT(num_members, member_array, quick_sort, compare_by_yomi, 0);\n",
        "\n",
        "    // 強さ(score)の高い順でバケットソート\n",
        "    printf(\"\\nbucket_sort get_score(descending):\\n\");\n",
        "    max_score = max_index(num_members, member_array, get_index_from_score);\n",
        "    sorted_array = bucket_sort(max_score, num_members, member_array,\n",
        "                               get_index_from_score, 1);\n",
        "    printarray(num_members, sorted_array);\n",
        "    print_counter();\n",
        "\n",
        "    return 0;\n",
        "}"
      ],
      "metadata": {
        "id": "brLvF9DDi9xl",
        "colab": {
          "base_uri": "https://localhost:8080/"
        },
        "outputId": "47b74cae-4429-4aed-fbc7-8a9c0270fa5f"
      },
      "execution_count": 77,
      "outputs": [
        {
          "output_type": "stream",
          "name": "stdout",
          "text": [
            "Overwriting test2-2.c\n"
          ]
        }
      ]
    },
    {
      "cell_type": "markdown",
      "source": [
        "###コンパイル(test2-2.c)＆リンク"
      ],
      "metadata": {
        "id": "_Lf4Kn4Ii9xl"
      }
    },
    {
      "cell_type": "code",
      "source": [
        "!gcc -c bucket_sort.c\n",
        "!gcc -c get_index.c\n",
        "!gcc -c test2-2.c\n",
        "!gcc tool.o compare.o bubble_sort.o bubble2_sort.o shaker_sort.o insert_sort.o select_sort.o quick_sort.o heap_sort.o merge_sort.o bucket_sort.o get_index.o test2-2.o -o test2-2"
      ],
      "metadata": {
        "id": "O_7BSkcRi9xl"
      },
      "execution_count": 78,
      "outputs": []
    },
    {
      "cell_type": "markdown",
      "source": [
        "###実行"
      ],
      "metadata": {
        "id": "JaAvocJvi9xl"
      }
    },
    {
      "cell_type": "code",
      "source": [
        "!./test2-2"
      ],
      "metadata": {
        "id": "QPAa3MIzi9xl",
        "colab": {
          "base_uri": "https://localhost:8080/"
        },
        "outputId": "7fd9bc6f-e2b7-4ec1-c914-88934dbc3314"
      },
      "execution_count": 79,
      "outputs": [
        {
          "output_type": "stream",
          "name": "stdout",
          "text": [
            "initial:\n",
            "竈門炭治郎(カマドタンジロウ): 年齢:16, 身長:165.0, 強さ:40, 所属:蒲鉾, 属性:水\n",
            "冨岡義勇(トミオカギユウ): 年齢:21, 身長:176.0, 強さ:80, 所属:柱, 属性:水\n",
            "竈門禰豆子(カマドネズコ): 年齢:14, 身長:150.0, 強さ:30, 所属:蒲鉾, 属性:鬼\n",
            "我妻善逸(アガツマゼンイツ): 年齢:16, 身長:164.5, 強さ:40, 所属:蒲鉾, 属性:雷\n",
            "栗花落カナヲ(ツユリカナヲ): 年齢:16, 身長:156.0, 強さ:50, 所属:五感, 属性:花\n",
            "嘴平伊之助(ハシビライノスケ): 年齢:15, 身長:164.0, 強さ:40, 所属:蒲鉾, 属性:獣\n",
            "胡蝶しのぶ(コチョウシノブ): 年齢:18, 身長:151.0, 強さ:70, 所属:柱, 属性:蟲\n",
            "煉獄杏寿郎(レンゴクキョウジュロウ): 年齢:20, 身長:177.0, 強さ:80, 所属:柱, 属性:炎\n",
            "宇随天元(ウズイテンゲン): 年齢:23, 身長:198.0, 強さ:80, 所属:柱, 属性:音\n",
            "時透無一郎(トキトウムイチロウ): 年齢:14, 身長:160.0, 強さ:90, 所属:柱, 属性:霞\n",
            "甘露寺蜜璃(カンロジミツリ): 年齢:19, 身長:167.0, 強さ:70, 所属:柱, 属性:恋\n",
            "伊黒小芭内(イグロオバナイ): 年齢:21, 身長:162.0, 強さ:70, 所属:柱, 属性:蛇\n",
            "不死川玄弥(シナズガワゲンヤ): 年齢:16, 身長:180.0, 強さ:30, 所属:五感, 属性:鬼\n",
            "不死川実弥(シナズガワサネミ): 年齢:21, 身長:179.0, 強さ:90, 所属:柱, 属性:風\n",
            "悲鳴嶋行冥(ヒメジマギョウメイ): 年齢:27, 身長:220.0, 強さ:100, 所属:柱, 属性:岩\n",
            "鬼舞辻無惨(キブツジムザン): 年齢:1100, 身長:185.0, 強さ:1000, 所属:始祖, 属性:鬼\n",
            "塁(ルイ): 年齢:150, 身長:148.0, 強さ:50, 所属:下弦, 属性:鬼\n",
            "轆轤(ロクロ): 年齢:200, 身長:172.5, 強さ:45, 所属:下弦, 属性:鬼\n",
            "病葉(ワクラバ): 年齢:180, 身長:165.0, 強さ:40, 所属:下弦, 属性:鬼\n",
            "零余子(ムカゴ): 年齢:160, 身長:152.5, 強さ:35, 所属:下弦, 属性:鬼\n",
            "釜鵺(カマヌエ): 年齢:190, 身長:168.5, 強さ:30, 所属:下弦, 属性:鬼\n",
            "猗窩座(アカザ): 年齢:600, 身長:172.5, 強さ:300, 所属:上弦, 属性:鬼\n",
            "魘夢(エンム): 年齢:150, 身長:168.0, 強さ:80, 所属:下弦, 属性:鬼\n",
            "童磨(ドウマ): 年齢:300, 身長:174.4, 強さ:400, 所属:上弦, 属性:鬼\n",
            "妓夫太郎(ギュウタロウ): 年齢:200, 身長:173.5, 強さ:180, 所属:上弦, 属性:鬼\n",
            "堕姫(ダキ): 年齢:192, 身長:155.5, 強さ:160, 所属:上弦, 属性:鬼\n",
            "半天狗(ハンテング): 年齢:400, 身長:169.5, 強さ:250, 所属:上弦, 属性:鬼\n",
            "玉壺(ギョッコ): 年齢:300, 身長:155.0, 強さ:200, 所属:上弦, 属性:鬼\n",
            "黒死牟(コクシボウ): 年齢:1000, 身長:180.0, 強さ:500, 所属:上弦, 属性:鬼\n",
            "鳴女(ナキメ): 年齢:200, 身長:155.0, 強さ:30, 所属:上弦, 属性:鬼\n",
            "獪岳(カイガク): 年齢:30, 身長:167.0, 強さ:160, 所属:上弦, 属性:鬼\n",
            "\n",
            "quick_sort with compare_by_yomi(ascending)\n",
            "\n",
            "bucket_sort get_score(descending):\n",
            "鬼舞辻無惨(キブツジムザン): 年齢:1100, 身長:185.0, 強さ:1000, 所属:始祖, 属性:鬼\n",
            "黒死牟(コクシボウ): 年齢:1000, 身長:180.0, 強さ:500, 所属:上弦, 属性:鬼\n",
            "童磨(ドウマ): 年齢:300, 身長:174.4, 強さ:400, 所属:上弦, 属性:鬼\n",
            "猗窩座(アカザ): 年齢:600, 身長:172.5, 強さ:300, 所属:上弦, 属性:鬼\n",
            "半天狗(ハンテング): 年齢:400, 身長:169.5, 強さ:250, 所属:上弦, 属性:鬼\n",
            "玉壺(ギョッコ): 年齢:300, 身長:155.0, 強さ:200, 所属:上弦, 属性:鬼\n",
            "妓夫太郎(ギュウタロウ): 年齢:200, 身長:173.5, 強さ:180, 所属:上弦, 属性:鬼\n",
            "堕姫(ダキ): 年齢:192, 身長:155.5, 強さ:160, 所属:上弦, 属性:鬼\n",
            "獪岳(カイガク): 年齢:30, 身長:167.0, 強さ:160, 所属:上弦, 属性:鬼\n",
            "悲鳴嶋行冥(ヒメジマギョウメイ): 年齢:27, 身長:220.0, 強さ:100, 所属:柱, 属性:岩\n",
            "時透無一郎(トキトウムイチロウ): 年齢:14, 身長:160.0, 強さ:90, 所属:柱, 属性:霞\n",
            "不死川実弥(シナズガワサネミ): 年齢:21, 身長:179.0, 強さ:90, 所属:柱, 属性:風\n",
            "煉獄杏寿郎(レンゴクキョウジュロウ): 年齢:20, 身長:177.0, 強さ:80, 所属:柱, 属性:炎\n",
            "冨岡義勇(トミオカギユウ): 年齢:21, 身長:176.0, 強さ:80, 所属:柱, 属性:水\n",
            "魘夢(エンム): 年齢:150, 身長:168.0, 強さ:80, 所属:下弦, 属性:鬼\n",
            "宇随天元(ウズイテンゲン): 年齢:23, 身長:198.0, 強さ:80, 所属:柱, 属性:音\n",
            "胡蝶しのぶ(コチョウシノブ): 年齢:18, 身長:151.0, 強さ:70, 所属:柱, 属性:蟲\n",
            "甘露寺蜜璃(カンロジミツリ): 年齢:19, 身長:167.0, 強さ:70, 所属:柱, 属性:恋\n",
            "伊黒小芭内(イグロオバナイ): 年齢:21, 身長:162.0, 強さ:70, 所属:柱, 属性:蛇\n",
            "塁(ルイ): 年齢:150, 身長:148.0, 強さ:50, 所属:下弦, 属性:鬼\n",
            "栗花落カナヲ(ツユリカナヲ): 年齢:16, 身長:156.0, 強さ:50, 所属:五感, 属性:花\n",
            "轆轤(ロクロ): 年齢:200, 身長:172.5, 強さ:45, 所属:下弦, 属性:鬼\n",
            "病葉(ワクラバ): 年齢:180, 身長:165.0, 強さ:40, 所属:下弦, 属性:鬼\n",
            "嘴平伊之助(ハシビライノスケ): 年齢:15, 身長:164.0, 強さ:40, 所属:蒲鉾, 属性:獣\n",
            "竈門炭治郎(カマドタンジロウ): 年齢:16, 身長:165.0, 強さ:40, 所属:蒲鉾, 属性:水\n",
            "我妻善逸(アガツマゼンイツ): 年齢:16, 身長:164.5, 強さ:40, 所属:蒲鉾, 属性:雷\n",
            "零余子(ムカゴ): 年齢:160, 身長:152.5, 強さ:35, 所属:下弦, 属性:鬼\n",
            "鳴女(ナキメ): 年齢:200, 身長:155.0, 強さ:30, 所属:上弦, 属性:鬼\n",
            "不死川玄弥(シナズガワゲンヤ): 年齢:16, 身長:180.0, 強さ:30, 所属:五感, 属性:鬼\n",
            "釜鵺(カマヌエ): 年齢:190, 身長:168.5, 強さ:30, 所属:下弦, 属性:鬼\n",
            "竈門禰豆子(カマドネズコ): 年齢:14, 身長:150.0, 強さ:30, 所属:蒲鉾, 属性:鬼\n",
            "lap: compare = 0, swap = 0, move = 62\n",
            "all: compare = 207, swap = 44, move = 62\n"
          ]
        }
      ]
    },
    {
      "cell_type": "markdown",
      "source": [
        "#発展課題: 3本の配列をマージするマージソート\n",
        "\n",
        "3つのファイルからそれぞれメンバを読み込み、それぞれをソートした上で、その3本の配列をマージする関数を完成せよ。"
      ],
      "metadata": {
        "id": "SwUUy-DESB7M"
      }
    },
    {
      "cell_type": "markdown",
      "source": [
        "##3本の配列をマージするマージソート"
      ],
      "metadata": {
        "id": "K61aCRb_R9xO"
      }
    },
    {
      "cell_type": "code",
      "source": [
        "%%file merge_three_arrays.c\n",
        "#include <stdio.h>\n",
        "#include <stdlib.h>\n",
        "#include <string.h>\n",
        "#include \"main.h\"\n",
        "Member **merge_three_arrays(int num1, Member *data1[],\n",
        "                            int num2, Member *data2[],\n",
        "                            int num3, Member *data3[],\n",
        "                            CmpFunc cmp, int descending, int *num_merged){\n",
        "    Member **merged = (Member**)malloc((num1+num2+num3) * sizeof(Member*));\n",
        "    int i, j, k, p;\n",
        "    printf(\"merge_three_arrays.\\n\");\n",
        "    reset_counter();\n",
        "    i = 0; j = 0; k = 0; p = 0;\n",
        "    // ここから\n",
        "while (i < num1 || j < num2 || k < num3) {\n",
        "        Member *m1 = (i < num1) ? data1[i] : NULL;\n",
        "        Member *m2 = (j < num2) ? data2[j] : NULL;\n",
        "        Member *m3 = (k < num3) ? data3[k] : NULL;\n",
        "\n",
        "        Member *min_member = NULL;\n",
        "        int source = -1;\n",
        "\n",
        "        if (m1 != NULL) {\n",
        "            min_member = m1;\n",
        "            source = 1;\n",
        "        }\n",
        "        if (m2 != NULL && (min_member == NULL || cmp(m2, min_member, descending) < 0)) {\n",
        "            min_member = m2;\n",
        "            source = 2;\n",
        "        }\n",
        "        if (m3 != NULL && (min_member == NULL || cmp(m3, min_member, descending) < 0)) {\n",
        "            min_member = m3;\n",
        "            source = 3;\n",
        "        }\n",
        "\n",
        "        if (source == 1) i++;\n",
        "        else if (source == 2) j++;\n",
        "        else if (source == 3) k++;\n",
        "\n",
        "        merged[p++] = min_member;\n",
        "        ctr.move++;\n",
        "        ctr.compare += 2;  // 2回の比較が最大で起こるため\n",
        "    }\n",
        "\n",
        "    // ここまでを埋める\n",
        "    *num_merged = num1 + num2 + num3;\n",
        "    free(data1);\n",
        "    free(data2);\n",
        "    free(data3);\n",
        "    return merged;\n",
        "}"
      ],
      "metadata": {
        "id": "N0RyuDlFR9xO",
        "colab": {
          "base_uri": "https://localhost:8080/"
        },
        "outputId": "711b0560-d20d-4ae4-8b0d-d16e4ec8a56f"
      },
      "execution_count": 80,
      "outputs": [
        {
          "output_type": "stream",
          "name": "stdout",
          "text": [
            "Overwriting merge_three_arrays.c\n"
          ]
        }
      ]
    },
    {
      "cell_type": "markdown",
      "source": [
        "###メインプログラム"
      ],
      "metadata": {
        "id": "1nPFQK5lR9xI"
      }
    },
    {
      "cell_type": "code",
      "source": [
        "%%file test4.c\n",
        "#include <stdio.h>\n",
        "#include <stdlib.h>\n",
        "#include <string.h>\n",
        "#include \"main.h\"\n",
        "\n",
        "int main(void) {\n",
        "    Member **member_array_1, **member_array_2, **member_array_3, **merged_array;\n",
        "    int num_members_1, num_members_2, num_members_3, num_merged;\n",
        "\n",
        "    // メンバー1の読み込み\n",
        "    member_array_1 = init_members_from_file(\"members.csv\", &num_members_1);\n",
        "\n",
        "    printf(\"initial 1:\\n\");\n",
        "    printarray(num_members_1, member_array_1);\n",
        "\n",
        "    // メンバー2の読み込み\n",
        "    member_array_2 = init_members_from_file(\"members3.csv\", &num_members_2);\n",
        "\n",
        "    printf(\"initial 2:\\n\");\n",
        "    printarray(num_members_2, member_array_2);\n",
        "\n",
        "    // メンバー3の読み込み\n",
        "    member_array_3 = init_members_from_file(\"members4.csv\", &num_members_3);\n",
        "\n",
        "    printf(\"initial 3:\\n\");\n",
        "    printarray(num_members_3, member_array_3);\n",
        "\n",
        "    // 名前の読み(yomi)順にソート\n",
        "    LAUNCH_SORT(num_members_1, member_array_1, quick_sort, compare_by_yomi, 0);\n",
        "    printarray(num_members_1, member_array_1);\n",
        "    print_counter();\n",
        "\n",
        "    // 名前の読み(yomi)順にソート\n",
        "    LAUNCH_SORT(num_members_2, member_array_2, quick_sort, compare_by_yomi, 0);\n",
        "    printarray(num_members_2, member_array_2);\n",
        "    print_counter();\n",
        "\n",
        "    // 名前の読み(yomi)順にソート\n",
        "    LAUNCH_SORT(num_members_3, member_array_3, quick_sort, compare_by_yomi, 0);\n",
        "    printarray(num_members_3, member_array_3);\n",
        "    print_counter();\n",
        "\n",
        "    // 3つの配列をマージ\n",
        "    printf(\"\\n\");\n",
        "    merged_array = merge_three_arrays(num_members_1, member_array_1,\n",
        "                                      num_members_2, member_array_2,\n",
        "                                      num_members_3, member_array_3,\n",
        "                                      compare_by_yomi, 0, &num_merged);\n",
        "    printf(\"num_merged = %d\\n\", num_merged);\n",
        "    printarray(num_merged, merged_array);\n",
        "    print_counter();\n",
        "\n",
        "    return 0;\n",
        "}"
      ],
      "metadata": {
        "id": "wAcU2gYuR9xO",
        "colab": {
          "base_uri": "https://localhost:8080/"
        },
        "outputId": "77950a64-2cd4-4da7-a88c-0294f11d8f44"
      },
      "execution_count": 81,
      "outputs": [
        {
          "output_type": "stream",
          "name": "stdout",
          "text": [
            "Overwriting test4.c\n"
          ]
        }
      ]
    },
    {
      "cell_type": "markdown",
      "source": [
        "###追加メンバ定義"
      ],
      "metadata": {
        "id": "pt0V2A7a6-3M"
      }
    },
    {
      "cell_type": "code",
      "source": [
        "%%file members4.csv\n",
        "12\n",
        "錆兎,サビト,鬼殺,水,13,155.0,45\n",
        "胡蝶カナエ,コチョウカナエ,柱,花,22,148.5,50\n",
        "珠世,タマヨ,鬼殺,鬼,600,152.5,30\n",
        "愈史郎,ユシロウ,鬼殺,鬼,200,148.0,25\n",
        "鱗滝左近次,ウロコダキサコンジ,育手,水,55,170.5,60\n",
        "桑島慈悟郎,クワジマジゴロウ,育手,雷,60,165.5,50\n",
        "煉獄愼寿郎,レンゴクシンジュロウ,柱,炎,45,175.5,60\n",
        "鋼鐵塚蛍,ハガネヅカホタル,刀鍛冶,刀,26,175.0,10\n",
        "産屋敷耀哉,ウブヤシキカガヤ,鬼殺,館,35,168.0,10\n",
        "鉄穴森鋼造,カナモリコウゾウ,刀鍛冶,刀,28,168.0,10\n",
        "継国縁壱,ツグクニヨリイチ,柱,日,82,182.5,500\n",
        "鉄地河原鉄珍,テッチカワハラテッチン,刀鍛冶,刀,56,148.0,10"
      ],
      "metadata": {
        "id": "lKgG5sZeWHnl",
        "colab": {
          "base_uri": "https://localhost:8080/"
        },
        "outputId": "8652fc36-71ba-46f1-d58b-e8345ed87d18"
      },
      "execution_count": 82,
      "outputs": [
        {
          "output_type": "stream",
          "name": "stdout",
          "text": [
            "Overwriting members4.csv\n"
          ]
        }
      ]
    },
    {
      "cell_type": "markdown",
      "source": [
        "###コンパイル（test4.c）＆リンク"
      ],
      "metadata": {
        "id": "ytpW08KsR9xO"
      }
    },
    {
      "cell_type": "code",
      "source": [
        "!gcc merge_three_arrays.c -c\n",
        "!gcc test4.c -c\n",
        "!gcc tool.o compare.o bubble_sort.o bubble2_sort.o shaker_sort.o insert_sort.o select_sort.o quick_sort.o heap_sort.o merge_sort.o merge_two_arrays.o merge_three_arrays.o test4.o -o test4"
      ],
      "metadata": {
        "id": "cy7zeAUXR9xO"
      },
      "execution_count": 83,
      "outputs": []
    },
    {
      "cell_type": "markdown",
      "source": [
        "###実行"
      ],
      "metadata": {
        "id": "AET4YDgrR9xP"
      }
    },
    {
      "cell_type": "code",
      "source": [
        "!./test4"
      ],
      "metadata": {
        "id": "vv89ziHOR9xP",
        "colab": {
          "base_uri": "https://localhost:8080/"
        },
        "outputId": "b376cc2b-78c6-44a9-9fe8-82cf3ea941a7"
      },
      "execution_count": 84,
      "outputs": [
        {
          "output_type": "stream",
          "name": "stdout",
          "text": [
            "initial 1:\n",
            "竈門炭治郎(カマドタンジロウ): 年齢:16, 身長:165.0, 強さ:40, 所属:蒲鉾, 属性:水\n",
            "冨岡義勇(トミオカギユウ): 年齢:21, 身長:176.0, 強さ:80, 所属:柱, 属性:水\n",
            "竈門禰豆子(カマドネズコ): 年齢:14, 身長:150.0, 強さ:30, 所属:蒲鉾, 属性:鬼\n",
            "我妻善逸(アガツマゼンイツ): 年齢:16, 身長:164.5, 強さ:40, 所属:蒲鉾, 属性:雷\n",
            "栗花落カナヲ(ツユリカナヲ): 年齢:16, 身長:156.0, 強さ:50, 所属:五感, 属性:花\n",
            "嘴平伊之助(ハシビライノスケ): 年齢:15, 身長:164.0, 強さ:40, 所属:蒲鉾, 属性:獣\n",
            "胡蝶しのぶ(コチョウシノブ): 年齢:18, 身長:151.0, 強さ:70, 所属:柱, 属性:蟲\n",
            "煉獄杏寿郎(レンゴクキョウジュロウ): 年齢:20, 身長:177.0, 強さ:80, 所属:柱, 属性:炎\n",
            "宇随天元(ウズイテンゲン): 年齢:23, 身長:198.0, 強さ:80, 所属:柱, 属性:音\n",
            "時透無一郎(トキトウムイチロウ): 年齢:14, 身長:160.0, 強さ:90, 所属:柱, 属性:霞\n",
            "甘露寺蜜璃(カンロジミツリ): 年齢:19, 身長:167.0, 強さ:70, 所属:柱, 属性:恋\n",
            "伊黒小芭内(イグロオバナイ): 年齢:21, 身長:162.0, 強さ:70, 所属:柱, 属性:蛇\n",
            "不死川玄弥(シナズガワゲンヤ): 年齢:16, 身長:180.0, 強さ:30, 所属:五感, 属性:鬼\n",
            "不死川実弥(シナズガワサネミ): 年齢:21, 身長:179.0, 強さ:90, 所属:柱, 属性:風\n",
            "悲鳴嶋行冥(ヒメジマギョウメイ): 年齢:27, 身長:220.0, 強さ:100, 所属:柱, 属性:岩\n",
            "initial 2:\n",
            "鬼舞辻無惨(キブツジムザン): 年齢:1100, 身長:185.0, 強さ:1000, 所属:始祖, 属性:鬼\n",
            "塁(ルイ): 年齢:150, 身長:148.0, 強さ:50, 所属:下弦, 属性:鬼\n",
            "轆轤(ロクロ): 年齢:200, 身長:172.5, 強さ:45, 所属:下弦, 属性:鬼\n",
            "病葉(ワクラバ): 年齢:180, 身長:165.0, 強さ:40, 所属:下弦, 属性:鬼\n",
            "零余子(ムカゴ): 年齢:160, 身長:152.5, 強さ:35, 所属:下弦, 属性:鬼\n",
            "釜鵺(カマヌエ): 年齢:190, 身長:168.5, 強さ:30, 所属:下弦, 属性:鬼\n",
            "猗窩座(アカザ): 年齢:600, 身長:172.5, 強さ:300, 所属:上弦, 属性:鬼\n",
            "魘夢(エンム): 年齢:150, 身長:168.0, 強さ:80, 所属:下弦, 属性:鬼\n",
            "童磨(ドウマ): 年齢:300, 身長:174.4, 強さ:400, 所属:上弦, 属性:鬼\n",
            "妓夫太郎(ギュウタロウ): 年齢:200, 身長:173.5, 強さ:180, 所属:上弦, 属性:鬼\n",
            "堕姫(ダキ): 年齢:192, 身長:155.5, 強さ:160, 所属:上弦, 属性:鬼\n",
            "半天狗(ハンテング): 年齢:400, 身長:169.5, 強さ:250, 所属:上弦, 属性:鬼\n",
            "玉壺(ギョッコ): 年齢:300, 身長:155.0, 強さ:200, 所属:上弦, 属性:鬼\n",
            "黒死牟(コクシボウ): 年齢:1000, 身長:180.0, 強さ:500, 所属:上弦, 属性:鬼\n",
            "鳴女(ナキメ): 年齢:200, 身長:155.0, 強さ:30, 所属:上弦, 属性:鬼\n",
            "獪岳(カイガク): 年齢:30, 身長:167.0, 強さ:160, 所属:上弦, 属性:鬼\n",
            "initial 3:\n",
            "錆兎(サビト): 年齢:13, 身長:155.0, 強さ:45, 所属:鬼殺, 属性:水\n",
            "胡蝶カナエ(コチョウカナエ): 年齢:22, 身長:148.5, 強さ:50, 所属:柱, 属性:花\n",
            "珠世(タマヨ): 年齢:600, 身長:152.5, 強さ:30, 所属:鬼殺, 属性:鬼\n",
            "愈史郎(ユシロウ): 年齢:200, 身長:148.0, 強さ:25, 所属:鬼殺, 属性:鬼\n",
            "鱗滝左近次(ウロコダキサコンジ): 年齢:55, 身長:170.5, 強さ:60, 所属:育手, 属性:水\n",
            "桑島慈悟郎(クワジマジゴロウ): 年齢:60, 身長:165.5, 強さ:50, 所属:育手, 属性:雷\n",
            "煉獄愼寿郎(レンゴクシンジュロウ): 年齢:45, 身長:175.5, 強さ:60, 所属:柱, 属性:炎\n",
            "鋼鐵塚蛍(ハガネヅカホタル): 年齢:26, 身長:175.0, 強さ:10, 所属:刀鍛冶, 属性:刀\n",
            "産屋敷耀哉(ウブヤシキカガヤ): 年齢:35, 身長:168.0, 強さ:10, 所属:鬼殺, 属性:館\n",
            "鉄穴森鋼造(カナモリコウゾウ): 年齢:28, 身長:168.0, 強さ:10, 所属:刀鍛冶, 属性:刀\n",
            "継国縁壱(ツグクニヨリイチ): 年齢:82, 身長:182.5, 強さ:500, 所属:柱, 属性:日\n",
            "鉄地河原鉄珍(テッチカワハラテッチン): 年齢:56, 身長:148.0, 強さ:10, 所属:刀鍛冶, 属性:刀\n",
            "\n",
            "quick_sort with compare_by_yomi(ascending)\n",
            "我妻善逸(アガツマゼンイツ): 年齢:16, 身長:164.5, 強さ:40, 所属:蒲鉾, 属性:雷\n",
            "伊黒小芭内(イグロオバナイ): 年齢:21, 身長:162.0, 強さ:70, 所属:柱, 属性:蛇\n",
            "宇随天元(ウズイテンゲン): 年齢:23, 身長:198.0, 強さ:80, 所属:柱, 属性:音\n",
            "竈門炭治郎(カマドタンジロウ): 年齢:16, 身長:165.0, 強さ:40, 所属:蒲鉾, 属性:水\n",
            "竈門禰豆子(カマドネズコ): 年齢:14, 身長:150.0, 強さ:30, 所属:蒲鉾, 属性:鬼\n",
            "甘露寺蜜璃(カンロジミツリ): 年齢:19, 身長:167.0, 強さ:70, 所属:柱, 属性:恋\n",
            "胡蝶しのぶ(コチョウシノブ): 年齢:18, 身長:151.0, 強さ:70, 所属:柱, 属性:蟲\n",
            "不死川玄弥(シナズガワゲンヤ): 年齢:16, 身長:180.0, 強さ:30, 所属:五感, 属性:鬼\n",
            "不死川実弥(シナズガワサネミ): 年齢:21, 身長:179.0, 強さ:90, 所属:柱, 属性:風\n",
            "栗花落カナヲ(ツユリカナヲ): 年齢:16, 身長:156.0, 強さ:50, 所属:五感, 属性:花\n",
            "時透無一郎(トキトウムイチロウ): 年齢:14, 身長:160.0, 強さ:90, 所属:柱, 属性:霞\n",
            "冨岡義勇(トミオカギユウ): 年齢:21, 身長:176.0, 強さ:80, 所属:柱, 属性:水\n",
            "嘴平伊之助(ハシビライノスケ): 年齢:15, 身長:164.0, 強さ:40, 所属:蒲鉾, 属性:獣\n",
            "悲鳴嶋行冥(ヒメジマギョウメイ): 年齢:27, 身長:220.0, 強さ:100, 所属:柱, 属性:岩\n",
            "煉獄杏寿郎(レンゴクキョウジュロウ): 年齢:20, 身長:177.0, 強さ:80, 所属:柱, 属性:炎\n",
            "lap: compare = 71, swap = 17, move = 0\n",
            "all: compare = 71, swap = 17, move = 0\n",
            "\n",
            "quick_sort with compare_by_yomi(ascending)\n",
            "猗窩座(アカザ): 年齢:600, 身長:172.5, 強さ:300, 所属:上弦, 属性:鬼\n",
            "魘夢(エンム): 年齢:150, 身長:168.0, 強さ:80, 所属:下弦, 属性:鬼\n",
            "獪岳(カイガク): 年齢:30, 身長:167.0, 強さ:160, 所属:上弦, 属性:鬼\n",
            "釜鵺(カマヌエ): 年齢:190, 身長:168.5, 強さ:30, 所属:下弦, 属性:鬼\n",
            "鬼舞辻無惨(キブツジムザン): 年齢:1100, 身長:185.0, 強さ:1000, 所属:始祖, 属性:鬼\n",
            "妓夫太郎(ギュウタロウ): 年齢:200, 身長:173.5, 強さ:180, 所属:上弦, 属性:鬼\n",
            "玉壺(ギョッコ): 年齢:300, 身長:155.0, 強さ:200, 所属:上弦, 属性:鬼\n",
            "黒死牟(コクシボウ): 年齢:1000, 身長:180.0, 強さ:500, 所属:上弦, 属性:鬼\n",
            "堕姫(ダキ): 年齢:192, 身長:155.5, 強さ:160, 所属:上弦, 属性:鬼\n",
            "童磨(ドウマ): 年齢:300, 身長:174.4, 強さ:400, 所属:上弦, 属性:鬼\n",
            "鳴女(ナキメ): 年齢:200, 身長:155.0, 強さ:30, 所属:上弦, 属性:鬼\n",
            "半天狗(ハンテング): 年齢:400, 身長:169.5, 強さ:250, 所属:上弦, 属性:鬼\n",
            "零余子(ムカゴ): 年齢:160, 身長:152.5, 強さ:35, 所属:下弦, 属性:鬼\n",
            "塁(ルイ): 年齢:150, 身長:148.0, 強さ:50, 所属:下弦, 属性:鬼\n",
            "轆轤(ロクロ): 年齢:200, 身長:172.5, 強さ:45, 所属:下弦, 属性:鬼\n",
            "病葉(ワクラバ): 年齢:180, 身長:165.0, 強さ:40, 所属:下弦, 属性:鬼\n",
            "lap: compare = 81, swap = 19, move = 0\n",
            "all: compare = 152, swap = 36, move = 0\n",
            "\n",
            "quick_sort with compare_by_yomi(ascending)\n",
            "産屋敷耀哉(ウブヤシキカガヤ): 年齢:35, 身長:168.0, 強さ:10, 所属:鬼殺, 属性:館\n",
            "鱗滝左近次(ウロコダキサコンジ): 年齢:55, 身長:170.5, 強さ:60, 所属:育手, 属性:水\n",
            "鉄穴森鋼造(カナモリコウゾウ): 年齢:28, 身長:168.0, 強さ:10, 所属:刀鍛冶, 属性:刀\n",
            "桑島慈悟郎(クワジマジゴロウ): 年齢:60, 身長:165.5, 強さ:50, 所属:育手, 属性:雷\n",
            "胡蝶カナエ(コチョウカナエ): 年齢:22, 身長:148.5, 強さ:50, 所属:柱, 属性:花\n",
            "錆兎(サビト): 年齢:13, 身長:155.0, 強さ:45, 所属:鬼殺, 属性:水\n",
            "珠世(タマヨ): 年齢:600, 身長:152.5, 強さ:30, 所属:鬼殺, 属性:鬼\n",
            "継国縁壱(ツグクニヨリイチ): 年齢:82, 身長:182.5, 強さ:500, 所属:柱, 属性:日\n",
            "鉄地河原鉄珍(テッチカワハラテッチン): 年齢:56, 身長:148.0, 強さ:10, 所属:刀鍛冶, 属性:刀\n",
            "鋼鐵塚蛍(ハガネヅカホタル): 年齢:26, 身長:175.0, 強さ:10, 所属:刀鍛冶, 属性:刀\n",
            "愈史郎(ユシロウ): 年齢:200, 身長:148.0, 強さ:25, 所属:鬼殺, 属性:鬼\n",
            "煉獄愼寿郎(レンゴクシンジュロウ): 年齢:45, 身長:175.5, 強さ:60, 所属:柱, 属性:炎\n",
            "lap: compare = 51, swap = 17, move = 0\n",
            "all: compare = 203, swap = 53, move = 0\n",
            "\n",
            "merge_three_arrays.\n",
            "num_merged = 43\n",
            "猗窩座(アカザ): 年齢:600, 身長:172.5, 強さ:300, 所属:上弦, 属性:鬼\n",
            "我妻善逸(アガツマゼンイツ): 年齢:16, 身長:164.5, 強さ:40, 所属:蒲鉾, 属性:雷\n",
            "伊黒小芭内(イグロオバナイ): 年齢:21, 身長:162.0, 強さ:70, 所属:柱, 属性:蛇\n",
            "宇随天元(ウズイテンゲン): 年齢:23, 身長:198.0, 強さ:80, 所属:柱, 属性:音\n",
            "産屋敷耀哉(ウブヤシキカガヤ): 年齢:35, 身長:168.0, 強さ:10, 所属:鬼殺, 属性:館\n",
            "鱗滝左近次(ウロコダキサコンジ): 年齢:55, 身長:170.5, 強さ:60, 所属:育手, 属性:水\n",
            "魘夢(エンム): 年齢:150, 身長:168.0, 強さ:80, 所属:下弦, 属性:鬼\n",
            "獪岳(カイガク): 年齢:30, 身長:167.0, 強さ:160, 所属:上弦, 属性:鬼\n",
            "鉄穴森鋼造(カナモリコウゾウ): 年齢:28, 身長:168.0, 強さ:10, 所属:刀鍛冶, 属性:刀\n",
            "竈門炭治郎(カマドタンジロウ): 年齢:16, 身長:165.0, 強さ:40, 所属:蒲鉾, 属性:水\n",
            "竈門禰豆子(カマドネズコ): 年齢:14, 身長:150.0, 強さ:30, 所属:蒲鉾, 属性:鬼\n",
            "釜鵺(カマヌエ): 年齢:190, 身長:168.5, 強さ:30, 所属:下弦, 属性:鬼\n",
            "甘露寺蜜璃(カンロジミツリ): 年齢:19, 身長:167.0, 強さ:70, 所属:柱, 属性:恋\n",
            "鬼舞辻無惨(キブツジムザン): 年齢:1100, 身長:185.0, 強さ:1000, 所属:始祖, 属性:鬼\n",
            "妓夫太郎(ギュウタロウ): 年齢:200, 身長:173.5, 強さ:180, 所属:上弦, 属性:鬼\n",
            "玉壺(ギョッコ): 年齢:300, 身長:155.0, 強さ:200, 所属:上弦, 属性:鬼\n",
            "桑島慈悟郎(クワジマジゴロウ): 年齢:60, 身長:165.5, 強さ:50, 所属:育手, 属性:雷\n",
            "黒死牟(コクシボウ): 年齢:1000, 身長:180.0, 強さ:500, 所属:上弦, 属性:鬼\n",
            "胡蝶カナエ(コチョウカナエ): 年齢:22, 身長:148.5, 強さ:50, 所属:柱, 属性:花\n",
            "胡蝶しのぶ(コチョウシノブ): 年齢:18, 身長:151.0, 強さ:70, 所属:柱, 属性:蟲\n",
            "錆兎(サビト): 年齢:13, 身長:155.0, 強さ:45, 所属:鬼殺, 属性:水\n",
            "不死川玄弥(シナズガワゲンヤ): 年齢:16, 身長:180.0, 強さ:30, 所属:五感, 属性:鬼\n",
            "不死川実弥(シナズガワサネミ): 年齢:21, 身長:179.0, 強さ:90, 所属:柱, 属性:風\n",
            "珠世(タマヨ): 年齢:600, 身長:152.5, 強さ:30, 所属:鬼殺, 属性:鬼\n",
            "堕姫(ダキ): 年齢:192, 身長:155.5, 強さ:160, 所属:上弦, 属性:鬼\n",
            "継国縁壱(ツグクニヨリイチ): 年齢:82, 身長:182.5, 強さ:500, 所属:柱, 属性:日\n",
            "栗花落カナヲ(ツユリカナヲ): 年齢:16, 身長:156.0, 強さ:50, 所属:五感, 属性:花\n",
            "鉄地河原鉄珍(テッチカワハラテッチン): 年齢:56, 身長:148.0, 強さ:10, 所属:刀鍛冶, 属性:刀\n",
            "時透無一郎(トキトウムイチロウ): 年齢:14, 身長:160.0, 強さ:90, 所属:柱, 属性:霞\n",
            "冨岡義勇(トミオカギユウ): 年齢:21, 身長:176.0, 強さ:80, 所属:柱, 属性:水\n",
            "童磨(ドウマ): 年齢:300, 身長:174.4, 強さ:400, 所属:上弦, 属性:鬼\n",
            "鳴女(ナキメ): 年齢:200, 身長:155.0, 強さ:30, 所属:上弦, 属性:鬼\n",
            "鋼鐵塚蛍(ハガネヅカホタル): 年齢:26, 身長:175.0, 強さ:10, 所属:刀鍛冶, 属性:刀\n",
            "嘴平伊之助(ハシビライノスケ): 年齢:15, 身長:164.0, 強さ:40, 所属:蒲鉾, 属性:獣\n",
            "半天狗(ハンテング): 年齢:400, 身長:169.5, 強さ:250, 所属:上弦, 属性:鬼\n",
            "悲鳴嶋行冥(ヒメジマギョウメイ): 年齢:27, 身長:220.0, 強さ:100, 所属:柱, 属性:岩\n",
            "零余子(ムカゴ): 年齢:160, 身長:152.5, 強さ:35, 所属:下弦, 属性:鬼\n",
            "愈史郎(ユシロウ): 年齢:200, 身長:148.0, 強さ:25, 所属:鬼殺, 属性:鬼\n",
            "塁(ルイ): 年齢:150, 身長:148.0, 強さ:50, 所属:下弦, 属性:鬼\n",
            "煉獄杏寿郎(レンゴクキョウジュロウ): 年齢:20, 身長:177.0, 強さ:80, 所属:柱, 属性:炎\n",
            "煉獄愼寿郎(レンゴクシンジュロウ): 年齢:45, 身長:175.5, 強さ:60, 所属:柱, 属性:炎\n",
            "轆轤(ロクロ): 年齢:200, 身長:172.5, 強さ:45, 所属:下弦, 属性:鬼\n",
            "病葉(ワクラバ): 年齢:180, 身長:165.0, 強さ:40, 所属:下弦, 属性:鬼\n",
            "lap: compare = 86, swap = 0, move = 43\n",
            "all: compare = 289, swap = 53, move = 43\n"
          ]
        }
      ]
    }
  ]
}