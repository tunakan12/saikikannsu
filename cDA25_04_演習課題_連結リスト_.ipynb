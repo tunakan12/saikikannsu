{
  "nbformat": 4,
  "nbformat_minor": 0,
  "metadata": {
    "colab": {
      "provenance": [],
      "collapsed_sections": [
        "yqPWz-Nik-Am",
        "FY4tnX9RfZ5V",
        "KkUoW7KFfh5P",
        "ljxGCzH8flTb",
        "KZSC9mk8igrZ",
        "izjceUekfwYh",
        "phi0jxW-f2bf",
        "zf-EzRFPf4-A",
        "QyF8Kv_jf-zQ",
        "TgunuTH2gFGw",
        "XerY0eQTlj5c",
        "RwUoxr2BgLR5",
        "VBVRw6xlgS1W",
        "wmj7QUrkxwzM",
        "bBKknOfI5DaJ",
        "R4zUrkPnyBgS",
        "j9Y801ew0cFZ",
        "kYi7ehAb1ZS_",
        "cyhLGcLp04m8"
      ],
      "include_colab_link": true
    },
    "kernelspec": {
      "name": "python3",
      "display_name": "Python 3"
    },
    "language_info": {
      "name": "python"
    }
  },
  "cells": [
    {
      "cell_type": "markdown",
      "metadata": {
        "id": "view-in-github",
        "colab_type": "text"
      },
      "source": [
        "<a href=\"https://colab.research.google.com/github/tunakan12/saikikannsu/blob/main/cDA25_04_%E6%BC%94%E7%BF%92%E8%AA%B2%E9%A1%8C_%E9%80%A3%E7%B5%90%E3%83%AA%E3%82%B9%E3%83%88_.ipynb\" target=\"_parent\"><img src=\"https://colab.research.google.com/assets/colab-badge.svg\" alt=\"Open In Colab\"/></a>"
      ]
    },
    {
      "cell_type": "markdown",
      "source": [
        "#演習課題（第４回）連結リスト テンプレート"
      ],
      "metadata": {
        "id": "t5f1JKcaKu5H"
      }
    },
    {
      "cell_type": "markdown",
      "source": [
        "#必要な関数群（完成済）"
      ],
      "metadata": {
        "id": "yqPWz-Nik-Am"
      }
    },
    {
      "cell_type": "markdown",
      "source": [
        "##test.h"
      ],
      "metadata": {
        "id": "FY4tnX9RfZ5V"
      }
    },
    {
      "cell_type": "code",
      "source": [
        "%%file test.h\n",
        "typedef struct station {\n",
        "    char name[60]; //最大２０文字\n",
        "    float dist;\n",
        "    struct station *next;\n",
        "} Station;\n",
        "int list_print(Station *list);\n",
        "int list_free(Station *p0);\n",
        "Station *node_create(char *name, float dist);\n",
        "Station *list_init();\n",
        "Station *list_search(Station *pt, char *search_name);\n",
        "Station *list_search_distance_prev(Station *pt, float dist0);\n",
        "Station *list_search_prev(Station *pt, char *search_name);\n",
        "Station *list_insert(Station *pt, char *insert_name, float insert_dist);\n",
        "Station *list_delete(Station *pt);"
      ],
      "metadata": {
        "id": "XBYxNHxxQ5FB",
        "colab": {
          "base_uri": "https://localhost:8080/"
        },
        "outputId": "6f8b4d5a-6774-452c-e5eb-ef1a3f7038e9"
      },
      "execution_count": 17,
      "outputs": [
        {
          "output_type": "stream",
          "name": "stdout",
          "text": [
            "Overwriting test.h\n"
          ]
        }
      ]
    },
    {
      "cell_type": "markdown",
      "source": [
        "##list printing"
      ],
      "metadata": {
        "id": "KkUoW7KFfh5P"
      }
    },
    {
      "cell_type": "code",
      "source": [
        "%%file list_print.c\n",
        "//連結リストの出力\n",
        "#include<stdio.h>\n",
        "#include<stdlib.h>\n",
        "#include \"test.h\"\n",
        "int list_print(Station *list) {\n",
        "    Station *pt;\n",
        "    pt = list->next;\n",
        "    if (pt==NULL) printf(\"NULL\");\n",
        "    while (pt!=NULL) {\n",
        "        printf(\"%s(%3.1fkm) \", pt->name, pt->dist);\n",
        "        pt = pt->next;\n",
        "    }\n",
        "    printf(\"\\n\");\n",
        "    return 0;\n",
        "}"
      ],
      "metadata": {
        "id": "oX1LxlvFSdt8",
        "colab": {
          "base_uri": "https://localhost:8080/"
        },
        "outputId": "afdff541-4c14-4b09-c4f5-27c8f4da3663"
      },
      "execution_count": 18,
      "outputs": [
        {
          "output_type": "stream",
          "name": "stdout",
          "text": [
            "Overwriting list_print.c\n"
          ]
        }
      ]
    },
    {
      "cell_type": "markdown",
      "source": [
        "##list free"
      ],
      "metadata": {
        "id": "ljxGCzH8flTb"
      }
    },
    {
      "cell_type": "code",
      "source": [
        "%%file list_free.c\n",
        "//連結リストの解放\n",
        "#include<stdio.h>\n",
        "#include<stdlib.h>\n",
        "#include \"test.h\"\n",
        "int list_free(Station *p0) {\n",
        "    Station *p1;\n",
        "    while (p0!=NULL) {\n",
        "        p1 = p0->next;\n",
        "        free(p0);\n",
        "        p0 = p1;\n",
        "    }\n",
        "    return 0;\n",
        "}"
      ],
      "metadata": {
        "id": "uJ4IUKP2SvbZ",
        "colab": {
          "base_uri": "https://localhost:8080/"
        },
        "outputId": "3c775aef-f586-426a-d39b-de52954c306c"
      },
      "execution_count": 19,
      "outputs": [
        {
          "output_type": "stream",
          "name": "stdout",
          "text": [
            "Overwriting list_free.c\n"
          ]
        }
      ]
    },
    {
      "cell_type": "markdown",
      "source": [
        "##node_create"
      ],
      "metadata": {
        "id": "KZSC9mk8igrZ"
      }
    },
    {
      "cell_type": "code",
      "source": [
        "%%file node_create.c\n",
        "//ノードの生成\n",
        "#include<stdio.h>\n",
        "#include<stdlib.h>\n",
        "#include<string.h>\n",
        "#include \"test.h\"\n",
        "Station* node_create(char *name, float dist){\n",
        "    Station *node;\n",
        "    node = (Station *)malloc(sizeof(Station));\n",
        "    strncpy(node->name,name,60); //最大２０文字\n",
        "    node->dist = dist;\n",
        "    node->next = NULL;\n",
        "    return node;\n",
        "}"
      ],
      "metadata": {
        "id": "cGVxkaJzisf-",
        "colab": {
          "base_uri": "https://localhost:8080/"
        },
        "outputId": "ed7de5f4-3aaf-4fd4-8cd9-5344cc504f0b"
      },
      "execution_count": 20,
      "outputs": [
        {
          "output_type": "stream",
          "name": "stdout",
          "text": [
            "Overwriting node_create.c\n"
          ]
        }
      ]
    },
    {
      "cell_type": "markdown",
      "source": [
        "##list initialize"
      ],
      "metadata": {
        "id": "izjceUekfwYh"
      }
    },
    {
      "cell_type": "code",
      "source": [
        "%%file list_init.c\n",
        "//初期リストの生成\n",
        "#include<stdio.h>\n",
        "#include<stdlib.h>\n",
        "#include \"test.h\"\n",
        "Station *list_init() {\n",
        "    Station *list, *pt;\n",
        "    list = node_create(\"dummy\", 0.0); //ダミーノード用\n",
        "    pt = list;\n",
        "    list_insert(pt, \"東京\", 0.0);\n",
        "    pt = pt->next;\n",
        "    list_insert(pt, \"有楽町\", 0.8);\n",
        "    pt = pt->next;\n",
        "    list_insert(pt, \"新橋\", 1.9);\n",
        "    pt = pt->next;\n",
        "    list_insert(pt, \"浜松町\", 3.1);\n",
        "    pt = pt->next;\n",
        "    list_insert(pt, \"田町\", 4.6);\n",
        "    pt = pt->next;\n",
        "    list_insert(pt, \"品川\", 6.8);\n",
        "    return list;\n",
        "}"
      ],
      "metadata": {
        "id": "wlAznZK-TqJm",
        "colab": {
          "base_uri": "https://localhost:8080/"
        },
        "outputId": "752e5a6a-4089-4414-f6bd-02e2de85b9ea"
      },
      "execution_count": 21,
      "outputs": [
        {
          "output_type": "stream",
          "name": "stdout",
          "text": [
            "Overwriting list_init.c\n"
          ]
        }
      ]
    },
    {
      "cell_type": "markdown",
      "source": [
        "##list search"
      ],
      "metadata": {
        "id": "phi0jxW-f2bf"
      }
    },
    {
      "cell_type": "code",
      "source": [
        "%%file list_search.c\n",
        "//連結リストの探索\n",
        "#include<stdio.h>\n",
        "#include<stdlib.h>\n",
        "#include<string.h>\n",
        "#include \"test.h\"\n",
        "Station *list_search(Station *list, char *search_name) {\n",
        "    int flag=0;                     //判定用\n",
        "    Station *p0;\n",
        "    p0 = list->next;\n",
        "    while ((p0!=NULL)&&(flag==0)) { //ノードがなくなるか見つかるまで探索\n",
        "        if (strcmp(p0->name, search_name)==0) flag=1; //探索キーと一致したらflagをセット\n",
        "        else p0=p0->next;       //一致しなかったら，p0を次のノードに移動\n",
        "    };\n",
        "    if (flag==0) printf(\"Not found data=%s\\n\", search_name);\n",
        "    if (flag==1) printf(\"search_name=%s\\n\", p0->name);\n",
        "    return p0;                     //目的のノードを指しているp0を返す\n",
        "}"
      ],
      "metadata": {
        "id": "GcgYORecT7lX",
        "colab": {
          "base_uri": "https://localhost:8080/"
        },
        "outputId": "d0cec94e-16f0-48f2-fb92-f7704b20f1d2"
      },
      "execution_count": 22,
      "outputs": [
        {
          "output_type": "stream",
          "name": "stdout",
          "text": [
            "Overwriting list_search.c\n"
          ]
        }
      ]
    },
    {
      "cell_type": "markdown",
      "source": [
        "##list search previous node"
      ],
      "metadata": {
        "id": "zf-EzRFPf4-A"
      }
    },
    {
      "cell_type": "code",
      "source": [
        "%%file list_search_prev.c\n",
        "//連結リストの探索(探索データのひとつ前のノード)\n",
        "#include<stdio.h>\n",
        "#include<stdlib.h>\n",
        "#include<string.h>\n",
        "#include \"test.h\"\n",
        "Station *list_search_prev(Station *list, char *search_name){\n",
        "    int flag=0;    //判定用\n",
        "    Station *p0, *p1;\n",
        "    p1 = list;\n",
        "    p0 = list->next;\n",
        "    while ((p0!=NULL)&&(flag==0)) {        //ノードがなくなるか見つかるまで探索\n",
        "        if (strcmp(p0->name, search_name)==0) flag=1; //探索キーと一致したらflagをセット\n",
        "        else {p1=p0; p0=p0->next;}         //一致しなかったら，p0を次のノードに移動\n",
        "    };\n",
        "    if (flag==0) printf(\"Not found data=%s\\n\",search_name);\n",
        "    printf(\"search_prev_name=%s\\n\", p1->name);\n",
        "    return p1;    //目的のノードのひとつ前を指しているp1を返す\n",
        "}"
      ],
      "metadata": {
        "id": "WAgsYg6rUO0U",
        "colab": {
          "base_uri": "https://localhost:8080/"
        },
        "outputId": "401fb76f-9d66-4061-95b3-98bbeb02953e"
      },
      "execution_count": 23,
      "outputs": [
        {
          "output_type": "stream",
          "name": "stdout",
          "text": [
            "Overwriting list_search_prev.c\n"
          ]
        }
      ]
    },
    {
      "cell_type": "markdown",
      "source": [
        "##list insert"
      ],
      "metadata": {
        "id": "QyF8Kv_jf-zQ"
      }
    },
    {
      "cell_type": "code",
      "source": [
        "%%file list_insert.c\n",
        "//連結リストへのノードの挿入(ダミーノート利用)\n",
        "#include<stdio.h>\n",
        "#include<stdlib.h>\n",
        "#include \"test.h\"\n",
        "Station *list_insert(Station *pt, char *insert_name, float insert_dist){\n",
        "    Station *pn;\n",
        "    pn = node_create(insert_name, insert_dist);\n",
        "    pn->next=pt->next;\n",
        "    pt->next=pn;\n",
        "    printf(\"*** list_insert:%s(%3.1fkm)\\n\", pn->name, pn->dist);\n",
        "    return 0;\n",
        "}"
      ],
      "metadata": {
        "id": "CAi_GtSrUuM1",
        "colab": {
          "base_uri": "https://localhost:8080/"
        },
        "outputId": "ce286463-2ebe-4689-bb60-b18747e2d80d"
      },
      "execution_count": 24,
      "outputs": [
        {
          "output_type": "stream",
          "name": "stdout",
          "text": [
            "Overwriting list_insert.c\n"
          ]
        }
      ]
    },
    {
      "cell_type": "markdown",
      "source": [
        "##list delete"
      ],
      "metadata": {
        "id": "TgunuTH2gFGw"
      }
    },
    {
      "cell_type": "code",
      "source": [
        "%%file list_delete.c\n",
        "//連結リストからのノードの削除\n",
        "#include<stdio.h>\n",
        "#include<stdlib.h>\n",
        "#include \"test.h\"\n",
        "Station *list_delete(Station *pt){\n",
        "    Station *pd;\n",
        "    //pt->next=NULLなら削除するノードがない\n",
        "    if (pt->next==NULL) {printf(\"Can't delete\\n\"); return 0;};\n",
        "    pd=pt->next;\n",
        "    pt->next=pd->next;\n",
        "    printf(\"*** list_delete:%s(%3.1fkm)\\n\", pd->name, pd->dist);\n",
        "    free(pd);   //削除したノードを消去\n",
        "    return 0;\n",
        "}"
      ],
      "metadata": {
        "id": "tnvxYvVkU8aT",
        "colab": {
          "base_uri": "https://localhost:8080/"
        },
        "outputId": "b892777f-6cbc-4239-e944-f14a4bd28e7a"
      },
      "execution_count": 25,
      "outputs": [
        {
          "output_type": "stream",
          "name": "stdout",
          "text": [
            "Overwriting list_delete.c\n"
          ]
        }
      ]
    },
    {
      "cell_type": "markdown",
      "source": [
        "#課題１\n",
        "\n",
        "新設された高輪ゲートウェイ駅(5.9km)を田町の後ろに挿入せよ\n"
      ],
      "metadata": {
        "id": "XerY0eQTlj5c"
      }
    },
    {
      "cell_type": "markdown",
      "source": [
        "##main program\n",
        "\n",
        "[ヒント] 田町駅を探索し，高輪ゲートウェイ駅を挿入する"
      ],
      "metadata": {
        "id": "RwUoxr2BgLR5"
      }
    },
    {
      "cell_type": "code",
      "source": [
        "%%file main1.c\n",
        "//メインプログラム\n",
        "#include<stdio.h>\n",
        "#include<stdlib.h>\n",
        "#include \"test.h\"\n",
        "int main(void){\n",
        "    int listmax=20;\n",
        "    Station *list, *pt;\n",
        "    list = list_init();\n",
        "    list_print(list);\n",
        "    //課題１：\n",
        "    printf(\"\\n課題１\\n\");\n",
        "    //\n",
        "    //list_search.c \"町田\";\n",
        "\n",
        "    //\n",
        "    list_print(list);\n",
        "    return 0;\n",
        "}"
      ],
      "metadata": {
        "id": "OOuorP9KyvlE",
        "colab": {
          "base_uri": "https://localhost:8080/"
        },
        "outputId": "bd57c8c8-07b1-4224-a1c7-29706f171d56"
      },
      "execution_count": 28,
      "outputs": [
        {
          "output_type": "stream",
          "name": "stdout",
          "text": [
            "Overwriting main1.c\n"
          ]
        }
      ]
    },
    {
      "cell_type": "markdown",
      "source": [
        "##コンパイル＆リンク＆実行"
      ],
      "metadata": {
        "id": "VBVRw6xlgS1W"
      }
    },
    {
      "cell_type": "code",
      "source": [
        "!gcc list_print.c -c\n",
        "!gcc list_free.c -c\n",
        "!gcc node_create.c -c\n",
        "!gcc list_init.c -c\n",
        "!gcc list_search.c -c\n",
        "!gcc list_search_prev.c -c\n",
        "!gcc list_insert.c -c\n",
        "!gcc list_delete.c -c\n",
        "!gcc main1.c -c\n",
        "!gcc list_print.o list_free.o node_create.o list_init.o list_search.o list_search_prev.o list_insert.o list_delete.o main1.o -o main1\n",
        "!./main1"
      ],
      "metadata": {
        "id": "LXa9q6k7Vgbo",
        "colab": {
          "base_uri": "https://localhost:8080/"
        },
        "outputId": "c70099c4-dd84-4293-faba-151fe188e680"
      },
      "execution_count": 29,
      "outputs": [
        {
          "output_type": "stream",
          "name": "stdout",
          "text": [
            "*** list_insert:東京(0.0km)\n",
            "*** list_insert:有楽町(0.8km)\n",
            "*** list_insert:新橋(1.9km)\n",
            "*** list_insert:浜松町(3.1km)\n",
            "*** list_insert:田町(4.6km)\n",
            "*** list_insert:品川(6.8km)\n",
            "東京(0.0km) 有楽町(0.8km) 新橋(1.9km) 浜松町(3.1km) 田町(4.6km) 品川(6.8km) \n",
            "\n",
            "課題１\n",
            "東京(0.0km) 有楽町(0.8km) 新橋(1.9km) 浜松町(3.1km) 田町(4.6km) 品川(6.8km) \n"
          ]
        }
      ]
    },
    {
      "cell_type": "markdown",
      "source": [
        "#課題２\n",
        "\n",
        "この区間の快速が止まらない新橋駅，有楽町駅を削除せよ"
      ],
      "metadata": {
        "id": "wmj7QUrkxwzM"
      }
    },
    {
      "cell_type": "markdown",
      "source": [
        "##main program\n",
        "\n",
        "[ヒント] 新橋駅のひとつ前の駅を探索し，それをもとに、新橋駅を削除する．\n",
        "\n",
        "[ヒント] 続けて，有楽町駅のひとつ前の駅を探索し，それをもとに、有楽町駅を削除する．"
      ],
      "metadata": {
        "id": "bBKknOfI5DaJ"
      }
    },
    {
      "cell_type": "code",
      "source": [
        "%%file main2.c\n",
        "//メインプログラム\n",
        "#include<stdio.h>\n",
        "#include<stdlib.h>\n",
        "#include \"test.h\"\n",
        "int main(void){\n",
        "    int listmax=20;\n",
        "    Station *list, *pt;\n",
        "    list = list_init();\n",
        "    list_print(list);\n",
        "    //課題２：\n",
        "    printf(\"\\n課題２\\n\");\n",
        "    //\n",
        "    //課題２の操作を書き込む\n",
        "    //\n",
        "    list_print(list);\n",
        "    return 0;\n",
        "}"
      ],
      "metadata": {
        "id": "alt4ngVVx05t",
        "colab": {
          "base_uri": "https://localhost:8080/"
        },
        "outputId": "be93bd08-ffdc-41a9-af29-8cf74a8f4324"
      },
      "execution_count": 12,
      "outputs": [
        {
          "output_type": "stream",
          "name": "stdout",
          "text": [
            "Writing main2.c\n"
          ]
        }
      ]
    },
    {
      "cell_type": "markdown",
      "source": [
        "##コンパイル＆リンク＆実行"
      ],
      "metadata": {
        "id": "R4zUrkPnyBgS"
      }
    },
    {
      "cell_type": "code",
      "source": [
        "#\n",
        "#課題１から対象とするメインプログラムをmain1からmain2に切り替える\n",
        "#"
      ],
      "metadata": {
        "id": "YxaJvl8syBQ7"
      },
      "execution_count": 13,
      "outputs": []
    },
    {
      "cell_type": "markdown",
      "source": [
        "#発展課題\n",
        "\n",
        "新設ノード（新設駅）の「距離」から挿入場所を見つける関数\n",
        "\n",
        "list_search_distance_prev.cを作成せよ\n",
        "\n",
        "この関数を利用して，距離をキーにして，リストに新駅を挿入せよ\n"
      ],
      "metadata": {
        "id": "j9Y801ew0cFZ"
      }
    },
    {
      "cell_type": "markdown",
      "source": [
        "##list search previous node (for distance)"
      ],
      "metadata": {
        "id": "kYi7ehAb1ZS_"
      }
    },
    {
      "cell_type": "code",
      "source": [
        "%%file list_search_distance_prev.c\n",
        "//[操作]\n",
        "//連結リストの探索(探索データのひとつ前のノード)\n",
        "//指定した(東京駅からの)距離[dist0]を用いて，\n",
        "//dist0より(同)距離が大きいノードを探索し，\n",
        "//そのひとつ前のノードを指すポインタを返す関数\n",
        "//[入力]\n",
        "//list(Station型のポインタ)：探索対象のリストのポインタ\n",
        "//dist0(float型): 探索する(東京駅からの)距離\n",
        "//[出力]\n",
        "//p1(Station型のポインタ)：探索したノードのひとつ前のノードを指すポインタ\n",
        "#include<stdio.h>\n",
        "#include<stdlib.h>\n",
        "#include \"test.h\"\n",
        "Station *list_search_distance_prev(Station *list, float dist0){\n",
        "    int flag=0;    //判定用\n",
        "    Station *p0, *p1;\n",
        "    p1 = list;\n",
        "    p0 = list->next;\n",
        "    //\n",
        "    //「関数list_search_prev.cを参考にして, プログラムを完成せよ」\n",
        "    //\n",
        "    return p1;    //目的のノードのひとつ前を指しているp1を返す\n",
        "}"
      ],
      "metadata": {
        "colab": {
          "base_uri": "https://localhost:8080/"
        },
        "id": "KYcBC6eq0zJE",
        "outputId": "85c8d455-faa1-4604-a50e-4b45912d55e6"
      },
      "execution_count": 14,
      "outputs": [
        {
          "output_type": "stream",
          "name": "stdout",
          "text": [
            "Writing list_search_distance_prev.c\n"
          ]
        }
      ]
    },
    {
      "cell_type": "markdown",
      "source": [
        "発展課題は，追加する駅名，場所(東京からの距離)は任意です．\n",
        "\n",
        "ここでは，田町駅の南側に，泉岳寺を設置しました．\n",
        "地下鉄との接続もあるし，一応，赤穂浪士で有名です．"
      ],
      "metadata": {
        "id": "QEzuq7bG9IRa"
      }
    },
    {
      "cell_type": "code",
      "source": [
        "%%file main3.c\n",
        "//メインプログラム\n",
        "#include<stdio.h>\n",
        "#include<stdlib.h>\n",
        "#include \"test.h\"\n",
        "int main(void){\n",
        "    int listmax=20;\n",
        "    Station *list, *pt;\n",
        "    list = list_init();\n",
        "    list_print(list);\n",
        "    //発展課題：\n",
        "    printf(\"\\n発展課題\\n\");\n",
        "    //\n",
        "    //発展課題の操作を書き込む\n",
        "    //\n",
        "    list_print(list);\n",
        "    list_free(list);\n",
        "    return 0;\n",
        "}"
      ],
      "metadata": {
        "id": "LU1KIDX015B-",
        "colab": {
          "base_uri": "https://localhost:8080/"
        },
        "outputId": "d5319e54-9906-4181-81b3-24d652ef114a"
      },
      "execution_count": 15,
      "outputs": [
        {
          "output_type": "stream",
          "name": "stdout",
          "text": [
            "Writing main3.c\n"
          ]
        }
      ]
    },
    {
      "cell_type": "markdown",
      "source": [
        "##コンパイル＆リンク＆実行"
      ],
      "metadata": {
        "id": "cyhLGcLp04m8"
      }
    },
    {
      "cell_type": "code",
      "source": [
        "#\n",
        "#list_search_distance_prev.cをコンパイル対象に加える\n",
        "#課題２から対象とするメインプログラムをmain3に切り替える\n",
        "#"
      ],
      "metadata": {
        "id": "vHWm1pDH03r_"
      },
      "execution_count": 16,
      "outputs": []
    }
  ]
}